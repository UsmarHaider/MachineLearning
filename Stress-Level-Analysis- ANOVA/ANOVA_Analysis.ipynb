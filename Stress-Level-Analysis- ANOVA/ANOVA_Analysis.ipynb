{
 "cells": [
  {
   "cell_type": "markdown",
   "id": "4b38dabf",
   "metadata": {},
   "source": [
    "## **Dataset-Link**\n",
    "\n",
    "https://www.kaggle.com/datasets/rxnach/student-stress-factors-a-comprehensive-analysis\n"
   ]
  },
  {
   "cell_type": "markdown",
   "id": "eea313e1",
   "metadata": {},
   "source": [
    "# Task 1: Analysis of Variance (ANOVA)\n"
   ]
  },
  {
   "cell_type": "markdown",
   "id": "533d07b8",
   "metadata": {},
   "source": [
    "## Objective\n",
    "\n",
    "Apply ANOVA to determine if there is a significant difference in the mean of the dependent variable across different levels of a categorical variable.\n"
   ]
  },
  {
   "cell_type": "markdown",
   "id": "bec68d2a",
   "metadata": {},
   "source": [
    "### Data Exploration\n"
   ]
  },
  {
   "cell_type": "code",
   "execution_count": 1,
   "id": "f87ff5b8",
   "metadata": {},
   "outputs": [
    {
     "data": {
      "text/html": [
       "<div>\n",
       "<style scoped>\n",
       "    .dataframe tbody tr th:only-of-type {\n",
       "        vertical-align: middle;\n",
       "    }\n",
       "\n",
       "    .dataframe tbody tr th {\n",
       "        vertical-align: top;\n",
       "    }\n",
       "\n",
       "    .dataframe thead th {\n",
       "        text-align: right;\n",
       "    }\n",
       "</style>\n",
       "<table border=\"1\" class=\"dataframe\">\n",
       "  <thead>\n",
       "    <tr style=\"text-align: right;\">\n",
       "      <th></th>\n",
       "      <th>anxiety_level</th>\n",
       "      <th>self_esteem</th>\n",
       "      <th>mental_health_history</th>\n",
       "      <th>depression</th>\n",
       "      <th>headache</th>\n",
       "      <th>blood_pressure</th>\n",
       "      <th>sleep_quality</th>\n",
       "      <th>breathing_problem</th>\n",
       "      <th>noise_level</th>\n",
       "      <th>living_conditions</th>\n",
       "      <th>...</th>\n",
       "      <th>basic_needs</th>\n",
       "      <th>academic_performance</th>\n",
       "      <th>study_load</th>\n",
       "      <th>teacher_student_relationship</th>\n",
       "      <th>future_career_concerns</th>\n",
       "      <th>social_support</th>\n",
       "      <th>peer_pressure</th>\n",
       "      <th>extracurricular_activities</th>\n",
       "      <th>bullying</th>\n",
       "      <th>stress_level</th>\n",
       "    </tr>\n",
       "  </thead>\n",
       "  <tbody>\n",
       "    <tr>\n",
       "      <th>0</th>\n",
       "      <td>14</td>\n",
       "      <td>20</td>\n",
       "      <td>0</td>\n",
       "      <td>11</td>\n",
       "      <td>2</td>\n",
       "      <td>1</td>\n",
       "      <td>2</td>\n",
       "      <td>4</td>\n",
       "      <td>2</td>\n",
       "      <td>3</td>\n",
       "      <td>...</td>\n",
       "      <td>2</td>\n",
       "      <td>3</td>\n",
       "      <td>2</td>\n",
       "      <td>3</td>\n",
       "      <td>3</td>\n",
       "      <td>2</td>\n",
       "      <td>3</td>\n",
       "      <td>3</td>\n",
       "      <td>2</td>\n",
       "      <td>1</td>\n",
       "    </tr>\n",
       "    <tr>\n",
       "      <th>1</th>\n",
       "      <td>15</td>\n",
       "      <td>8</td>\n",
       "      <td>1</td>\n",
       "      <td>15</td>\n",
       "      <td>5</td>\n",
       "      <td>3</td>\n",
       "      <td>1</td>\n",
       "      <td>4</td>\n",
       "      <td>3</td>\n",
       "      <td>1</td>\n",
       "      <td>...</td>\n",
       "      <td>2</td>\n",
       "      <td>1</td>\n",
       "      <td>4</td>\n",
       "      <td>1</td>\n",
       "      <td>5</td>\n",
       "      <td>1</td>\n",
       "      <td>4</td>\n",
       "      <td>5</td>\n",
       "      <td>5</td>\n",
       "      <td>2</td>\n",
       "    </tr>\n",
       "    <tr>\n",
       "      <th>2</th>\n",
       "      <td>12</td>\n",
       "      <td>18</td>\n",
       "      <td>1</td>\n",
       "      <td>14</td>\n",
       "      <td>2</td>\n",
       "      <td>1</td>\n",
       "      <td>2</td>\n",
       "      <td>2</td>\n",
       "      <td>2</td>\n",
       "      <td>2</td>\n",
       "      <td>...</td>\n",
       "      <td>2</td>\n",
       "      <td>2</td>\n",
       "      <td>3</td>\n",
       "      <td>3</td>\n",
       "      <td>2</td>\n",
       "      <td>2</td>\n",
       "      <td>3</td>\n",
       "      <td>2</td>\n",
       "      <td>2</td>\n",
       "      <td>1</td>\n",
       "    </tr>\n",
       "    <tr>\n",
       "      <th>3</th>\n",
       "      <td>16</td>\n",
       "      <td>12</td>\n",
       "      <td>1</td>\n",
       "      <td>15</td>\n",
       "      <td>4</td>\n",
       "      <td>3</td>\n",
       "      <td>1</td>\n",
       "      <td>3</td>\n",
       "      <td>4</td>\n",
       "      <td>2</td>\n",
       "      <td>...</td>\n",
       "      <td>2</td>\n",
       "      <td>2</td>\n",
       "      <td>4</td>\n",
       "      <td>1</td>\n",
       "      <td>4</td>\n",
       "      <td>1</td>\n",
       "      <td>4</td>\n",
       "      <td>4</td>\n",
       "      <td>5</td>\n",
       "      <td>2</td>\n",
       "    </tr>\n",
       "    <tr>\n",
       "      <th>4</th>\n",
       "      <td>16</td>\n",
       "      <td>28</td>\n",
       "      <td>0</td>\n",
       "      <td>7</td>\n",
       "      <td>2</td>\n",
       "      <td>3</td>\n",
       "      <td>5</td>\n",
       "      <td>1</td>\n",
       "      <td>3</td>\n",
       "      <td>2</td>\n",
       "      <td>...</td>\n",
       "      <td>3</td>\n",
       "      <td>4</td>\n",
       "      <td>3</td>\n",
       "      <td>1</td>\n",
       "      <td>2</td>\n",
       "      <td>1</td>\n",
       "      <td>5</td>\n",
       "      <td>0</td>\n",
       "      <td>5</td>\n",
       "      <td>1</td>\n",
       "    </tr>\n",
       "  </tbody>\n",
       "</table>\n",
       "<p>5 rows × 21 columns</p>\n",
       "</div>"
      ],
      "text/plain": [
       "   anxiety_level  self_esteem  mental_health_history  depression  headache  \\\n",
       "0             14           20                      0          11         2   \n",
       "1             15            8                      1          15         5   \n",
       "2             12           18                      1          14         2   \n",
       "3             16           12                      1          15         4   \n",
       "4             16           28                      0           7         2   \n",
       "\n",
       "   blood_pressure  sleep_quality  breathing_problem  noise_level  \\\n",
       "0               1              2                  4            2   \n",
       "1               3              1                  4            3   \n",
       "2               1              2                  2            2   \n",
       "3               3              1                  3            4   \n",
       "4               3              5                  1            3   \n",
       "\n",
       "   living_conditions  ...  basic_needs  academic_performance  study_load  \\\n",
       "0                  3  ...            2                     3           2   \n",
       "1                  1  ...            2                     1           4   \n",
       "2                  2  ...            2                     2           3   \n",
       "3                  2  ...            2                     2           4   \n",
       "4                  2  ...            3                     4           3   \n",
       "\n",
       "   teacher_student_relationship  future_career_concerns  social_support  \\\n",
       "0                             3                       3               2   \n",
       "1                             1                       5               1   \n",
       "2                             3                       2               2   \n",
       "3                             1                       4               1   \n",
       "4                             1                       2               1   \n",
       "\n",
       "   peer_pressure  extracurricular_activities  bullying  stress_level  \n",
       "0              3                           3         2             1  \n",
       "1              4                           5         5             2  \n",
       "2              3                           2         2             1  \n",
       "3              4                           4         5             2  \n",
       "4              5                           0         5             1  \n",
       "\n",
       "[5 rows x 21 columns]"
      ]
     },
     "execution_count": 1,
     "metadata": {},
     "output_type": "execute_result"
    }
   ],
   "source": [
    "import pandas as pd\n",
    "\n",
    "# Load the dataset\n",
    "stress_data = pd.read_csv(\"StressLevelDataset.csv\")\n",
    "\n",
    "# Display the first few rows\n",
    "stress_data.head()"
   ]
  },
  {
   "cell_type": "markdown",
   "id": "a0ccce4d",
   "metadata": {},
   "source": [
    "The dataset provides various variables related to stress factors and health conditions. For our analysis, we will consider `stress_level` as the dependent variable and `mental_health_history` as the independent categorical variable.\n"
   ]
  },
  {
   "cell_type": "markdown",
   "id": "4f3b43dd",
   "metadata": {},
   "source": [
    "### ANOVA Test\n"
   ]
  },
  {
   "cell_type": "code",
   "execution_count": 2,
   "id": "b01ee136",
   "metadata": {},
   "outputs": [
    {
     "name": "stderr",
     "output_type": "stream",
     "text": [
      "d:\\SEMESTER 5\\anaconda\\lib\\site-packages\\scipy\\__init__.py:146: UserWarning: A NumPy version >=1.16.5 and <1.23.0 is required for this version of SciPy (detected version 1.26.1\n",
      "  warnings.warn(f\"A NumPy version >={np_minversion} and <{np_maxversion}\"\n"
     ]
    },
    {
     "data": {
      "text/plain": [
       "(797.5187112411286, 2.4376020918666527e-132)"
      ]
     },
     "execution_count": 2,
     "metadata": {},
     "output_type": "execute_result"
    }
   ],
   "source": [
    "import scipy.stats as stats\n",
    "\n",
    "# Perform ANOVA\n",
    "grouped_data = [\n",
    "    stress_data[\"stress_level\"][stress_data[\"mental_health_history\"] == group]\n",
    "    for group in stress_data[\"mental_health_history\"].unique()\n",
    "]\n",
    "f_statistic, p_value = stats.f_oneway(*grouped_data)\n",
    "f_statistic, p_value"
   ]
  },
  {
   "cell_type": "markdown",
   "id": "a2306129",
   "metadata": {},
   "source": [
    "The ANOVA test shows a very low p-value, indicating a statistically significant difference in the mean `stress_level` between the two groups. This suggests that having a history of mental health issues can significantly impact one's stress level.\n"
   ]
  },
  {
   "cell_type": "markdown",
   "id": "ea5a58fb",
   "metadata": {},
   "source": [
    "### Visualization\n"
   ]
  },
  {
   "cell_type": "code",
   "execution_count": 3,
   "id": "46e54c7a",
   "metadata": {},
   "outputs": [
    {
     "data": {
      "image/png": "[encoded data removed]",
      "text/plain": [
       "<Figure size 720x432 with 1 Axes>"
      ]
     },
     "metadata": {},
     "output_type": "display_data"
    }
   ],
   "source": [
    "import matplotlib.pyplot as plt\n",
    "import seaborn as sns\n",
    "\n",
    "# Set visualization style\n",
    "sns.set(style=\"whitegrid\")\n",
    "\n",
    "# Create box plot\n",
    "plt.figure(figsize=(10, 6))\n",
    "sns.boxplot(x=\"mental_health_history\", y=\"stress_level\", data=stress_data)\n",
    "\n",
    "plt.title(\"Distribution of Stress Level by Mental Health History\")\n",
    "plt.xlabel(\"Mental Health History (0: No History, 1: History)\")\n",
    "plt.ylabel(\"Stress Level\")\n",
    "plt.show()"
   ]
  },
  {
   "cell_type": "markdown",
   "id": "1951d374",
   "metadata": {},
   "source": [
    "### Summary & Interpretation\n",
    "\n",
    "From the box plot, we observe the following:\n",
    "\n",
    "1. Individuals with a mental health history have a higher median stress level compared to those without.\n",
    "2. The majority of individuals with a mental health history have elevated stress levels, as indicated by the narrower and higher interquartile range.\n",
    "\n",
    "Based on the ANOVA test and the box plot, we conclude that the presence of a mental health history is associated with higher stress levels. This suggests that individuals with a history of mental health issues might either be more susceptible to stress or perceive stress at a heightened level.\n"
   ]
  },
  {
   "cell_type": "markdown",
   "id": "56e79904",
   "metadata": {},
   "source": [
    "# Task 2: Linear Regression Model\n"
   ]
  },
  {
   "cell_type": "markdown",
   "id": "6514b69d",
   "metadata": {},
   "source": [
    "## Objective\n",
    "\n",
    "Develop a linear model to predict the `stress_level` using one or more independent variables from the dataset. Interpret the coefficients and evaluate the significance of the model.\n"
   ]
  },
  {
   "cell_type": "markdown",
   "id": "0d01fdff",
   "metadata": {},
   "source": [
    "### Determining Variables and Data Splitting\n"
   ]
  },
  {
   "cell_type": "code",
   "execution_count": 4,
   "id": "d526cc6f",
   "metadata": {},
   "outputs": [],
   "source": [
    "from sklearn.model_selection import train_test_split\n",
    "\n",
    "# Define independent (X) and dependent (y) variables\n",
    "X = stress_data.drop(\"stress_level\", axis=1)\n",
    "y = stress_data[\"stress_level\"]\n",
    "\n",
    "# Split the data into training and testing sets\n",
    "X_train, X_test, y_train, y_test = train_test_split(\n",
    "    X, y, test_size=0.2, random_state=42\n",
    ")"
   ]
  },
  {
   "cell_type": "markdown",
   "id": "52ac7c30",
   "metadata": {},
   "source": [
    "We've defined our independent variables (every column except `stress_level`) and the dependent variable (`stress_level`). The dataset has been split into training and testing sets, with 80% of the data used for training and 20% for testing.\n"
   ]
  },
  {
   "cell_type": "markdown",
   "id": "f3b8cd12",
   "metadata": {},
   "source": [
    "### Model Training\n"
   ]
  },
  {
   "cell_type": "code",
   "execution_count": 5,
   "id": "7832ba29",
   "metadata": {},
   "outputs": [
    {
     "data": {
      "text/plain": [
       "LinearRegression()"
      ]
     },
     "execution_count": 5,
     "metadata": {},
     "output_type": "execute_result"
    }
   ],
   "source": [
    "from sklearn.linear_model import LinearRegression\n",
    "from sklearn.metrics import mean_squared_error, r2_score\n",
    "\n",
    "# Initialize the Linear Regression model\n",
    "model = LinearRegression()\n",
    "\n",
    "# Train the model\n",
    "model.fit(X_train, y_train)"
   ]
  },
  {
   "cell_type": "markdown",
   "id": "163d3447",
   "metadata": {},
   "source": [
    "We've initialized and trained a linear regression model using the training data. Next, we'll evaluate the model's performance on the testing set.\n"
   ]
  },
  {
   "cell_type": "markdown",
   "id": "f4ddf2db",
   "metadata": {},
   "source": [
    "### Model Evaluation\n"
   ]
  },
  {
   "cell_type": "code",
   "execution_count": 6,
   "id": "00ca9b9e",
   "metadata": {},
   "outputs": [
    {
     "data": {
      "text/plain": [
       "(0.1407689091166194, 0.7891624570247755)"
      ]
     },
     "execution_count": 6,
     "metadata": {},
     "output_type": "execute_result"
    }
   ],
   "source": [
    "# Predictions on the testing set\n",
    "y_pred = model.predict(X_test)\n",
    "\n",
    "# Compute metrics\n",
    "mse = mean_squared_error(y_test, y_pred)\n",
    "r2 = r2_score(y_test, y_pred)\n",
    "\n",
    "mse, r2"
   ]
  },
  {
   "cell_type": "markdown",
   "id": "b6644f38",
   "metadata": {},
   "source": [
    "The Mean Squared Error (MSE) and R-squared (R2) value will give us an understanding of the model's accuracy and the variance explained by the model, respectively.\n"
   ]
  },
  {
   "cell_type": "markdown",
   "id": "8ac29b7f",
   "metadata": {},
   "source": [
    "### Coefficients Interpretation\n"
   ]
  },
  {
   "cell_type": "code",
   "execution_count": 7,
   "id": "15e5da2c",
   "metadata": {},
   "outputs": [
    {
     "data": {
      "text/html": [
       "<div>\n",
       "<style scoped>\n",
       "    .dataframe tbody tr th:only-of-type {\n",
       "        vertical-align: middle;\n",
       "    }\n",
       "\n",
       "    .dataframe tbody tr th {\n",
       "        vertical-align: top;\n",
       "    }\n",
       "\n",
       "    .dataframe thead th {\n",
       "        text-align: right;\n",
       "    }\n",
       "</style>\n",
       "<table border=\"1\" class=\"dataframe\">\n",
       "  <thead>\n",
       "    <tr style=\"text-align: right;\">\n",
       "      <th></th>\n",
       "      <th>Coefficient</th>\n",
       "    </tr>\n",
       "  </thead>\n",
       "  <tbody>\n",
       "    <tr>\n",
       "      <th>anxiety_level</th>\n",
       "      <td>-0.002596</td>\n",
       "    </tr>\n",
       "    <tr>\n",
       "      <th>self_esteem</th>\n",
       "      <td>-0.012523</td>\n",
       "    </tr>\n",
       "    <tr>\n",
       "      <th>mental_health_history</th>\n",
       "      <td>0.006632</td>\n",
       "    </tr>\n",
       "    <tr>\n",
       "      <th>depression</th>\n",
       "      <td>0.007372</td>\n",
       "    </tr>\n",
       "    <tr>\n",
       "      <th>headache</th>\n",
       "      <td>0.034571</td>\n",
       "    </tr>\n",
       "    <tr>\n",
       "      <th>blood_pressure</th>\n",
       "      <td>-0.038710</td>\n",
       "    </tr>\n",
       "    <tr>\n",
       "      <th>sleep_quality</th>\n",
       "      <td>-0.029612</td>\n",
       "    </tr>\n",
       "    <tr>\n",
       "      <th>breathing_problem</th>\n",
       "      <td>0.014846</td>\n",
       "    </tr>\n",
       "    <tr>\n",
       "      <th>noise_level</th>\n",
       "      <td>0.077812</td>\n",
       "    </tr>\n",
       "    <tr>\n",
       "      <th>living_conditions</th>\n",
       "      <td>-0.004289</td>\n",
       "    </tr>\n",
       "    <tr>\n",
       "      <th>safety</th>\n",
       "      <td>-0.050661</td>\n",
       "    </tr>\n",
       "    <tr>\n",
       "      <th>basic_needs</th>\n",
       "      <td>-0.064021</td>\n",
       "    </tr>\n",
       "    <tr>\n",
       "      <th>academic_performance</th>\n",
       "      <td>-0.042828</td>\n",
       "    </tr>\n",
       "    <tr>\n",
       "      <th>study_load</th>\n",
       "      <td>0.054157</td>\n",
       "    </tr>\n",
       "    <tr>\n",
       "      <th>teacher_student_relationship</th>\n",
       "      <td>0.008006</td>\n",
       "    </tr>\n",
       "    <tr>\n",
       "      <th>future_career_concerns</th>\n",
       "      <td>0.011147</td>\n",
       "    </tr>\n",
       "    <tr>\n",
       "      <th>social_support</th>\n",
       "      <td>-0.028895</td>\n",
       "    </tr>\n",
       "    <tr>\n",
       "      <th>peer_pressure</th>\n",
       "      <td>0.019482</td>\n",
       "    </tr>\n",
       "    <tr>\n",
       "      <th>extracurricular_activities</th>\n",
       "      <td>0.069317</td>\n",
       "    </tr>\n",
       "    <tr>\n",
       "      <th>bullying</th>\n",
       "      <td>0.068958</td>\n",
       "    </tr>\n",
       "  </tbody>\n",
       "</table>\n",
       "</div>"
      ],
      "text/plain": [
       "                              Coefficient\n",
       "anxiety_level                   -0.002596\n",
       "self_esteem                     -0.012523\n",
       "mental_health_history            0.006632\n",
       "depression                       0.007372\n",
       "headache                         0.034571\n",
       "blood_pressure                  -0.038710\n",
       "sleep_quality                   -0.029612\n",
       "breathing_problem                0.014846\n",
       "noise_level                      0.077812\n",
       "living_conditions               -0.004289\n",
       "safety                          -0.050661\n",
       "basic_needs                     -0.064021\n",
       "academic_performance            -0.042828\n",
       "study_load                       0.054157\n",
       "teacher_student_relationship     0.008006\n",
       "future_career_concerns           0.011147\n",
       "social_support                  -0.028895\n",
       "peer_pressure                    0.019482\n",
       "extracurricular_activities       0.069317\n",
       "bullying                         0.068958"
      ]
     },
     "execution_count": 7,
     "metadata": {},
     "output_type": "execute_result"
    }
   ],
   "source": [
    "# Retrieve coefficients\n",
    "coefficients = pd.DataFrame(model.coef_, X.columns, columns=[\"Coefficient\"])\n",
    "\n",
    "coefficients"
   ]
  },
  {
   "cell_type": "markdown",
   "id": "a0db613d",
   "metadata": {},
   "source": [
    "The coefficients indicate the change in the dependent variable (`stress_level`) for a one-unit change in the respective independent variable, keeping other variables constant. Positive coefficients suggest a direct relationship, while negative coefficients suggest an inverse relationship.\n"
   ]
  },
  {
   "cell_type": "markdown",
   "id": "ec322fb6",
   "metadata": {},
   "source": [
    "### Model Significance: F-test\n"
   ]
  },
  {
   "cell_type": "code",
   "execution_count": 8,
   "id": "3f77f974",
   "metadata": {},
   "outputs": [
    {
     "data": {
      "text/plain": [
       "(array([ 937.33058464, 1131.12623896,  626.84358319, 1050.680117  ,\n",
       "         828.64521033,  161.41611683, 1031.19231671,  440.31898664,\n",
       "         727.885612  ,  436.20472381,  926.35354037,  899.07388039,\n",
       "         879.79439997,  599.5329434 ,  811.77905919, 1043.6222848 ,\n",
       "         574.93992814,  785.9062892 ,  910.212546  , 1162.65017162]),\n",
       " 4.522427516110634e-34)"
      ]
     },
     "execution_count": 8,
     "metadata": {},
     "output_type": "execute_result"
    }
   ],
   "source": [
    "from sklearn.feature_selection import f_regression\n",
    "\n",
    "# F-test\n",
    "f_statistic, p_values = f_regression(X_train, y_train)\n",
    "\n",
    "# Overall model significance\n",
    "overall_p_value = p_values.max()\n",
    "\n",
    "f_statistic, overall_p_value"
   ]
  },
  {
   "cell_type": "markdown",
   "id": "bbf7c76b",
   "metadata": {},
   "source": [
    "The F-statistic and its associated p-value test the hypothesis that all the regression coefficients are equal to zero versus at least one is not. A significant F-test indicates that our linear model is a better fit than a model with no independent variables.\n"
   ]
  },
  {
   "cell_type": "markdown",
   "id": "acbf94d3",
   "metadata": {},
   "source": [
    "# Task 3: Assumptions and Limitations\n"
   ]
  },
  {
   "cell_type": "markdown",
   "id": "5bebf717",
   "metadata": {},
   "source": [
    "## Objective\n",
    "\n",
    "Discuss the assumptions and limitations of ANOVA and linear models, and propose solutions to address these limitations.\n"
   ]
  },
  {
   "cell_type": "markdown",
   "id": "e52ff03f",
   "metadata": {},
   "source": [
    "### Assumptions of ANOVA\n"
   ]
  },
  {
   "cell_type": "markdown",
   "id": "99b0345c",
   "metadata": {},
   "source": [
    "ANOVA makes several key assumptions:\n",
    "\n",
    "1. **Independence:** Observations within each group are independent of each other.\n",
    "2. **Normality:** The dependent variable is approximately normally distributed within each group.\n",
    "3. **Homogeneity of Variances:** The variances of the dependent variable are equal across all groups.\n",
    "\n",
    "Violations of these assumptions can lead to inaccurate results.\n"
   ]
  },
  {
   "cell_type": "markdown",
   "id": "c401fbd7",
   "metadata": {},
   "source": [
    "### Assumptions of Linear Regression\n"
   ]
  },
  {
   "cell_type": "markdown",
   "id": "b33ef498",
   "metadata": {},
   "source": [
    "Linear regression also has several assumptions:\n",
    "\n",
    "1. **Linearity:** There exists a linear relationship between the independent and dependent variables.\n",
    "2. **Independence:** Observations are independent of each other.\n",
    "3. **Homoscedasticity:** The residuals have constant variance at every level of the independent variables.\n",
    "4. **Normality:** The residuals of the model are approximately normally distributed.\n",
    "5. **No Multicollinearity:** Independent variables are not too highly correlated with each other.\n",
    "\n",
    "Violating these assumptions can lead to biased or inefficient parameter estimates and incorrect conclusions.\n"
   ]
  },
  {
   "cell_type": "markdown",
   "id": "06c3d4d3",
   "metadata": {},
   "source": [
    "### Limitations and Solutions\n"
   ]
  },
  {
   "cell_type": "markdown",
   "id": "18edc578",
   "metadata": {},
   "source": [
    "While both ANOVA and linear regression are powerful statistical tools, they come with limitations, primarily arising from violations of the above assumptions. It's essential to check these assumptions before interpreting the results. If assumptions are violated, the results may not be valid.\n",
    "\n",
    "Possible solutions include:\n",
    "\n",
    "- **Transformations:** Applying transformations (e.g., log or square root) can help achieve normality or stabilize variances.\n",
    "- **Non-parametric Tests:** If assumptions are severely violated, consider non-parametric alternatives that don't rely on strict assumptions.\n",
    "- **Regularization:** In linear regression, if multicollinearity is a concern, techniques like Ridge or Lasso regression can be used.\n",
    "- **Residual Analysis:** Plotting residuals can help diagnose issues with linearity, normality, and homoscedasticity.\n",
    "\n",
    "In Python, libraries like `statsmodels` and `scikit-learn` offer tools to diagnose and address these issues.\n"
   ]
  },
  {
   "cell_type": "markdown",
   "id": "98dc00f0",
   "metadata": {},
   "source": [
    "### Implementation in Python\n"
   ]
  },
  {
   "cell_type": "markdown",
   "id": "33d54c55",
   "metadata": {},
   "source": [
    "To address the limitations in Python, one can use the following approaches:\n",
    "\n",
    "1. **Transformations:** Use `numpy` functions like `np.log` or `np.sqrt` for transformations.\n",
    "2. **Non-parametric Tests:** Use `scipy.stats` for tests like Kruskal-Wallis.\n",
    "3. **Regularization:** Use `Ridge` or `Lasso` regression classes from `scikit-learn`.\n",
    "4. **Residual Analysis:** Use `statsmodels` to fit models and then analyze residuals.\n"
   ]
  },
  {
   "cell_type": "markdown",
   "id": "facce847",
   "metadata": {},
   "source": [
    "# Task 4: Mini-Project Combining ANOVA and Linear Models\n"
   ]
  },
  {
   "cell_type": "markdown",
   "id": "6e02dbcb",
   "metadata": {},
   "source": [
    "## Objective\n",
    "\n",
    "The goal is to combine the analyses from the previous tasks into a cohesive mini-project, addressing a specific research question and drawing conclusions.\n"
   ]
  },
  {
   "cell_type": "markdown",
   "id": "75105c53",
   "metadata": {},
   "source": [
    "### Problem Definition and Research Question\n"
   ]
  },
  {
   "cell_type": "markdown",
   "id": "dcad4786",
   "metadata": {},
   "source": [
    "Stress levels can significantly impact an individual's well-being and overall health. Understanding factors that correlate with or predict stress can be invaluable for interventions and support. Given this context, our research question is:\n",
    "\n",
    "**Does a history of mental health issues predict higher stress levels, and if so, how significantly?**\n"
   ]
  },
  {
   "cell_type": "markdown",
   "id": "d945643f",
   "metadata": {},
   "source": [
    "### Combined Analysis: ANOVA and Linear Regression\n"
   ]
  },
  {
   "cell_type": "markdown",
   "id": "61a9bc62",
   "metadata": {},
   "source": [
    "We previously conducted an ANOVA test and found a statistically significant difference in stress levels between individuals with and without a mental health history. Moreover, a linear regression model was built to predict stress levels based on various factors.\n"
   ]
  },
  {
   "cell_type": "code",
   "execution_count": 9,
   "id": "9268c933",
   "metadata": {},
   "outputs": [
    {
     "data": {
      "text/plain": [
       "(797.5187112411286,\n",
       " 2.4376020918666527e-132,\n",
       " array([ 0.00294866, -0.0140921 , -0.00056877,  0.00599092,  0.05908033,\n",
       "        -0.04464356, -0.05159021,  0.00978448,  0.06339831, -0.00679602,\n",
       "        -0.04642805, -0.05116154, -0.05622323,  0.04256139,  0.0401569 ,\n",
       "         0.01388087, -0.04459453,  0.03289663,  0.04347274,  0.0569259 ]))"
      ]
     },
     "execution_count": 9,
     "metadata": {},
     "output_type": "execute_result"
    }
   ],
   "source": [
    "# Recap of ANOVA and Linear Regression Analysis\n",
    "# ANOVA\n",
    "grouped_data = [\n",
    "    stress_data[\"stress_level\"][stress_data[\"mental_health_history\"] == group]\n",
    "    for group in stress_data[\"mental_health_history\"].unique()\n",
    "]\n",
    "f_statistic, p_value = stats.f_oneway(*grouped_data)\n",
    "\n",
    "# Linear Regression\n",
    "X = stress_data.drop(\"stress_level\", axis=1)\n",
    "y = stress_data[\"stress_level\"]\n",
    "model = LinearRegression().fit(X, y)\n",
    "coefficients = model.coef_\n",
    "\n",
    "f_statistic, p_value, coefficients"
   ]
  },
  {
   "cell_type": "markdown",
   "id": "e9bf1f89",
   "metadata": {},
   "source": [
    "### Conclusion\n"
   ]
  },
  {
   "cell_type": "markdown",
   "id": "802c98c3",
   "metadata": {},
   "source": [
    "Based on our analyses, there's a clear association between a history of mental health issues and higher stress levels. While our linear model provides insights into the relationships between various factors and stress, the ANOVA test confirms the significant difference in stress levels based on mental health history. These findings underscore the importance of mental health support and interventions.\n"
   ]
  },
  {
   "cell_type": "code",
   "execution_count": null,
   "id": "82ce4212",
   "metadata": {},
   "outputs": [],
   "source": []
  }
 ],
 "metadata": {
  "kernelspec": {
   "display_name": "base",
   "language": "python",
   "name": "python3"
  },
  "language_info": {
   "codemirror_mode": {
    "name": "ipython",
    "version": 3
   },
   "file_extension": ".py",
   "mimetype": "text/x-python",
   "name": "python",
   "nbconvert_exporter": "python",
   "pygments_lexer": "ipython3",
   "version": "3.9.12"
  }
 },
 "nbformat": 4,
 "nbformat_minor": 5
}
