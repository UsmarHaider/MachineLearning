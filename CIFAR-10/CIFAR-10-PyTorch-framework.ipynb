{
  "nbformat": 4,
  "nbformat_minor": 0,
  "metadata": {
    "colab": {
      "provenance": []
    },
    "kernelspec": {
      "name": "python3",
      "display_name": "Python 3"
    },
    "language_info": {
      "name": "python"
    }
  },
  "cells": [
    {
      "cell_type": "markdown",
      "source": [
        "### Utilize the CIFAR-10 dataset and the PyTorch framework for the processes of model creation, training, and evaluation\n",
        "\n",
        "\n",
        "The model should have 4 layers defined as follows:\n",
        "\n",
        " * A `Linear()` layer with 128 neurons using 'relu' as the activation function,\n",
        " * A `Linear()` layer with 64 neurons using 'relu' as the activation function.\n",
        "* A `Linear()` layer with 32 neurons using 'relu' as the activation function.\n",
        " * A `Linear()` layer with 10 neuron using 'softmax' as the activation function.\n",
        " * optimizer='Adam', loss='categorical_crossentropy', metrics=['accuracy'\n",
        "\n",
        "What is the total trainable parameters of the above model?______________________\n",
        "What is the accuracy using the testing data?______________________________Upon successful completion of these tasks, save the trained model as follows \"dl_assignment1_cifar10_model_lastname.pth\" (\"dl_assignment1_cifar10_model_lastname.pth, for my case\" . As part of your assignment submission, it is mandatory to upload the source file as lastname_assignment1.ipynb(abegaz_assignment1.ipynb, for my case) and the saved model for full credit."
      ],
      "metadata": {
        "id": "2_wj4oYPYXd-"
      }
    },
    {
      "cell_type": "markdown",
      "source": [
        "## Use the following steps\n",
        "0. Import the required libraries\n",
        "1. Loads the CIFAR10 dataset and preprocesses\n",
        "2. Builds a simple neural network model as specified above.\n",
        "3. Define Adam optimizer and categorical cross-entropy loss.\n",
        "4. Trains the model on the training data for 10 epochs.\n",
        "5. Evaluates the model on the test data to calculate test accuracy for validation purpose."
      ],
      "metadata": {
        "id": "VCww1pEhYbwg"
      }
    },
    {
      "cell_type": "code",
      "execution_count": 1,
      "metadata": {
        "colab": {
          "base_uri": "https://localhost:8080/"
        },
        "id": "gP3-FMgqW5Cd",
        "outputId": "1d064bf2-8bee-4740-8dcf-db18802ad5c7"
      },
      "outputs": [
        {
          "output_type": "stream",
          "name": "stdout",
          "text": [
            "Requirement already satisfied: torch in /usr/local/lib/python3.10/dist-packages (2.1.0+cu121)\n",
            "Requirement already satisfied: torchvision in /usr/local/lib/python3.10/dist-packages (0.16.0+cu121)\n",
            "Requirement already satisfied: filelock in /usr/local/lib/python3.10/dist-packages (from torch) (3.13.1)\n",
            "Requirement already satisfied: typing-extensions in /usr/local/lib/python3.10/dist-packages (from torch) (4.5.0)\n",
            "Requirement already satisfied: sympy in /usr/local/lib/python3.10/dist-packages (from torch) (1.12)\n",
            "Requirement already satisfied: networkx in /usr/local/lib/python3.10/dist-packages (from torch) (3.2.1)\n",
            "Requirement already satisfied: jinja2 in /usr/local/lib/python3.10/dist-packages (from torch) (3.1.3)\n",
            "Requirement already satisfied: fsspec in /usr/local/lib/python3.10/dist-packages (from torch) (2023.6.0)\n",
            "Requirement already satisfied: triton==2.1.0 in /usr/local/lib/python3.10/dist-packages (from torch) (2.1.0)\n",
            "Requirement already satisfied: numpy in /usr/local/lib/python3.10/dist-packages (from torchvision) (1.23.5)\n",
            "Requirement already satisfied: requests in /usr/local/lib/python3.10/dist-packages (from torchvision) (2.31.0)\n",
            "Requirement already satisfied: pillow!=8.3.*,>=5.3.0 in /usr/local/lib/python3.10/dist-packages (from torchvision) (9.4.0)\n",
            "Requirement already satisfied: MarkupSafe>=2.0 in /usr/local/lib/python3.10/dist-packages (from jinja2->torch) (2.1.4)\n",
            "Requirement already satisfied: charset-normalizer<4,>=2 in /usr/local/lib/python3.10/dist-packages (from requests->torchvision) (3.3.2)\n",
            "Requirement already satisfied: idna<4,>=2.5 in /usr/local/lib/python3.10/dist-packages (from requests->torchvision) (3.6)\n",
            "Requirement already satisfied: urllib3<3,>=1.21.1 in /usr/local/lib/python3.10/dist-packages (from requests->torchvision) (2.0.7)\n",
            "Requirement already satisfied: certifi>=2017.4.17 in /usr/local/lib/python3.10/dist-packages (from requests->torchvision) (2023.11.17)\n",
            "Requirement already satisfied: mpmath>=0.19 in /usr/local/lib/python3.10/dist-packages (from sympy->torch) (1.3.0)\n"
          ]
        }
      ],
      "source": [
        "!pip install torch torchvision"
      ]
    },
    {
      "cell_type": "code",
      "source": [
        "import torch\n",
        "import torch.nn as nn\n",
        "import torch.optim as optim\n",
        "import torchvision\n",
        "import torchvision.transforms as transforms"
      ],
      "metadata": {
        "id": "w2Io3QV-W-B5"
      },
      "execution_count": 2,
      "outputs": []
    },
    {
      "cell_type": "markdown",
      "source": [
        "# Step 1: Load and preprocess the CIFAR-10 dataset"
      ],
      "metadata": {
        "id": "ssLnWZBTXN6f"
      }
    },
    {
      "cell_type": "code",
      "source": [
        "transform = transforms.Compose([transforms.ToTensor(), transforms.Normalize((0.5, 0.5, 0.5), (0.5, 0.5, 0.5))])\n",
        "\n",
        "trainset = torchvision.datasets.CIFAR10(root='./data', train=True, download=True, transform=transform)\n",
        "trainloader = torch.utils.data.DataLoader(trainset, batch_size=4, shuffle=True, num_workers=2)\n",
        "\n",
        "testset = torchvision.datasets.CIFAR10(root='./data', train=False, download=True, transform=transform)\n",
        "testloader = torch.utils.data.DataLoader(testset, batch_size=4, shuffle=False, num_workers=2)"
      ],
      "metadata": {
        "colab": {
          "base_uri": "https://localhost:8080/"
        },
        "id": "ptyJSDxeXH8Y",
        "outputId": "aaa618a9-d8ab-4ee1-8917-d76e6bd96f7c"
      },
      "execution_count": 3,
      "outputs": [
        {
          "output_type": "stream",
          "name": "stdout",
          "text": [
            "Downloading https://www.cs.toronto.edu/~kriz/cifar-10-python.tar.gz to ./data/cifar-10-python.tar.gz\n"
          ]
        },
        {
          "output_type": "stream",
          "name": "stderr",
          "text": [
            "100%|██████████| 170498071/170498071 [00:03<00:00, 45857190.78it/s]\n"
          ]
        },
        {
          "output_type": "stream",
          "name": "stdout",
          "text": [
            "Extracting ./data/cifar-10-python.tar.gz to ./data\n",
            "Files already downloaded and verified\n"
          ]
        }
      ]
    },
    {
      "cell_type": "markdown",
      "source": [
        "# Step 2: Build a simple neural network model"
      ],
      "metadata": {
        "id": "QxfRHd0LXa9P"
      }
    },
    {
      "cell_type": "code",
      "source": [
        "\n",
        "class SimpleNN(nn.Module):\n",
        "    def __init__(self):\n",
        "        super(SimpleNN, self).__init__()\n",
        "        self.fc1 = nn.Linear(32 * 32 * 3, 128)\n",
        "        self.fc2 = nn.Linear(128, 64)\n",
        "        self.fc3 = nn.Linear(64, 32)\n",
        "        self.fc4 = nn.Linear(32, 10)\n",
        "\n",
        "    def forward(self, x):\n",
        "        x = x.view(-1, 32 * 32 * 3)\n",
        "        x = torch.relu(self.fc1(x))\n",
        "        x = torch.relu(self.fc2(x))\n",
        "        x = torch.relu(self.fc3(x))\n",
        "        x = torch.softmax(self.fc4(x), dim=1)\n",
        "        return x"
      ],
      "metadata": {
        "id": "5HF1GZsQXR-J"
      },
      "execution_count": 4,
      "outputs": []
    },
    {
      "cell_type": "markdown",
      "source": [
        "# Step 3: Define Adam optimizer and categorical cross-entropy loss"
      ],
      "metadata": {
        "id": "Qpg5Z_FmXfYc"
      }
    },
    {
      "cell_type": "code",
      "source": [
        "model = SimpleNN()\n",
        "criterion = nn.CrossEntropyLoss()\n",
        "optimizer = optim.Adam(model.parameters())"
      ],
      "metadata": {
        "id": "tjcX6JAwXb1N"
      },
      "execution_count": 5,
      "outputs": []
    },
    {
      "cell_type": "markdown",
      "source": [
        "# Step 4: Train the model on the training data for 10 epochs"
      ],
      "metadata": {
        "id": "Q6WPv7w3XkB9"
      }
    },
    {
      "cell_type": "code",
      "source": [
        "\n",
        "for epoch in range(10):\n",
        "    running_loss = 0.0\n",
        "    for i, data in enumerate(trainloader, 0):\n",
        "        inputs, labels = data\n",
        "        optimizer.zero_grad()\n",
        "        outputs = model(inputs)\n",
        "        loss = criterion(outputs, labels)\n",
        "        loss.backward()\n",
        "        optimizer.step()\n",
        "        running_loss += loss.item()\n",
        "    print(f'Epoch {epoch + 1}, Loss: {running_loss / len(trainloader)}')"
      ],
      "metadata": {
        "colab": {
          "base_uri": "https://localhost:8080/"
        },
        "id": "WH9PfrWXXeof",
        "outputId": "c3d59e2b-fdf2-4034-d286-86d7aa78fdff"
      },
      "execution_count": 6,
      "outputs": [
        {
          "output_type": "stream",
          "name": "stdout",
          "text": [
            "Epoch 1, Loss: 2.180935859966278\n",
            "Epoch 2, Loss: 2.196361416568756\n",
            "Epoch 3, Loss: 2.1714827159786223\n",
            "Epoch 4, Loss: 2.184487834701538\n",
            "Epoch 5, Loss: 2.199764377040863\n",
            "Epoch 6, Loss: 2.197367429866791\n",
            "Epoch 7, Loss: 2.209650196399689\n",
            "Epoch 8, Loss: 2.1918043696784975\n",
            "Epoch 9, Loss: 2.228890073957443\n",
            "Epoch 10, Loss: 2.2077252468395234\n"
          ]
        }
      ]
    },
    {
      "cell_type": "markdown",
      "source": [
        "# Step 5: Evaluate the model on the test data"
      ],
      "metadata": {
        "id": "ZilSkIfQXoK2"
      }
    },
    {
      "cell_type": "code",
      "source": [
        "\n",
        "correct = 0\n",
        "total = 0\n",
        "with torch.no_grad():\n",
        "    for data in testloader:\n",
        "        images, labels = data\n",
        "        outputs = model(images)\n",
        "        _, predicted = torch.max(outputs.data, 1)\n",
        "        total += labels.size(0)\n",
        "        correct += (predicted == labels).sum().item()"
      ],
      "metadata": {
        "id": "c22vA_3tXk9T"
      },
      "execution_count": 7,
      "outputs": []
    },
    {
      "cell_type": "markdown",
      "source": [
        "# Calculate accuracy"
      ],
      "metadata": {
        "id": "Ew-G5t0EX6iw"
      }
    },
    {
      "cell_type": "code",
      "source": [
        "accuracy = correct / total\n",
        "print(f'Test Accuracy: {accuracy}')\n",
        "\n"
      ],
      "metadata": {
        "colab": {
          "base_uri": "https://localhost:8080/"
        },
        "id": "d0Bpd0vIXpMz",
        "outputId": "0a453488-0e06-4faf-c126-d3cfd3086383"
      },
      "execution_count": 8,
      "outputs": [
        {
          "output_type": "stream",
          "name": "stdout",
          "text": [
            "Test Accuracy: 0.2771\n"
          ]
        }
      ]
    },
    {
      "cell_type": "markdown",
      "source": [
        "# Save the trained model"
      ],
      "metadata": {
        "id": "rP-zSuAKb5zE"
      }
    },
    {
      "cell_type": "code",
      "source": [
        "torch.save(model.state_dict(), 'dl_assignment1_cifar10_model_lastname.pth')"
      ],
      "metadata": {
        "id": "KxhOjCsTX76Z"
      },
      "execution_count": 9,
      "outputs": []
    },
    {
      "cell_type": "code",
      "source": [],
      "metadata": {
        "id": "RUYH18IUcLt1"
      },
      "execution_count": null,
      "outputs": []
    }
  ]
}