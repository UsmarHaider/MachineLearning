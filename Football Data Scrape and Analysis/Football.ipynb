{
 "cells": [
  {
   "cell_type": "code",
   "execution_count": 20,
   "metadata": {},
   "outputs": [],
   "source": [
    "import pandas as pd\n",
    "import numpy as np"
   ]
  },
  {
   "cell_type": "code",
   "execution_count": 45,
   "metadata": {},
   "outputs": [
    {
     "data": {
      "text/html": [
       "<div>\n",
       "<style scoped>\n",
       "    .dataframe tbody tr th:only-of-type {\n",
       "        vertical-align: middle;\n",
       "    }\n",
       "\n",
       "    .dataframe tbody tr th {\n",
       "        vertical-align: top;\n",
       "    }\n",
       "\n",
       "    .dataframe thead th {\n",
       "        text-align: right;\n",
       "    }\n",
       "</style>\n",
       "<table border=\"1\" class=\"dataframe\">\n",
       "  <thead>\n",
       "    <tr style=\"text-align: right;\">\n",
       "      <th></th>\n",
       "      <th>date</th>\n",
       "      <th>time</th>\n",
       "      <th>comp</th>\n",
       "      <th>round</th>\n",
       "      <th>day</th>\n",
       "      <th>venue</th>\n",
       "      <th>result</th>\n",
       "      <th>gf</th>\n",
       "      <th>ga</th>\n",
       "      <th>opponent</th>\n",
       "      <th>...</th>\n",
       "      <th>match report</th>\n",
       "      <th>notes</th>\n",
       "      <th>sh</th>\n",
       "      <th>sot</th>\n",
       "      <th>dist</th>\n",
       "      <th>fk</th>\n",
       "      <th>pk</th>\n",
       "      <th>pkatt</th>\n",
       "      <th>season</th>\n",
       "      <th>team</th>\n",
       "    </tr>\n",
       "  </thead>\n",
       "  <tbody>\n",
       "    <tr>\n",
       "      <th>0</th>\n",
       "      <td>2022-08-05</td>\n",
       "      <td>20:00</td>\n",
       "      <td>Premier League</td>\n",
       "      <td>Matchweek 1</td>\n",
       "      <td>Fri</td>\n",
       "      <td>Away</td>\n",
       "      <td>W</td>\n",
       "      <td>2.0</td>\n",
       "      <td>0.0</td>\n",
       "      <td>Crystal Palace</td>\n",
       "      <td>...</td>\n",
       "      <td>Match Report</td>\n",
       "      <td>NaN</td>\n",
       "      <td>10.0</td>\n",
       "      <td>2.0</td>\n",
       "      <td>14.6</td>\n",
       "      <td>1.0</td>\n",
       "      <td>0.0</td>\n",
       "      <td>0.0</td>\n",
       "      <td>2023</td>\n",
       "      <td>Arsenal</td>\n",
       "    </tr>\n",
       "    <tr>\n",
       "      <th>1</th>\n",
       "      <td>2022-08-13</td>\n",
       "      <td>15:00</td>\n",
       "      <td>Premier League</td>\n",
       "      <td>Matchweek 2</td>\n",
       "      <td>Sat</td>\n",
       "      <td>Home</td>\n",
       "      <td>W</td>\n",
       "      <td>4.0</td>\n",
       "      <td>2.0</td>\n",
       "      <td>Leicester City</td>\n",
       "      <td>...</td>\n",
       "      <td>Match Report</td>\n",
       "      <td>NaN</td>\n",
       "      <td>19.0</td>\n",
       "      <td>7.0</td>\n",
       "      <td>13.0</td>\n",
       "      <td>0.0</td>\n",
       "      <td>0.0</td>\n",
       "      <td>0.0</td>\n",
       "      <td>2023</td>\n",
       "      <td>Arsenal</td>\n",
       "    </tr>\n",
       "    <tr>\n",
       "      <th>2</th>\n",
       "      <td>2022-08-20</td>\n",
       "      <td>17:30</td>\n",
       "      <td>Premier League</td>\n",
       "      <td>Matchweek 3</td>\n",
       "      <td>Sat</td>\n",
       "      <td>Away</td>\n",
       "      <td>W</td>\n",
       "      <td>3.0</td>\n",
       "      <td>0.0</td>\n",
       "      <td>Bournemouth</td>\n",
       "      <td>...</td>\n",
       "      <td>Match Report</td>\n",
       "      <td>NaN</td>\n",
       "      <td>14.0</td>\n",
       "      <td>6.0</td>\n",
       "      <td>14.8</td>\n",
       "      <td>0.0</td>\n",
       "      <td>0.0</td>\n",
       "      <td>0.0</td>\n",
       "      <td>2023</td>\n",
       "      <td>Arsenal</td>\n",
       "    </tr>\n",
       "    <tr>\n",
       "      <th>3</th>\n",
       "      <td>2022-08-27</td>\n",
       "      <td>17:30</td>\n",
       "      <td>Premier League</td>\n",
       "      <td>Matchweek 4</td>\n",
       "      <td>Sat</td>\n",
       "      <td>Home</td>\n",
       "      <td>W</td>\n",
       "      <td>2.0</td>\n",
       "      <td>1.0</td>\n",
       "      <td>Fulham</td>\n",
       "      <td>...</td>\n",
       "      <td>Match Report</td>\n",
       "      <td>NaN</td>\n",
       "      <td>22.0</td>\n",
       "      <td>8.0</td>\n",
       "      <td>15.5</td>\n",
       "      <td>1.0</td>\n",
       "      <td>0.0</td>\n",
       "      <td>0.0</td>\n",
       "      <td>2023</td>\n",
       "      <td>Arsenal</td>\n",
       "    </tr>\n",
       "    <tr>\n",
       "      <th>4</th>\n",
       "      <td>2022-08-31</td>\n",
       "      <td>19:30</td>\n",
       "      <td>Premier League</td>\n",
       "      <td>Matchweek 5</td>\n",
       "      <td>Wed</td>\n",
       "      <td>Home</td>\n",
       "      <td>W</td>\n",
       "      <td>2.0</td>\n",
       "      <td>1.0</td>\n",
       "      <td>Aston Villa</td>\n",
       "      <td>...</td>\n",
       "      <td>Match Report</td>\n",
       "      <td>NaN</td>\n",
       "      <td>22.0</td>\n",
       "      <td>8.0</td>\n",
       "      <td>16.3</td>\n",
       "      <td>1.0</td>\n",
       "      <td>0.0</td>\n",
       "      <td>0.0</td>\n",
       "      <td>2023</td>\n",
       "      <td>Arsenal</td>\n",
       "    </tr>\n",
       "    <tr>\n",
       "      <th>...</th>\n",
       "      <td>...</td>\n",
       "      <td>...</td>\n",
       "      <td>...</td>\n",
       "      <td>...</td>\n",
       "      <td>...</td>\n",
       "      <td>...</td>\n",
       "      <td>...</td>\n",
       "      <td>...</td>\n",
       "      <td>...</td>\n",
       "      <td>...</td>\n",
       "      <td>...</td>\n",
       "      <td>...</td>\n",
       "      <td>...</td>\n",
       "      <td>...</td>\n",
       "      <td>...</td>\n",
       "      <td>...</td>\n",
       "      <td>...</td>\n",
       "      <td>...</td>\n",
       "      <td>...</td>\n",
       "      <td>...</td>\n",
       "      <td>...</td>\n",
       "    </tr>\n",
       "    <tr>\n",
       "      <th>38</th>\n",
       "      <td>2021-05-02</td>\n",
       "      <td>19:15</td>\n",
       "      <td>Premier League</td>\n",
       "      <td>Matchweek 34</td>\n",
       "      <td>Sun</td>\n",
       "      <td>Away</td>\n",
       "      <td>L</td>\n",
       "      <td>0.0</td>\n",
       "      <td>4.0</td>\n",
       "      <td>Tottenham</td>\n",
       "      <td>...</td>\n",
       "      <td>Match Report</td>\n",
       "      <td>NaN</td>\n",
       "      <td>8.0</td>\n",
       "      <td>1.0</td>\n",
       "      <td>18.2</td>\n",
       "      <td>0.0</td>\n",
       "      <td>0.0</td>\n",
       "      <td>0.0</td>\n",
       "      <td>2021</td>\n",
       "      <td>Sheffield United</td>\n",
       "    </tr>\n",
       "    <tr>\n",
       "      <th>39</th>\n",
       "      <td>2021-05-08</td>\n",
       "      <td>15:00</td>\n",
       "      <td>Premier League</td>\n",
       "      <td>Matchweek 35</td>\n",
       "      <td>Sat</td>\n",
       "      <td>Home</td>\n",
       "      <td>L</td>\n",
       "      <td>0.0</td>\n",
       "      <td>2.0</td>\n",
       "      <td>Crystal Palace</td>\n",
       "      <td>...</td>\n",
       "      <td>Match Report</td>\n",
       "      <td>NaN</td>\n",
       "      <td>7.0</td>\n",
       "      <td>0.0</td>\n",
       "      <td>13.4</td>\n",
       "      <td>1.0</td>\n",
       "      <td>0.0</td>\n",
       "      <td>0.0</td>\n",
       "      <td>2021</td>\n",
       "      <td>Sheffield United</td>\n",
       "    </tr>\n",
       "    <tr>\n",
       "      <th>40</th>\n",
       "      <td>2021-05-16</td>\n",
       "      <td>19:00</td>\n",
       "      <td>Premier League</td>\n",
       "      <td>Matchweek 36</td>\n",
       "      <td>Sun</td>\n",
       "      <td>Away</td>\n",
       "      <td>W</td>\n",
       "      <td>1.0</td>\n",
       "      <td>0.0</td>\n",
       "      <td>Everton</td>\n",
       "      <td>...</td>\n",
       "      <td>Match Report</td>\n",
       "      <td>NaN</td>\n",
       "      <td>10.0</td>\n",
       "      <td>3.0</td>\n",
       "      <td>18.5</td>\n",
       "      <td>0.0</td>\n",
       "      <td>0.0</td>\n",
       "      <td>0.0</td>\n",
       "      <td>2021</td>\n",
       "      <td>Sheffield United</td>\n",
       "    </tr>\n",
       "    <tr>\n",
       "      <th>41</th>\n",
       "      <td>2021-05-19</td>\n",
       "      <td>18:00</td>\n",
       "      <td>Premier League</td>\n",
       "      <td>Matchweek 37</td>\n",
       "      <td>Wed</td>\n",
       "      <td>Away</td>\n",
       "      <td>L</td>\n",
       "      <td>0.0</td>\n",
       "      <td>1.0</td>\n",
       "      <td>Newcastle Utd</td>\n",
       "      <td>...</td>\n",
       "      <td>Match Report</td>\n",
       "      <td>NaN</td>\n",
       "      <td>11.0</td>\n",
       "      <td>1.0</td>\n",
       "      <td>18.3</td>\n",
       "      <td>1.0</td>\n",
       "      <td>0.0</td>\n",
       "      <td>0.0</td>\n",
       "      <td>2021</td>\n",
       "      <td>Sheffield United</td>\n",
       "    </tr>\n",
       "    <tr>\n",
       "      <th>42</th>\n",
       "      <td>2021-05-23</td>\n",
       "      <td>16:00</td>\n",
       "      <td>Premier League</td>\n",
       "      <td>Matchweek 38</td>\n",
       "      <td>Sun</td>\n",
       "      <td>Home</td>\n",
       "      <td>W</td>\n",
       "      <td>1.0</td>\n",
       "      <td>0.0</td>\n",
       "      <td>Burnley</td>\n",
       "      <td>...</td>\n",
       "      <td>Match Report</td>\n",
       "      <td>NaN</td>\n",
       "      <td>12.0</td>\n",
       "      <td>3.0</td>\n",
       "      <td>17.4</td>\n",
       "      <td>0.0</td>\n",
       "      <td>0.0</td>\n",
       "      <td>0.0</td>\n",
       "      <td>2021</td>\n",
       "      <td>Sheffield United</td>\n",
       "    </tr>\n",
       "  </tbody>\n",
       "</table>\n",
       "<p>2112 rows × 27 columns</p>\n",
       "</div>"
      ],
      "text/plain": [
       "          date   time            comp         round  day venue result   gf  \\\n",
       "0   2022-08-05  20:00  Premier League   Matchweek 1  Fri  Away      W  2.0   \n",
       "1   2022-08-13  15:00  Premier League   Matchweek 2  Sat  Home      W  4.0   \n",
       "2   2022-08-20  17:30  Premier League   Matchweek 3  Sat  Away      W  3.0   \n",
       "3   2022-08-27  17:30  Premier League   Matchweek 4  Sat  Home      W  2.0   \n",
       "4   2022-08-31  19:30  Premier League   Matchweek 5  Wed  Home      W  2.0   \n",
       "..         ...    ...             ...           ...  ...   ...    ...  ...   \n",
       "38  2021-05-02  19:15  Premier League  Matchweek 34  Sun  Away      L  0.0   \n",
       "39  2021-05-08  15:00  Premier League  Matchweek 35  Sat  Home      L  0.0   \n",
       "40  2021-05-16  19:00  Premier League  Matchweek 36  Sun  Away      W  1.0   \n",
       "41  2021-05-19  18:00  Premier League  Matchweek 37  Wed  Away      L  0.0   \n",
       "42  2021-05-23  16:00  Premier League  Matchweek 38  Sun  Home      W  1.0   \n",
       "\n",
       "     ga        opponent  ...  match report  notes    sh  sot  dist   fk   pk  \\\n",
       "0   0.0  Crystal Palace  ...  Match Report    NaN  10.0  2.0  14.6  1.0  0.0   \n",
       "1   2.0  Leicester City  ...  Match Report    NaN  19.0  7.0  13.0  0.0  0.0   \n",
       "2   0.0     Bournemouth  ...  Match Report    NaN  14.0  6.0  14.8  0.0  0.0   \n",
       "3   1.0          Fulham  ...  Match Report    NaN  22.0  8.0  15.5  1.0  0.0   \n",
       "4   1.0     Aston Villa  ...  Match Report    NaN  22.0  8.0  16.3  1.0  0.0   \n",
       "..  ...             ...  ...           ...    ...   ...  ...   ...  ...  ...   \n",
       "38  4.0       Tottenham  ...  Match Report    NaN   8.0  1.0  18.2  0.0  0.0   \n",
       "39  2.0  Crystal Palace  ...  Match Report    NaN   7.0  0.0  13.4  1.0  0.0   \n",
       "40  0.0         Everton  ...  Match Report    NaN  10.0  3.0  18.5  0.0  0.0   \n",
       "41  1.0   Newcastle Utd  ...  Match Report    NaN  11.0  1.0  18.3  1.0  0.0   \n",
       "42  0.0         Burnley  ...  Match Report    NaN  12.0  3.0  17.4  0.0  0.0   \n",
       "\n",
       "   pkatt  season              team  \n",
       "0    0.0    2023           Arsenal  \n",
       "1    0.0    2023           Arsenal  \n",
       "2    0.0    2023           Arsenal  \n",
       "3    0.0    2023           Arsenal  \n",
       "4    0.0    2023           Arsenal  \n",
       "..   ...     ...               ...  \n",
       "38   0.0    2021  Sheffield United  \n",
       "39   0.0    2021  Sheffield United  \n",
       "40   0.0    2021  Sheffield United  \n",
       "41   0.0    2021  Sheffield United  \n",
       "42   0.0    2021  Sheffield United  \n",
       "\n",
       "[2112 rows x 27 columns]"
      ]
     },
     "execution_count": 45,
     "metadata": {},
     "output_type": "execute_result"
    }
   ],
   "source": [
    "matches = pd.read_csv(\"Football_Matches.csv\", index_col=0)\n",
    "matches\n"
   ]
  },
  {
   "cell_type": "code",
   "execution_count": 46,
   "metadata": {},
   "outputs": [
    {
     "data": {
      "text/plain": [
       "(2112, 27)"
      ]
     },
     "execution_count": 46,
     "metadata": {},
     "output_type": "execute_result"
    }
   ],
   "source": [
    "matches.shape"
   ]
  },
  {
   "cell_type": "code",
   "execution_count": 47,
   "metadata": {},
   "outputs": [
    {
     "data": {
      "text/plain": [
       "Arsenal                     106\n",
       "Chelsea                     106\n",
       "Southampton                 106\n",
       "Leicester City              106\n",
       "Everton                     106\n",
       "Leeds United                106\n",
       "Crystal Palace              106\n",
       "Wolverhampton Wanderers     106\n",
       "Tottenham Hotspur           106\n",
       "Aston Villa                 106\n",
       "Manchester United           105\n",
       "Liverpool                   105\n",
       "Manchester City             105\n",
       "West Ham United             105\n",
       "Newcastle United            105\n",
       "Brighton and Hove Albion    104\n",
       "Burnley                      76\n",
       "Brentford                    68\n",
       "Fulham                       67\n",
       "Watford                      38\n",
       "Norwich City                 38\n",
       "West Bromwich Albion         38\n",
       "Sheffield United             38\n",
       "Nottingham Forest            30\n",
       "Bournemouth                  30\n",
       "Name: team, dtype: int64"
      ]
     },
     "execution_count": 47,
     "metadata": {},
     "output_type": "execute_result"
    }
   ],
   "source": [
    "# Missing Liverpool 2021-2022\n",
    "matches[\"team\"].value_counts()"
   ]
  },
  {
   "cell_type": "code",
   "execution_count": 48,
   "metadata": {},
   "outputs": [
    {
     "data": {
      "text/html": [
       "<div>\n",
       "<style scoped>\n",
       "    .dataframe tbody tr th:only-of-type {\n",
       "        vertical-align: middle;\n",
       "    }\n",
       "\n",
       "    .dataframe tbody tr th {\n",
       "        vertical-align: top;\n",
       "    }\n",
       "\n",
       "    .dataframe thead th {\n",
       "        text-align: right;\n",
       "    }\n",
       "</style>\n",
       "<table border=\"1\" class=\"dataframe\">\n",
       "  <thead>\n",
       "    <tr style=\"text-align: right;\">\n",
       "      <th></th>\n",
       "      <th>date</th>\n",
       "      <th>time</th>\n",
       "      <th>comp</th>\n",
       "      <th>round</th>\n",
       "      <th>day</th>\n",
       "      <th>venue</th>\n",
       "      <th>result</th>\n",
       "      <th>gf</th>\n",
       "      <th>ga</th>\n",
       "      <th>opponent</th>\n",
       "      <th>...</th>\n",
       "      <th>match report</th>\n",
       "      <th>notes</th>\n",
       "      <th>sh</th>\n",
       "      <th>sot</th>\n",
       "      <th>dist</th>\n",
       "      <th>fk</th>\n",
       "      <th>pk</th>\n",
       "      <th>pkatt</th>\n",
       "      <th>season</th>\n",
       "      <th>team</th>\n",
       "    </tr>\n",
       "  </thead>\n",
       "  <tbody>\n",
       "    <tr>\n",
       "      <th>1</th>\n",
       "      <td>2020-09-12</td>\n",
       "      <td>17:30</td>\n",
       "      <td>Premier League</td>\n",
       "      <td>Matchweek 1</td>\n",
       "      <td>Sat</td>\n",
       "      <td>Home</td>\n",
       "      <td>W</td>\n",
       "      <td>4.0</td>\n",
       "      <td>3.0</td>\n",
       "      <td>Leeds United</td>\n",
       "      <td>...</td>\n",
       "      <td>Match Report</td>\n",
       "      <td>NaN</td>\n",
       "      <td>20.0</td>\n",
       "      <td>4.0</td>\n",
       "      <td>18.4</td>\n",
       "      <td>0.0</td>\n",
       "      <td>2.0</td>\n",
       "      <td>2.0</td>\n",
       "      <td>2021</td>\n",
       "      <td>Liverpool</td>\n",
       "    </tr>\n",
       "    <tr>\n",
       "      <th>2</th>\n",
       "      <td>2020-09-20</td>\n",
       "      <td>16:30</td>\n",
       "      <td>Premier League</td>\n",
       "      <td>Matchweek 2</td>\n",
       "      <td>Sun</td>\n",
       "      <td>Away</td>\n",
       "      <td>W</td>\n",
       "      <td>2.0</td>\n",
       "      <td>0.0</td>\n",
       "      <td>Chelsea</td>\n",
       "      <td>...</td>\n",
       "      <td>Match Report</td>\n",
       "      <td>NaN</td>\n",
       "      <td>18.0</td>\n",
       "      <td>5.0</td>\n",
       "      <td>18.2</td>\n",
       "      <td>1.0</td>\n",
       "      <td>0.0</td>\n",
       "      <td>0.0</td>\n",
       "      <td>2021</td>\n",
       "      <td>Liverpool</td>\n",
       "    </tr>\n",
       "    <tr>\n",
       "      <th>4</th>\n",
       "      <td>2020-09-28</td>\n",
       "      <td>20:00</td>\n",
       "      <td>Premier League</td>\n",
       "      <td>Matchweek 3</td>\n",
       "      <td>Mon</td>\n",
       "      <td>Home</td>\n",
       "      <td>W</td>\n",
       "      <td>3.0</td>\n",
       "      <td>1.0</td>\n",
       "      <td>Arsenal</td>\n",
       "      <td>...</td>\n",
       "      <td>Match Report</td>\n",
       "      <td>NaN</td>\n",
       "      <td>21.0</td>\n",
       "      <td>8.0</td>\n",
       "      <td>17.9</td>\n",
       "      <td>0.0</td>\n",
       "      <td>0.0</td>\n",
       "      <td>0.0</td>\n",
       "      <td>2021</td>\n",
       "      <td>Liverpool</td>\n",
       "    </tr>\n",
       "    <tr>\n",
       "      <th>6</th>\n",
       "      <td>2020-10-04</td>\n",
       "      <td>19:15</td>\n",
       "      <td>Premier League</td>\n",
       "      <td>Matchweek 4</td>\n",
       "      <td>Sun</td>\n",
       "      <td>Away</td>\n",
       "      <td>L</td>\n",
       "      <td>2.0</td>\n",
       "      <td>7.0</td>\n",
       "      <td>Aston Villa</td>\n",
       "      <td>...</td>\n",
       "      <td>Match Report</td>\n",
       "      <td>NaN</td>\n",
       "      <td>14.0</td>\n",
       "      <td>8.0</td>\n",
       "      <td>16.3</td>\n",
       "      <td>1.0</td>\n",
       "      <td>0.0</td>\n",
       "      <td>0.0</td>\n",
       "      <td>2021</td>\n",
       "      <td>Liverpool</td>\n",
       "    </tr>\n",
       "    <tr>\n",
       "      <th>7</th>\n",
       "      <td>2020-10-17</td>\n",
       "      <td>12:30</td>\n",
       "      <td>Premier League</td>\n",
       "      <td>Matchweek 5</td>\n",
       "      <td>Sat</td>\n",
       "      <td>Away</td>\n",
       "      <td>D</td>\n",
       "      <td>2.0</td>\n",
       "      <td>2.0</td>\n",
       "      <td>Everton</td>\n",
       "      <td>...</td>\n",
       "      <td>Match Report</td>\n",
       "      <td>NaN</td>\n",
       "      <td>22.0</td>\n",
       "      <td>8.0</td>\n",
       "      <td>16.0</td>\n",
       "      <td>2.0</td>\n",
       "      <td>0.0</td>\n",
       "      <td>0.0</td>\n",
       "      <td>2021</td>\n",
       "      <td>Liverpool</td>\n",
       "    </tr>\n",
       "    <tr>\n",
       "      <th>...</th>\n",
       "      <td>...</td>\n",
       "      <td>...</td>\n",
       "      <td>...</td>\n",
       "      <td>...</td>\n",
       "      <td>...</td>\n",
       "      <td>...</td>\n",
       "      <td>...</td>\n",
       "      <td>...</td>\n",
       "      <td>...</td>\n",
       "      <td>...</td>\n",
       "      <td>...</td>\n",
       "      <td>...</td>\n",
       "      <td>...</td>\n",
       "      <td>...</td>\n",
       "      <td>...</td>\n",
       "      <td>...</td>\n",
       "      <td>...</td>\n",
       "      <td>...</td>\n",
       "      <td>...</td>\n",
       "      <td>...</td>\n",
       "      <td>...</td>\n",
       "    </tr>\n",
       "    <tr>\n",
       "      <th>37</th>\n",
       "      <td>2023-03-05</td>\n",
       "      <td>16:30</td>\n",
       "      <td>Premier League</td>\n",
       "      <td>Matchweek 26</td>\n",
       "      <td>Sun</td>\n",
       "      <td>Home</td>\n",
       "      <td>W</td>\n",
       "      <td>7.0</td>\n",
       "      <td>0.0</td>\n",
       "      <td>Manchester Utd</td>\n",
       "      <td>...</td>\n",
       "      <td>Match Report</td>\n",
       "      <td>NaN</td>\n",
       "      <td>18.0</td>\n",
       "      <td>8.0</td>\n",
       "      <td>12.7</td>\n",
       "      <td>0.0</td>\n",
       "      <td>0.0</td>\n",
       "      <td>0.0</td>\n",
       "      <td>2023</td>\n",
       "      <td>Liverpool</td>\n",
       "    </tr>\n",
       "    <tr>\n",
       "      <th>38</th>\n",
       "      <td>2023-03-11</td>\n",
       "      <td>12:30</td>\n",
       "      <td>Premier League</td>\n",
       "      <td>Matchweek 27</td>\n",
       "      <td>Sat</td>\n",
       "      <td>Away</td>\n",
       "      <td>L</td>\n",
       "      <td>0.0</td>\n",
       "      <td>1.0</td>\n",
       "      <td>Bournemouth</td>\n",
       "      <td>...</td>\n",
       "      <td>Match Report</td>\n",
       "      <td>NaN</td>\n",
       "      <td>14.0</td>\n",
       "      <td>5.0</td>\n",
       "      <td>18.5</td>\n",
       "      <td>0.0</td>\n",
       "      <td>0.0</td>\n",
       "      <td>1.0</td>\n",
       "      <td>2023</td>\n",
       "      <td>Liverpool</td>\n",
       "    </tr>\n",
       "    <tr>\n",
       "      <th>40</th>\n",
       "      <td>2023-04-01</td>\n",
       "      <td>12:30</td>\n",
       "      <td>Premier League</td>\n",
       "      <td>Matchweek 29</td>\n",
       "      <td>Sat</td>\n",
       "      <td>Away</td>\n",
       "      <td>L</td>\n",
       "      <td>1.0</td>\n",
       "      <td>4.0</td>\n",
       "      <td>Manchester City</td>\n",
       "      <td>...</td>\n",
       "      <td>Match Report</td>\n",
       "      <td>NaN</td>\n",
       "      <td>4.0</td>\n",
       "      <td>1.0</td>\n",
       "      <td>15.9</td>\n",
       "      <td>0.0</td>\n",
       "      <td>0.0</td>\n",
       "      <td>0.0</td>\n",
       "      <td>2023</td>\n",
       "      <td>Liverpool</td>\n",
       "    </tr>\n",
       "    <tr>\n",
       "      <th>41</th>\n",
       "      <td>2023-04-04</td>\n",
       "      <td>20:00</td>\n",
       "      <td>Premier League</td>\n",
       "      <td>Matchweek 8</td>\n",
       "      <td>Tue</td>\n",
       "      <td>Away</td>\n",
       "      <td>D</td>\n",
       "      <td>0.0</td>\n",
       "      <td>0.0</td>\n",
       "      <td>Chelsea</td>\n",
       "      <td>...</td>\n",
       "      <td>Match Report</td>\n",
       "      <td>NaN</td>\n",
       "      <td>7.0</td>\n",
       "      <td>3.0</td>\n",
       "      <td>25.4</td>\n",
       "      <td>0.0</td>\n",
       "      <td>0.0</td>\n",
       "      <td>0.0</td>\n",
       "      <td>2023</td>\n",
       "      <td>Liverpool</td>\n",
       "    </tr>\n",
       "    <tr>\n",
       "      <th>42</th>\n",
       "      <td>2023-04-09</td>\n",
       "      <td>16:30</td>\n",
       "      <td>Premier League</td>\n",
       "      <td>Matchweek 30</td>\n",
       "      <td>Sun</td>\n",
       "      <td>Home</td>\n",
       "      <td>D</td>\n",
       "      <td>2.0</td>\n",
       "      <td>2.0</td>\n",
       "      <td>Arsenal</td>\n",
       "      <td>...</td>\n",
       "      <td>Match Report</td>\n",
       "      <td>NaN</td>\n",
       "      <td>20.0</td>\n",
       "      <td>6.0</td>\n",
       "      <td>14.0</td>\n",
       "      <td>0.0</td>\n",
       "      <td>0.0</td>\n",
       "      <td>1.0</td>\n",
       "      <td>2023</td>\n",
       "      <td>Liverpool</td>\n",
       "    </tr>\n",
       "  </tbody>\n",
       "</table>\n",
       "<p>105 rows × 27 columns</p>\n",
       "</div>"
      ],
      "text/plain": [
       "          date   time            comp         round  day venue result   gf  \\\n",
       "1   2020-09-12  17:30  Premier League   Matchweek 1  Sat  Home      W  4.0   \n",
       "2   2020-09-20  16:30  Premier League   Matchweek 2  Sun  Away      W  2.0   \n",
       "4   2020-09-28  20:00  Premier League   Matchweek 3  Mon  Home      W  3.0   \n",
       "6   2020-10-04  19:15  Premier League   Matchweek 4  Sun  Away      L  2.0   \n",
       "7   2020-10-17  12:30  Premier League   Matchweek 5  Sat  Away      D  2.0   \n",
       "..         ...    ...             ...           ...  ...   ...    ...  ...   \n",
       "37  2023-03-05  16:30  Premier League  Matchweek 26  Sun  Home      W  7.0   \n",
       "38  2023-03-11  12:30  Premier League  Matchweek 27  Sat  Away      L  0.0   \n",
       "40  2023-04-01  12:30  Premier League  Matchweek 29  Sat  Away      L  1.0   \n",
       "41  2023-04-04  20:00  Premier League   Matchweek 8  Tue  Away      D  0.0   \n",
       "42  2023-04-09  16:30  Premier League  Matchweek 30  Sun  Home      D  2.0   \n",
       "\n",
       "     ga         opponent  ...  match report  notes    sh  sot  dist   fk   pk  \\\n",
       "1   3.0     Leeds United  ...  Match Report    NaN  20.0  4.0  18.4  0.0  2.0   \n",
       "2   0.0          Chelsea  ...  Match Report    NaN  18.0  5.0  18.2  1.0  0.0   \n",
       "4   1.0          Arsenal  ...  Match Report    NaN  21.0  8.0  17.9  0.0  0.0   \n",
       "6   7.0      Aston Villa  ...  Match Report    NaN  14.0  8.0  16.3  1.0  0.0   \n",
       "7   2.0          Everton  ...  Match Report    NaN  22.0  8.0  16.0  2.0  0.0   \n",
       "..  ...              ...  ...           ...    ...   ...  ...   ...  ...  ...   \n",
       "37  0.0   Manchester Utd  ...  Match Report    NaN  18.0  8.0  12.7  0.0  0.0   \n",
       "38  1.0      Bournemouth  ...  Match Report    NaN  14.0  5.0  18.5  0.0  0.0   \n",
       "40  4.0  Manchester City  ...  Match Report    NaN   4.0  1.0  15.9  0.0  0.0   \n",
       "41  0.0          Chelsea  ...  Match Report    NaN   7.0  3.0  25.4  0.0  0.0   \n",
       "42  2.0          Arsenal  ...  Match Report    NaN  20.0  6.0  14.0  0.0  0.0   \n",
       "\n",
       "   pkatt  season       team  \n",
       "1    2.0    2021  Liverpool  \n",
       "2    0.0    2021  Liverpool  \n",
       "4    0.0    2021  Liverpool  \n",
       "6    0.0    2021  Liverpool  \n",
       "7    0.0    2021  Liverpool  \n",
       "..   ...     ...        ...  \n",
       "37   0.0    2023  Liverpool  \n",
       "38   1.0    2023  Liverpool  \n",
       "40   0.0    2023  Liverpool  \n",
       "41   0.0    2023  Liverpool  \n",
       "42   1.0    2023  Liverpool  \n",
       "\n",
       "[105 rows x 27 columns]"
      ]
     },
     "execution_count": 48,
     "metadata": {},
     "output_type": "execute_result"
    }
   ],
   "source": [
    "matches[matches[\"team\"] == \"Liverpool\"].sort_values(\"date\")"
   ]
  },
  {
   "cell_type": "code",
   "execution_count": 49,
   "metadata": {},
   "outputs": [
    {
     "data": {
      "text/plain": [
       "(105, 27)"
      ]
     },
     "execution_count": 49,
     "metadata": {},
     "output_type": "execute_result"
    }
   ],
   "source": [
    "#COUNT LIVERPOOL MATCHES\n",
    "matches[matches[\"team\"] == \"Liverpool\"].shape\n",
    "        "
   ]
  },
  {
   "cell_type": "code",
   "execution_count": 50,
   "metadata": {},
   "outputs": [
    {
     "data": {
      "text/plain": [
       "Matchweek 1     60\n",
       "Matchweek 18    60\n",
       "Matchweek 30    60\n",
       "Matchweek 29    60\n",
       "Matchweek 27    60\n",
       "Matchweek 26    60\n",
       "Matchweek 7     60\n",
       "Matchweek 24    60\n",
       "Matchweek 12    60\n",
       "Matchweek 23    60\n",
       "Matchweek 2     60\n",
       "Matchweek 21    60\n",
       "Matchweek 20    60\n",
       "Matchweek 19    60\n",
       "Matchweek 22    60\n",
       "Matchweek 17    60\n",
       "Matchweek 9     60\n",
       "Matchweek 3     60\n",
       "Matchweek 4     60\n",
       "Matchweek 16    60\n",
       "Matchweek 6     60\n",
       "Matchweek 8     60\n",
       "Matchweek 5     60\n",
       "Matchweek 10    60\n",
       "Matchweek 11    60\n",
       "Matchweek 13    60\n",
       "Matchweek 14    60\n",
       "Matchweek 15    60\n",
       "Matchweek 25    58\n",
       "Matchweek 28    54\n",
       "Matchweek 31    40\n",
       "Matchweek 32    40\n",
       "Matchweek 34    40\n",
       "Matchweek 35    40\n",
       "Matchweek 36    40\n",
       "Matchweek 33    40\n",
       "Matchweek 37    40\n",
       "Matchweek 38    40\n",
       "Name: round, dtype: int64"
      ]
     },
     "execution_count": 50,
     "metadata": {},
     "output_type": "execute_result"
    }
   ],
   "source": [
    "matches[\"round\"].value_counts()"
   ]
  },
  {
   "cell_type": "code",
   "execution_count": 51,
   "metadata": {},
   "outputs": [],
   "source": [
    "del matches[\"comp\"]\n",
    "del matches[\"notes\"]"
   ]
  },
  {
   "cell_type": "code",
   "execution_count": 52,
   "metadata": {},
   "outputs": [],
   "source": [
    "matches[\"date\"] = pd.to_datetime(matches[\"date\"])"
   ]
  },
  {
   "cell_type": "code",
   "execution_count": 53,
   "metadata": {},
   "outputs": [],
   "source": [
    "matches[\"target\"] = (matches[\"result\"] == \"W\").astype(\"int\")"
   ]
  },
  {
   "cell_type": "code",
   "execution_count": 54,
   "metadata": {},
   "outputs": [
    {
     "data": {
      "text/html": [
       "<div>\n",
       "<style scoped>\n",
       "    .dataframe tbody tr th:only-of-type {\n",
       "        vertical-align: middle;\n",
       "    }\n",
       "\n",
       "    .dataframe tbody tr th {\n",
       "        vertical-align: top;\n",
       "    }\n",
       "\n",
       "    .dataframe thead th {\n",
       "        text-align: right;\n",
       "    }\n",
       "</style>\n",
       "<table border=\"1\" class=\"dataframe\">\n",
       "  <thead>\n",
       "    <tr style=\"text-align: right;\">\n",
       "      <th></th>\n",
       "      <th>date</th>\n",
       "      <th>time</th>\n",
       "      <th>round</th>\n",
       "      <th>day</th>\n",
       "      <th>venue</th>\n",
       "      <th>result</th>\n",
       "      <th>gf</th>\n",
       "      <th>ga</th>\n",
       "      <th>opponent</th>\n",
       "      <th>xg</th>\n",
       "      <th>...</th>\n",
       "      <th>match report</th>\n",
       "      <th>sh</th>\n",
       "      <th>sot</th>\n",
       "      <th>dist</th>\n",
       "      <th>fk</th>\n",
       "      <th>pk</th>\n",
       "      <th>pkatt</th>\n",
       "      <th>season</th>\n",
       "      <th>team</th>\n",
       "      <th>target</th>\n",
       "    </tr>\n",
       "  </thead>\n",
       "  <tbody>\n",
       "    <tr>\n",
       "      <th>0</th>\n",
       "      <td>2022-08-05</td>\n",
       "      <td>20:00</td>\n",
       "      <td>Matchweek 1</td>\n",
       "      <td>Fri</td>\n",
       "      <td>Away</td>\n",
       "      <td>W</td>\n",
       "      <td>2.0</td>\n",
       "      <td>0.0</td>\n",
       "      <td>Crystal Palace</td>\n",
       "      <td>1.0</td>\n",
       "      <td>...</td>\n",
       "      <td>Match Report</td>\n",
       "      <td>10.0</td>\n",
       "      <td>2.0</td>\n",
       "      <td>14.6</td>\n",
       "      <td>1.0</td>\n",
       "      <td>0.0</td>\n",
       "      <td>0.0</td>\n",
       "      <td>2023</td>\n",
       "      <td>Arsenal</td>\n",
       "      <td>1</td>\n",
       "    </tr>\n",
       "    <tr>\n",
       "      <th>1</th>\n",
       "      <td>2022-08-13</td>\n",
       "      <td>15:00</td>\n",
       "      <td>Matchweek 2</td>\n",
       "      <td>Sat</td>\n",
       "      <td>Home</td>\n",
       "      <td>W</td>\n",
       "      <td>4.0</td>\n",
       "      <td>2.0</td>\n",
       "      <td>Leicester City</td>\n",
       "      <td>2.7</td>\n",
       "      <td>...</td>\n",
       "      <td>Match Report</td>\n",
       "      <td>19.0</td>\n",
       "      <td>7.0</td>\n",
       "      <td>13.0</td>\n",
       "      <td>0.0</td>\n",
       "      <td>0.0</td>\n",
       "      <td>0.0</td>\n",
       "      <td>2023</td>\n",
       "      <td>Arsenal</td>\n",
       "      <td>1</td>\n",
       "    </tr>\n",
       "    <tr>\n",
       "      <th>2</th>\n",
       "      <td>2022-08-20</td>\n",
       "      <td>17:30</td>\n",
       "      <td>Matchweek 3</td>\n",
       "      <td>Sat</td>\n",
       "      <td>Away</td>\n",
       "      <td>W</td>\n",
       "      <td>3.0</td>\n",
       "      <td>0.0</td>\n",
       "      <td>Bournemouth</td>\n",
       "      <td>1.3</td>\n",
       "      <td>...</td>\n",
       "      <td>Match Report</td>\n",
       "      <td>14.0</td>\n",
       "      <td>6.0</td>\n",
       "      <td>14.8</td>\n",
       "      <td>0.0</td>\n",
       "      <td>0.0</td>\n",
       "      <td>0.0</td>\n",
       "      <td>2023</td>\n",
       "      <td>Arsenal</td>\n",
       "      <td>1</td>\n",
       "    </tr>\n",
       "    <tr>\n",
       "      <th>3</th>\n",
       "      <td>2022-08-27</td>\n",
       "      <td>17:30</td>\n",
       "      <td>Matchweek 4</td>\n",
       "      <td>Sat</td>\n",
       "      <td>Home</td>\n",
       "      <td>W</td>\n",
       "      <td>2.0</td>\n",
       "      <td>1.0</td>\n",
       "      <td>Fulham</td>\n",
       "      <td>2.6</td>\n",
       "      <td>...</td>\n",
       "      <td>Match Report</td>\n",
       "      <td>22.0</td>\n",
       "      <td>8.0</td>\n",
       "      <td>15.5</td>\n",
       "      <td>1.0</td>\n",
       "      <td>0.0</td>\n",
       "      <td>0.0</td>\n",
       "      <td>2023</td>\n",
       "      <td>Arsenal</td>\n",
       "      <td>1</td>\n",
       "    </tr>\n",
       "    <tr>\n",
       "      <th>4</th>\n",
       "      <td>2022-08-31</td>\n",
       "      <td>19:30</td>\n",
       "      <td>Matchweek 5</td>\n",
       "      <td>Wed</td>\n",
       "      <td>Home</td>\n",
       "      <td>W</td>\n",
       "      <td>2.0</td>\n",
       "      <td>1.0</td>\n",
       "      <td>Aston Villa</td>\n",
       "      <td>2.4</td>\n",
       "      <td>...</td>\n",
       "      <td>Match Report</td>\n",
       "      <td>22.0</td>\n",
       "      <td>8.0</td>\n",
       "      <td>16.3</td>\n",
       "      <td>1.0</td>\n",
       "      <td>0.0</td>\n",
       "      <td>0.0</td>\n",
       "      <td>2023</td>\n",
       "      <td>Arsenal</td>\n",
       "      <td>1</td>\n",
       "    </tr>\n",
       "    <tr>\n",
       "      <th>...</th>\n",
       "      <td>...</td>\n",
       "      <td>...</td>\n",
       "      <td>...</td>\n",
       "      <td>...</td>\n",
       "      <td>...</td>\n",
       "      <td>...</td>\n",
       "      <td>...</td>\n",
       "      <td>...</td>\n",
       "      <td>...</td>\n",
       "      <td>...</td>\n",
       "      <td>...</td>\n",
       "      <td>...</td>\n",
       "      <td>...</td>\n",
       "      <td>...</td>\n",
       "      <td>...</td>\n",
       "      <td>...</td>\n",
       "      <td>...</td>\n",
       "      <td>...</td>\n",
       "      <td>...</td>\n",
       "      <td>...</td>\n",
       "      <td>...</td>\n",
       "    </tr>\n",
       "    <tr>\n",
       "      <th>38</th>\n",
       "      <td>2021-05-02</td>\n",
       "      <td>19:15</td>\n",
       "      <td>Matchweek 34</td>\n",
       "      <td>Sun</td>\n",
       "      <td>Away</td>\n",
       "      <td>L</td>\n",
       "      <td>0.0</td>\n",
       "      <td>4.0</td>\n",
       "      <td>Tottenham</td>\n",
       "      <td>0.5</td>\n",
       "      <td>...</td>\n",
       "      <td>Match Report</td>\n",
       "      <td>8.0</td>\n",
       "      <td>1.0</td>\n",
       "      <td>18.2</td>\n",
       "      <td>0.0</td>\n",
       "      <td>0.0</td>\n",
       "      <td>0.0</td>\n",
       "      <td>2021</td>\n",
       "      <td>Sheffield United</td>\n",
       "      <td>0</td>\n",
       "    </tr>\n",
       "    <tr>\n",
       "      <th>39</th>\n",
       "      <td>2021-05-08</td>\n",
       "      <td>15:00</td>\n",
       "      <td>Matchweek 35</td>\n",
       "      <td>Sat</td>\n",
       "      <td>Home</td>\n",
       "      <td>L</td>\n",
       "      <td>0.0</td>\n",
       "      <td>2.0</td>\n",
       "      <td>Crystal Palace</td>\n",
       "      <td>0.7</td>\n",
       "      <td>...</td>\n",
       "      <td>Match Report</td>\n",
       "      <td>7.0</td>\n",
       "      <td>0.0</td>\n",
       "      <td>13.4</td>\n",
       "      <td>1.0</td>\n",
       "      <td>0.0</td>\n",
       "      <td>0.0</td>\n",
       "      <td>2021</td>\n",
       "      <td>Sheffield United</td>\n",
       "      <td>0</td>\n",
       "    </tr>\n",
       "    <tr>\n",
       "      <th>40</th>\n",
       "      <td>2021-05-16</td>\n",
       "      <td>19:00</td>\n",
       "      <td>Matchweek 36</td>\n",
       "      <td>Sun</td>\n",
       "      <td>Away</td>\n",
       "      <td>W</td>\n",
       "      <td>1.0</td>\n",
       "      <td>0.0</td>\n",
       "      <td>Everton</td>\n",
       "      <td>1.2</td>\n",
       "      <td>...</td>\n",
       "      <td>Match Report</td>\n",
       "      <td>10.0</td>\n",
       "      <td>3.0</td>\n",
       "      <td>18.5</td>\n",
       "      <td>0.0</td>\n",
       "      <td>0.0</td>\n",
       "      <td>0.0</td>\n",
       "      <td>2021</td>\n",
       "      <td>Sheffield United</td>\n",
       "      <td>1</td>\n",
       "    </tr>\n",
       "    <tr>\n",
       "      <th>41</th>\n",
       "      <td>2021-05-19</td>\n",
       "      <td>18:00</td>\n",
       "      <td>Matchweek 37</td>\n",
       "      <td>Wed</td>\n",
       "      <td>Away</td>\n",
       "      <td>L</td>\n",
       "      <td>0.0</td>\n",
       "      <td>1.0</td>\n",
       "      <td>Newcastle Utd</td>\n",
       "      <td>0.9</td>\n",
       "      <td>...</td>\n",
       "      <td>Match Report</td>\n",
       "      <td>11.0</td>\n",
       "      <td>1.0</td>\n",
       "      <td>18.3</td>\n",
       "      <td>1.0</td>\n",
       "      <td>0.0</td>\n",
       "      <td>0.0</td>\n",
       "      <td>2021</td>\n",
       "      <td>Sheffield United</td>\n",
       "      <td>0</td>\n",
       "    </tr>\n",
       "    <tr>\n",
       "      <th>42</th>\n",
       "      <td>2021-05-23</td>\n",
       "      <td>16:00</td>\n",
       "      <td>Matchweek 38</td>\n",
       "      <td>Sun</td>\n",
       "      <td>Home</td>\n",
       "      <td>W</td>\n",
       "      <td>1.0</td>\n",
       "      <td>0.0</td>\n",
       "      <td>Burnley</td>\n",
       "      <td>0.5</td>\n",
       "      <td>...</td>\n",
       "      <td>Match Report</td>\n",
       "      <td>12.0</td>\n",
       "      <td>3.0</td>\n",
       "      <td>17.4</td>\n",
       "      <td>0.0</td>\n",
       "      <td>0.0</td>\n",
       "      <td>0.0</td>\n",
       "      <td>2021</td>\n",
       "      <td>Sheffield United</td>\n",
       "      <td>1</td>\n",
       "    </tr>\n",
       "  </tbody>\n",
       "</table>\n",
       "<p>2112 rows × 26 columns</p>\n",
       "</div>"
      ],
      "text/plain": [
       "         date   time         round  day venue result   gf   ga  \\\n",
       "0  2022-08-05  20:00   Matchweek 1  Fri  Away      W  2.0  0.0   \n",
       "1  2022-08-13  15:00   Matchweek 2  Sat  Home      W  4.0  2.0   \n",
       "2  2022-08-20  17:30   Matchweek 3  Sat  Away      W  3.0  0.0   \n",
       "3  2022-08-27  17:30   Matchweek 4  Sat  Home      W  2.0  1.0   \n",
       "4  2022-08-31  19:30   Matchweek 5  Wed  Home      W  2.0  1.0   \n",
       "..        ...    ...           ...  ...   ...    ...  ...  ...   \n",
       "38 2021-05-02  19:15  Matchweek 34  Sun  Away      L  0.0  4.0   \n",
       "39 2021-05-08  15:00  Matchweek 35  Sat  Home      L  0.0  2.0   \n",
       "40 2021-05-16  19:00  Matchweek 36  Sun  Away      W  1.0  0.0   \n",
       "41 2021-05-19  18:00  Matchweek 37  Wed  Away      L  0.0  1.0   \n",
       "42 2021-05-23  16:00  Matchweek 38  Sun  Home      W  1.0  0.0   \n",
       "\n",
       "          opponent   xg  ...  match report    sh  sot  dist   fk   pk pkatt  \\\n",
       "0   Crystal Palace  1.0  ...  Match Report  10.0  2.0  14.6  1.0  0.0   0.0   \n",
       "1   Leicester City  2.7  ...  Match Report  19.0  7.0  13.0  0.0  0.0   0.0   \n",
       "2      Bournemouth  1.3  ...  Match Report  14.0  6.0  14.8  0.0  0.0   0.0   \n",
       "3           Fulham  2.6  ...  Match Report  22.0  8.0  15.5  1.0  0.0   0.0   \n",
       "4      Aston Villa  2.4  ...  Match Report  22.0  8.0  16.3  1.0  0.0   0.0   \n",
       "..             ...  ...  ...           ...   ...  ...   ...  ...  ...   ...   \n",
       "38       Tottenham  0.5  ...  Match Report   8.0  1.0  18.2  0.0  0.0   0.0   \n",
       "39  Crystal Palace  0.7  ...  Match Report   7.0  0.0  13.4  1.0  0.0   0.0   \n",
       "40         Everton  1.2  ...  Match Report  10.0  3.0  18.5  0.0  0.0   0.0   \n",
       "41   Newcastle Utd  0.9  ...  Match Report  11.0  1.0  18.3  1.0  0.0   0.0   \n",
       "42         Burnley  0.5  ...  Match Report  12.0  3.0  17.4  0.0  0.0   0.0   \n",
       "\n",
       "    season              team  target  \n",
       "0     2023           Arsenal       1  \n",
       "1     2023           Arsenal       1  \n",
       "2     2023           Arsenal       1  \n",
       "3     2023           Arsenal       1  \n",
       "4     2023           Arsenal       1  \n",
       "..     ...               ...     ...  \n",
       "38    2021  Sheffield United       0  \n",
       "39    2021  Sheffield United       0  \n",
       "40    2021  Sheffield United       1  \n",
       "41    2021  Sheffield United       0  \n",
       "42    2021  Sheffield United       1  \n",
       "\n",
       "[2112 rows x 26 columns]"
      ]
     },
     "execution_count": 54,
     "metadata": {},
     "output_type": "execute_result"
    }
   ],
   "source": [
    "matches"
   ]
  },
  {
   "cell_type": "code",
   "execution_count": 228,
   "metadata": {},
   "outputs": [
    {
     "data": {
      "image/png": "[encoded data removed]",
      "text/plain": [
       "<Figure size 640x480 with 1 Axes>"
      ]
     },
     "metadata": {},
     "output_type": "display_data"
    }
   ],
   "source": [
    "#result unique values\n",
    "matches[\"result\"].unique()\n",
    "\n",
    "#visua;ize the data \n",
    "import matplotlib.pyplot as plt\n",
    "import seaborn as sns\n",
    "\n",
    "sns.countplot(x=\"result\", data=matches)\n",
    "plt.show()\n",
    "    "
   ]
  },
  {
   "cell_type": "code",
   "execution_count": 57,
   "metadata": {},
   "outputs": [
    {
     "data": {
      "application/vnd.plotly.v1+json": {
       "config": {
        "plotlyServerURL": "https://plot.ly"
       },
       "data": [
        {
         "alignmentgroup": "True",
         "bingroup": "x",
         "hovertemplate": "result=D<br>round=%{x}<br>count=%{y}<extra></extra>",
         "legendgroup": "D",
         "marker": {
          "color": "#636efa"
         },
         "name": "D",
         "offsetgroup": "D",
         "orientation": "v",
         "showlegend": true,
         "type": "histogram",
         "x": [
          "Matchweek 1",
          "Matchweek 2",
          "Matchweek 6",
          "Matchweek 9",
          "Matchweek 21",
          "Matchweek 25",
          "Matchweek 8",
          "Matchweek 30",
          "Matchweek 3",
          "Matchweek 6",
          "Matchweek 7",
          "Matchweek 10",
          "Matchweek 18",
          "Matchweek 21",
          "Matchweek 32",
          "Matchweek 36",
          "Matchweek 5",
          "Matchweek 8",
          "Matchweek 10",
          "Matchweek 12",
          "Matchweek 15",
          "Matchweek 16",
          "Matchweek 19",
          "Matchweek 32",
          "Matchweek 33"
         ],
         "xaxis": "x",
         "yaxis": "y"
        },
        {
         "alignmentgroup": "True",
         "bingroup": "x",
         "hovertemplate": "result=L<br>round=%{x}<br>count=%{y}<extra></extra>",
         "legendgroup": "L",
         "marker": {
          "color": "#EF553B"
         },
         "name": "L",
         "offsetgroup": "L",
         "orientation": "v",
         "showlegend": true,
         "type": "histogram",
         "x": [
          "Matchweek 3",
          "Matchweek 10",
          "Matchweek 13",
          "Matchweek 14",
          "Matchweek 19",
          "Matchweek 20",
          "Matchweek 22",
          "Matchweek 27",
          "Matchweek 29",
          "Matchweek 11",
          "Matchweek 20",
          "Matchweek 4",
          "Matchweek 17",
          "Matchweek 18",
          "Matchweek 22",
          "Matchweek 23",
          "Matchweek 24",
          "Matchweek 25",
          "Matchweek 29",
          "Matchweek 27"
         ],
         "xaxis": "x",
         "yaxis": "y"
        },
        {
         "alignmentgroup": "True",
         "bingroup": "x",
         "hovertemplate": "result=W<br>round=%{x}<br>count=%{y}<extra></extra>",
         "legendgroup": "W",
         "marker": {
          "color": "#00cc96"
         },
         "name": "W",
         "offsetgroup": "W",
         "orientation": "v",
         "showlegend": true,
         "type": "histogram",
         "x": [
          "Matchweek 4",
          "Matchweek 5",
          "Matchweek 11",
          "Matchweek 12",
          "Matchweek 15",
          "Matchweek 16",
          "Matchweek 17",
          "Matchweek 18",
          "Matchweek 23",
          "Matchweek 24",
          "Matchweek 7",
          "Matchweek 26",
          "Matchweek 1",
          "Matchweek 2",
          "Matchweek 4",
          "Matchweek 5",
          "Matchweek 8",
          "Matchweek 9",
          "Matchweek 12",
          "Matchweek 13",
          "Matchweek 14",
          "Matchweek 15",
          "Matchweek 16",
          "Matchweek 17",
          "Matchweek 22",
          "Matchweek 23",
          "Matchweek 24",
          "Matchweek 25",
          "Matchweek 26",
          "Matchweek 19",
          "Matchweek 28",
          "Matchweek 29",
          "Matchweek 27",
          "Matchweek 31",
          "Matchweek 30",
          "Matchweek 34",
          "Matchweek 35",
          "Matchweek 33",
          "Matchweek 37",
          "Matchweek 38",
          "Matchweek 1",
          "Matchweek 2",
          "Matchweek 3",
          "Matchweek 6",
          "Matchweek 7",
          "Matchweek 9",
          "Matchweek 11",
          "Matchweek 13",
          "Matchweek 14",
          "Matchweek 20",
          "Matchweek 21",
          "Matchweek 26",
          "Matchweek 28",
          "Matchweek 30",
          "Matchweek 31",
          "Matchweek 35",
          "Matchweek 34",
          "Matchweek 36",
          "Matchweek 37",
          "Matchweek 38"
         ],
         "xaxis": "x",
         "yaxis": "y"
        }
       ],
       "layout": {
        "barmode": "relative",
        "legend": {
         "title": {
          "text": "result"
         },
         "tracegroupgap": 0
        },
        "margin": {
         "t": 60
        },
        "template": {
         "data": {
          "bar": [
           {
            "error_x": {
             "color": "#2a3f5f"
            },
            "error_y": {
             "color": "#2a3f5f"
            },
            "marker": {
             "line": {
              "color": "#E5ECF6",
              "width": 0.5
             }
            },
            "type": "bar"
           }
          ],
          "barpolar": [
           {
            "marker": {
             "line": {
              "color": "#E5ECF6",
              "width": 0.5
             }
            },
            "type": "barpolar"
           }
          ],
          "carpet": [
           {
            "aaxis": {
             "endlinecolor": "#2a3f5f",
             "gridcolor": "white",
             "linecolor": "white",
             "minorgridcolor": "white",
             "startlinecolor": "#2a3f5f"
            },
            "baxis": {
             "endlinecolor": "#2a3f5f",
             "gridcolor": "white",
             "linecolor": "white",
             "minorgridcolor": "white",
             "startlinecolor": "#2a3f5f"
            },
            "type": "carpet"
           }
          ],
          "choropleth": [
           {
            "colorbar": {
             "outlinewidth": 0,
             "ticks": ""
            },
            "type": "choropleth"
           }
          ],
          "contour": [
           {
            "colorbar": {
             "outlinewidth": 0,
             "ticks": ""
            },
            "colorscale": [
             [
              0,
              "#0d0887"
             ],
             [
              0.1111111111111111,
              "#46039f"
             ],
             [
              0.2222222222222222,
              "#7201a8"
             ],
             [
              0.3333333333333333,
              "#9c179e"
             ],
             [
              0.4444444444444444,
              "#bd3786"
             ],
             [
              0.5555555555555556,
              "#d8576b"
             ],
             [
              0.6666666666666666,
              "#ed7953"
             ],
             [
              0.7777777777777778,
              "#fb9f3a"
             ],
             [
              0.8888888888888888,
              "#fdca26"
             ],
             [
              1,
              "#f0f921"
             ]
            ],
            "type": "contour"
           }
          ],
          "contourcarpet": [
           {
            "colorbar": {
             "outlinewidth": 0,
             "ticks": ""
            },
            "type": "contourcarpet"
           }
          ],
          "heatmap": [
           {
            "colorbar": {
             "outlinewidth": 0,
             "ticks": ""
            },
            "colorscale": [
             [
              0,
              "#0d0887"
             ],
             [
              0.1111111111111111,
              "#46039f"
             ],
             [
              0.2222222222222222,
              "#7201a8"
             ],
             [
              0.3333333333333333,
              "#9c179e"
             ],
             [
              0.4444444444444444,
              "#bd3786"
             ],
             [
              0.5555555555555556,
              "#d8576b"
             ],
             [
              0.6666666666666666,
              "#ed7953"
             ],
             [
              0.7777777777777778,
              "#fb9f3a"
             ],
             [
              0.8888888888888888,
              "#fdca26"
             ],
             [
              1,
              "#f0f921"
             ]
            ],
            "type": "heatmap"
           }
          ],
          "heatmapgl": [
           {
            "colorbar": {
             "outlinewidth": 0,
             "ticks": ""
            },
            "colorscale": [
             [
              0,
              "#0d0887"
             ],
             [
              0.1111111111111111,
              "#46039f"
             ],
             [
              0.2222222222222222,
              "#7201a8"
             ],
             [
              0.3333333333333333,
              "#9c179e"
             ],
             [
              0.4444444444444444,
              "#bd3786"
             ],
             [
              0.5555555555555556,
              "#d8576b"
             ],
             [
              0.6666666666666666,
              "#ed7953"
             ],
             [
              0.7777777777777778,
              "#fb9f3a"
             ],
             [
              0.8888888888888888,
              "#fdca26"
             ],
             [
              1,
              "#f0f921"
             ]
            ],
            "type": "heatmapgl"
           }
          ],
          "histogram": [
           {
            "marker": {
             "colorbar": {
              "outlinewidth": 0,
              "ticks": ""
             }
            },
            "type": "histogram"
           }
          ],
          "histogram2d": [
           {
            "colorbar": {
             "outlinewidth": 0,
             "ticks": ""
            },
            "colorscale": [
             [
              0,
              "#0d0887"
             ],
             [
              0.1111111111111111,
              "#46039f"
             ],
             [
              0.2222222222222222,
              "#7201a8"
             ],
             [
              0.3333333333333333,
              "#9c179e"
             ],
             [
              0.4444444444444444,
              "#bd3786"
             ],
             [
              0.5555555555555556,
              "#d8576b"
             ],
             [
              0.6666666666666666,
              "#ed7953"
             ],
             [
              0.7777777777777778,
              "#fb9f3a"
             ],
             [
              0.8888888888888888,
              "#fdca26"
             ],
             [
              1,
              "#f0f921"
             ]
            ],
            "type": "histogram2d"
           }
          ],
          "histogram2dcontour": [
           {
            "colorbar": {
             "outlinewidth": 0,
             "ticks": ""
            },
            "colorscale": [
             [
              0,
              "#0d0887"
             ],
             [
              0.1111111111111111,
              "#46039f"
             ],
             [
              0.2222222222222222,
              "#7201a8"
             ],
             [
              0.3333333333333333,
              "#9c179e"
             ],
             [
              0.4444444444444444,
              "#bd3786"
             ],
             [
              0.5555555555555556,
              "#d8576b"
             ],
             [
              0.6666666666666666,
              "#ed7953"
             ],
             [
              0.7777777777777778,
              "#fb9f3a"
             ],
             [
              0.8888888888888888,
              "#fdca26"
             ],
             [
              1,
              "#f0f921"
             ]
            ],
            "type": "histogram2dcontour"
           }
          ],
          "mesh3d": [
           {
            "colorbar": {
             "outlinewidth": 0,
             "ticks": ""
            },
            "type": "mesh3d"
           }
          ],
          "parcoords": [
           {
            "line": {
             "colorbar": {
              "outlinewidth": 0,
              "ticks": ""
             }
            },
            "type": "parcoords"
           }
          ],
          "pie": [
           {
            "automargin": true,
            "type": "pie"
           }
          ],
          "scatter": [
           {
            "marker": {
             "colorbar": {
              "outlinewidth": 0,
              "ticks": ""
             }
            },
            "type": "scatter"
           }
          ],
          "scatter3d": [
           {
            "line": {
             "colorbar": {
              "outlinewidth": 0,
              "ticks": ""
             }
            },
            "marker": {
             "colorbar": {
              "outlinewidth": 0,
              "ticks": ""
             }
            },
            "type": "scatter3d"
           }
          ],
          "scattercarpet": [
           {
            "marker": {
             "colorbar": {
              "outlinewidth": 0,
              "ticks": ""
             }
            },
            "type": "scattercarpet"
           }
          ],
          "scattergeo": [
           {
            "marker": {
             "colorbar": {
              "outlinewidth": 0,
              "ticks": ""
             }
            },
            "type": "scattergeo"
           }
          ],
          "scattergl": [
           {
            "marker": {
             "colorbar": {
              "outlinewidth": 0,
              "ticks": ""
             }
            },
            "type": "scattergl"
           }
          ],
          "scattermapbox": [
           {
            "marker": {
             "colorbar": {
              "outlinewidth": 0,
              "ticks": ""
             }
            },
            "type": "scattermapbox"
           }
          ],
          "scatterpolar": [
           {
            "marker": {
             "colorbar": {
              "outlinewidth": 0,
              "ticks": ""
             }
            },
            "type": "scatterpolar"
           }
          ],
          "scatterpolargl": [
           {
            "marker": {
             "colorbar": {
              "outlinewidth": 0,
              "ticks": ""
             }
            },
            "type": "scatterpolargl"
           }
          ],
          "scatterternary": [
           {
            "marker": {
             "colorbar": {
              "outlinewidth": 0,
              "ticks": ""
             }
            },
            "type": "scatterternary"
           }
          ],
          "surface": [
           {
            "colorbar": {
             "outlinewidth": 0,
             "ticks": ""
            },
            "colorscale": [
             [
              0,
              "#0d0887"
             ],
             [
              0.1111111111111111,
              "#46039f"
             ],
             [
              0.2222222222222222,
              "#7201a8"
             ],
             [
              0.3333333333333333,
              "#9c179e"
             ],
             [
              0.4444444444444444,
              "#bd3786"
             ],
             [
              0.5555555555555556,
              "#d8576b"
             ],
             [
              0.6666666666666666,
              "#ed7953"
             ],
             [
              0.7777777777777778,
              "#fb9f3a"
             ],
             [
              0.8888888888888888,
              "#fdca26"
             ],
             [
              1,
              "#f0f921"
             ]
            ],
            "type": "surface"
           }
          ],
          "table": [
           {
            "cells": {
             "fill": {
              "color": "#EBF0F8"
             },
             "line": {
              "color": "white"
             }
            },
            "header": {
             "fill": {
              "color": "#C8D4E3"
             },
             "line": {
              "color": "white"
             }
            },
            "type": "table"
           }
          ]
         },
         "layout": {
          "annotationdefaults": {
           "arrowcolor": "#2a3f5f",
           "arrowhead": 0,
           "arrowwidth": 1
          },
          "autotypenumbers": "strict",
          "coloraxis": {
           "colorbar": {
            "outlinewidth": 0,
            "ticks": ""
           }
          },
          "colorscale": {
           "diverging": [
            [
             0,
             "#8e0152"
            ],
            [
             0.1,
             "#c51b7d"
            ],
            [
             0.2,
             "#de77ae"
            ],
            [
             0.3,
             "#f1b6da"
            ],
            [
             0.4,
             "#fde0ef"
            ],
            [
             0.5,
             "#f7f7f7"
            ],
            [
             0.6,
             "#e6f5d0"
            ],
            [
             0.7,
             "#b8e186"
            ],
            [
             0.8,
             "#7fbc41"
            ],
            [
             0.9,
             "#4d9221"
            ],
            [
             1,
             "#276419"
            ]
           ],
           "sequential": [
            [
             0,
             "#0d0887"
            ],
            [
             0.1111111111111111,
             "#46039f"
            ],
            [
             0.2222222222222222,
             "#7201a8"
            ],
            [
             0.3333333333333333,
             "#9c179e"
            ],
            [
             0.4444444444444444,
             "#bd3786"
            ],
            [
             0.5555555555555556,
             "#d8576b"
            ],
            [
             0.6666666666666666,
             "#ed7953"
            ],
            [
             0.7777777777777778,
             "#fb9f3a"
            ],
            [
             0.8888888888888888,
             "#fdca26"
            ],
            [
             1,
             "#f0f921"
            ]
           ],
           "sequentialminus": [
            [
             0,
             "#0d0887"
            ],
            [
             0.1111111111111111,
             "#46039f"
            ],
            [
             0.2222222222222222,
             "#7201a8"
            ],
            [
             0.3333333333333333,
             "#9c179e"
            ],
            [
             0.4444444444444444,
             "#bd3786"
            ],
            [
             0.5555555555555556,
             "#d8576b"
            ],
            [
             0.6666666666666666,
             "#ed7953"
            ],
            [
             0.7777777777777778,
             "#fb9f3a"
            ],
            [
             0.8888888888888888,
             "#fdca26"
            ],
            [
             1,
             "#f0f921"
            ]
           ]
          },
          "colorway": [
           "#636efa",
           "#EF553B",
           "#00cc96",
           "#ab63fa",
           "#FFA15A",
           "#19d3f3",
           "#FF6692",
           "#B6E880",
           "#FF97FF",
           "#FECB52"
          ],
          "font": {
           "color": "#2a3f5f"
          },
          "geo": {
           "bgcolor": "white",
           "lakecolor": "white",
           "landcolor": "#E5ECF6",
           "showlakes": true,
           "showland": true,
           "subunitcolor": "white"
          },
          "hoverlabel": {
           "align": "left"
          },
          "hovermode": "closest",
          "mapbox": {
           "style": "light"
          },
          "paper_bgcolor": "white",
          "plot_bgcolor": "#E5ECF6",
          "polar": {
           "angularaxis": {
            "gridcolor": "white",
            "linecolor": "white",
            "ticks": ""
           },
           "bgcolor": "#E5ECF6",
           "radialaxis": {
            "gridcolor": "white",
            "linecolor": "white",
            "ticks": ""
           }
          },
          "scene": {
           "xaxis": {
            "backgroundcolor": "#E5ECF6",
            "gridcolor": "white",
            "gridwidth": 2,
            "linecolor": "white",
            "showbackground": true,
            "ticks": "",
            "zerolinecolor": "white"
           },
           "yaxis": {
            "backgroundcolor": "#E5ECF6",
            "gridcolor": "white",
            "gridwidth": 2,
            "linecolor": "white",
            "showbackground": true,
            "ticks": "",
            "zerolinecolor": "white"
           },
           "zaxis": {
            "backgroundcolor": "#E5ECF6",
            "gridcolor": "white",
            "gridwidth": 2,
            "linecolor": "white",
            "showbackground": true,
            "ticks": "",
            "zerolinecolor": "white"
           }
          },
          "shapedefaults": {
           "line": {
            "color": "#2a3f5f"
           }
          },
          "ternary": {
           "aaxis": {
            "gridcolor": "white",
            "linecolor": "white",
            "ticks": ""
           },
           "baxis": {
            "gridcolor": "white",
            "linecolor": "white",
            "ticks": ""
           },
           "bgcolor": "#E5ECF6",
           "caxis": {
            "gridcolor": "white",
            "linecolor": "white",
            "ticks": ""
           }
          },
          "title": {
           "x": 0.05
          },
          "xaxis": {
           "automargin": true,
           "gridcolor": "white",
           "linecolor": "white",
           "ticks": "",
           "title": {
            "standoff": 15
           },
           "zerolinecolor": "white",
           "zerolinewidth": 2
          },
          "yaxis": {
           "automargin": true,
           "gridcolor": "white",
           "linecolor": "white",
           "ticks": "",
           "title": {
            "standoff": 15
           },
           "zerolinecolor": "white",
           "zerolinewidth": 2
          }
         }
        },
        "xaxis": {
         "anchor": "y",
         "domain": [
          0,
          1
         ],
         "title": {
          "text": "round"
         }
        },
        "yaxis": {
         "anchor": "x",
         "domain": [
          0,
          1
         ],
         "title": {
          "text": "count"
         }
        }
       }
      }
     },
     "metadata": {},
     "output_type": "display_data"
    }
   ],
   "source": [
    "#PLOTLY VISUALIZE LIVERPOOL MATCHES on the basis of round whether goal scored or not\n",
    "import plotly.express as px\n",
    "\n",
    "px.histogram(matches[matches[\"team\"] == \"Liverpool\"], x=\"round\", color=\"result\")\n",
    "    \n"
   ]
  },
  {
   "cell_type": "code",
   "execution_count": 58,
   "metadata": {},
   "outputs": [
    {
     "data": {
      "application/vnd.plotly.v1+json": {
       "config": {
        "plotlyServerURL": "https://plot.ly"
       },
       "data": [
        {
         "alignmentgroup": "True",
         "bingroup": "x",
         "hovertemplate": "result=D<br>time=%{x}<br>count=%{y}<extra></extra>",
         "legendgroup": "D",
         "marker": {
          "color": "#636efa"
         },
         "name": "D",
         "offsetgroup": "D",
         "orientation": "v",
         "showlegend": true,
         "type": "histogram",
         "x": [
          "12:30",
          "20:00",
          "12:30",
          "15:00",
          "12:30",
          "19:45",
          "20:00",
          "16:30",
          "17:30",
          "17:30",
          "16:30",
          "15:00",
          "16:30",
          "16:30",
          "16:30",
          "19:45",
          "12:30",
          "16:30",
          "12:30",
          "16:30",
          "16:30",
          "20:00",
          "16:30",
          "20:00",
          "12:30"
         ],
         "xaxis": "x",
         "yaxis": "y"
        },
        {
         "alignmentgroup": "True",
         "bingroup": "x",
         "hovertemplate": "result=L<br>time=%{x}<br>count=%{y}<extra></extra>",
         "legendgroup": "L",
         "marker": {
          "color": "#EF553B"
         },
         "name": "L",
         "offsetgroup": "L",
         "orientation": "v",
         "showlegend": true,
         "type": "histogram",
         "x": [
          "20:00",
          "16:30",
          "12:30",
          "19:45",
          "17:30",
          "15:00",
          "15:00",
          "12:30",
          "12:30",
          "16:30",
          "20:00",
          "19:15",
          "20:00",
          "20:00",
          "20:15",
          "16:30",
          "12:30",
          "17:30",
          "20:15",
          "14:00"
         ],
         "xaxis": "x",
         "yaxis": "y"
        },
        {
         "alignmentgroup": "True",
         "bingroup": "x",
         "hovertemplate": "result=W<br>time=%{x}<br>count=%{y}<extra></extra>",
         "legendgroup": "W",
         "marker": {
          "color": "#00cc96"
         },
         "name": "W",
         "offsetgroup": "W",
         "orientation": "v",
         "showlegend": true,
         "type": "histogram",
         "x": [
          "15:00",
          "20:00",
          "16:30",
          "19:30",
          "16:30",
          "15:00",
          "17:30",
          "20:00",
          "20:00",
          "17:30",
          "20:00",
          "16:30",
          "17:30",
          "12:30",
          "16:30",
          "15:00",
          "12:30",
          "16:30",
          "17:30",
          "15:00",
          "20:15",
          "15:00",
          "15:00",
          "20:00",
          "14:00",
          "14:00",
          "19:45",
          "14:00",
          "15:00",
          "19:45",
          "17:30",
          "12:30",
          "20:15",
          "12:30",
          "20:00",
          "16:30",
          "12:30",
          "20:00",
          "19:45",
          "16:00",
          "17:30",
          "16:30",
          "20:00",
          "20:00",
          "17:30",
          "19:15",
          "19:15",
          "20:00",
          "12:30",
          "20:00",
          "16:30",
          "19:15",
          "20:00",
          "20:00",
          "15:00",
          "20:15",
          "20:15",
          "16:30",
          "20:15",
          "16:00"
         ],
         "xaxis": "x",
         "yaxis": "y"
        }
       ],
       "layout": {
        "barmode": "relative",
        "legend": {
         "title": {
          "text": "result"
         },
         "tracegroupgap": 0
        },
        "margin": {
         "t": 60
        },
        "template": {
         "data": {
          "bar": [
           {
            "error_x": {
             "color": "#2a3f5f"
            },
            "error_y": {
             "color": "#2a3f5f"
            },
            "marker": {
             "line": {
              "color": "#E5ECF6",
              "width": 0.5
             }
            },
            "type": "bar"
           }
          ],
          "barpolar": [
           {
            "marker": {
             "line": {
              "color": "#E5ECF6",
              "width": 0.5
             }
            },
            "type": "barpolar"
           }
          ],
          "carpet": [
           {
            "aaxis": {
             "endlinecolor": "#2a3f5f",
             "gridcolor": "white",
             "linecolor": "white",
             "minorgridcolor": "white",
             "startlinecolor": "#2a3f5f"
            },
            "baxis": {
             "endlinecolor": "#2a3f5f",
             "gridcolor": "white",
             "linecolor": "white",
             "minorgridcolor": "white",
             "startlinecolor": "#2a3f5f"
            },
            "type": "carpet"
           }
          ],
          "choropleth": [
           {
            "colorbar": {
             "outlinewidth": 0,
             "ticks": ""
            },
            "type": "choropleth"
           }
          ],
          "contour": [
           {
            "colorbar": {
             "outlinewidth": 0,
             "ticks": ""
            },
            "colorscale": [
             [
              0,
              "#0d0887"
             ],
             [
              0.1111111111111111,
              "#46039f"
             ],
             [
              0.2222222222222222,
              "#7201a8"
             ],
             [
              0.3333333333333333,
              "#9c179e"
             ],
             [
              0.4444444444444444,
              "#bd3786"
             ],
             [
              0.5555555555555556,
              "#d8576b"
             ],
             [
              0.6666666666666666,
              "#ed7953"
             ],
             [
              0.7777777777777778,
              "#fb9f3a"
             ],
             [
              0.8888888888888888,
              "#fdca26"
             ],
             [
              1,
              "#f0f921"
             ]
            ],
            "type": "contour"
           }
          ],
          "contourcarpet": [
           {
            "colorbar": {
             "outlinewidth": 0,
             "ticks": ""
            },
            "type": "contourcarpet"
           }
          ],
          "heatmap": [
           {
            "colorbar": {
             "outlinewidth": 0,
             "ticks": ""
            },
            "colorscale": [
             [
              0,
              "#0d0887"
             ],
             [
              0.1111111111111111,
              "#46039f"
             ],
             [
              0.2222222222222222,
              "#7201a8"
             ],
             [
              0.3333333333333333,
              "#9c179e"
             ],
             [
              0.4444444444444444,
              "#bd3786"
             ],
             [
              0.5555555555555556,
              "#d8576b"
             ],
             [
              0.6666666666666666,
              "#ed7953"
             ],
             [
              0.7777777777777778,
              "#fb9f3a"
             ],
             [
              0.8888888888888888,
              "#fdca26"
             ],
             [
              1,
              "#f0f921"
             ]
            ],
            "type": "heatmap"
           }
          ],
          "heatmapgl": [
           {
            "colorbar": {
             "outlinewidth": 0,
             "ticks": ""
            },
            "colorscale": [
             [
              0,
              "#0d0887"
             ],
             [
              0.1111111111111111,
              "#46039f"
             ],
             [
              0.2222222222222222,
              "#7201a8"
             ],
             [
              0.3333333333333333,
              "#9c179e"
             ],
             [
              0.4444444444444444,
              "#bd3786"
             ],
             [
              0.5555555555555556,
              "#d8576b"
             ],
             [
              0.6666666666666666,
              "#ed7953"
             ],
             [
              0.7777777777777778,
              "#fb9f3a"
             ],
             [
              0.8888888888888888,
              "#fdca26"
             ],
             [
              1,
              "#f0f921"
             ]
            ],
            "type": "heatmapgl"
           }
          ],
          "histogram": [
           {
            "marker": {
             "colorbar": {
              "outlinewidth": 0,
              "ticks": ""
             }
            },
            "type": "histogram"
           }
          ],
          "histogram2d": [
           {
            "colorbar": {
             "outlinewidth": 0,
             "ticks": ""
            },
            "colorscale": [
             [
              0,
              "#0d0887"
             ],
             [
              0.1111111111111111,
              "#46039f"
             ],
             [
              0.2222222222222222,
              "#7201a8"
             ],
             [
              0.3333333333333333,
              "#9c179e"
             ],
             [
              0.4444444444444444,
              "#bd3786"
             ],
             [
              0.5555555555555556,
              "#d8576b"
             ],
             [
              0.6666666666666666,
              "#ed7953"
             ],
             [
              0.7777777777777778,
              "#fb9f3a"
             ],
             [
              0.8888888888888888,
              "#fdca26"
             ],
             [
              1,
              "#f0f921"
             ]
            ],
            "type": "histogram2d"
           }
          ],
          "histogram2dcontour": [
           {
            "colorbar": {
             "outlinewidth": 0,
             "ticks": ""
            },
            "colorscale": [
             [
              0,
              "#0d0887"
             ],
             [
              0.1111111111111111,
              "#46039f"
             ],
             [
              0.2222222222222222,
              "#7201a8"
             ],
             [
              0.3333333333333333,
              "#9c179e"
             ],
             [
              0.4444444444444444,
              "#bd3786"
             ],
             [
              0.5555555555555556,
              "#d8576b"
             ],
             [
              0.6666666666666666,
              "#ed7953"
             ],
             [
              0.7777777777777778,
              "#fb9f3a"
             ],
             [
              0.8888888888888888,
              "#fdca26"
             ],
             [
              1,
              "#f0f921"
             ]
            ],
            "type": "histogram2dcontour"
           }
          ],
          "mesh3d": [
           {
            "colorbar": {
             "outlinewidth": 0,
             "ticks": ""
            },
            "type": "mesh3d"
           }
          ],
          "parcoords": [
           {
            "line": {
             "colorbar": {
              "outlinewidth": 0,
              "ticks": ""
             }
            },
            "type": "parcoords"
           }
          ],
          "pie": [
           {
            "automargin": true,
            "type": "pie"
           }
          ],
          "scatter": [
           {
            "marker": {
             "colorbar": {
              "outlinewidth": 0,
              "ticks": ""
             }
            },
            "type": "scatter"
           }
          ],
          "scatter3d": [
           {
            "line": {
             "colorbar": {
              "outlinewidth": 0,
              "ticks": ""
             }
            },
            "marker": {
             "colorbar": {
              "outlinewidth": 0,
              "ticks": ""
             }
            },
            "type": "scatter3d"
           }
          ],
          "scattercarpet": [
           {
            "marker": {
             "colorbar": {
              "outlinewidth": 0,
              "ticks": ""
             }
            },
            "type": "scattercarpet"
           }
          ],
          "scattergeo": [
           {
            "marker": {
             "colorbar": {
              "outlinewidth": 0,
              "ticks": ""
             }
            },
            "type": "scattergeo"
           }
          ],
          "scattergl": [
           {
            "marker": {
             "colorbar": {
              "outlinewidth": 0,
              "ticks": ""
             }
            },
            "type": "scattergl"
           }
          ],
          "scattermapbox": [
           {
            "marker": {
             "colorbar": {
              "outlinewidth": 0,
              "ticks": ""
             }
            },
            "type": "scattermapbox"
           }
          ],
          "scatterpolar": [
           {
            "marker": {
             "colorbar": {
              "outlinewidth": 0,
              "ticks": ""
             }
            },
            "type": "scatterpolar"
           }
          ],
          "scatterpolargl": [
           {
            "marker": {
             "colorbar": {
              "outlinewidth": 0,
              "ticks": ""
             }
            },
            "type": "scatterpolargl"
           }
          ],
          "scatterternary": [
           {
            "marker": {
             "colorbar": {
              "outlinewidth": 0,
              "ticks": ""
             }
            },
            "type": "scatterternary"
           }
          ],
          "surface": [
           {
            "colorbar": {
             "outlinewidth": 0,
             "ticks": ""
            },
            "colorscale": [
             [
              0,
              "#0d0887"
             ],
             [
              0.1111111111111111,
              "#46039f"
             ],
             [
              0.2222222222222222,
              "#7201a8"
             ],
             [
              0.3333333333333333,
              "#9c179e"
             ],
             [
              0.4444444444444444,
              "#bd3786"
             ],
             [
              0.5555555555555556,
              "#d8576b"
             ],
             [
              0.6666666666666666,
              "#ed7953"
             ],
             [
              0.7777777777777778,
              "#fb9f3a"
             ],
             [
              0.8888888888888888,
              "#fdca26"
             ],
             [
              1,
              "#f0f921"
             ]
            ],
            "type": "surface"
           }
          ],
          "table": [
           {
            "cells": {
             "fill": {
              "color": "#EBF0F8"
             },
             "line": {
              "color": "white"
             }
            },
            "header": {
             "fill": {
              "color": "#C8D4E3"
             },
             "line": {
              "color": "white"
             }
            },
            "type": "table"
           }
          ]
         },
         "layout": {
          "annotationdefaults": {
           "arrowcolor": "#2a3f5f",
           "arrowhead": 0,
           "arrowwidth": 1
          },
          "autotypenumbers": "strict",
          "coloraxis": {
           "colorbar": {
            "outlinewidth": 0,
            "ticks": ""
           }
          },
          "colorscale": {
           "diverging": [
            [
             0,
             "#8e0152"
            ],
            [
             0.1,
             "#c51b7d"
            ],
            [
             0.2,
             "#de77ae"
            ],
            [
             0.3,
             "#f1b6da"
            ],
            [
             0.4,
             "#fde0ef"
            ],
            [
             0.5,
             "#f7f7f7"
            ],
            [
             0.6,
             "#e6f5d0"
            ],
            [
             0.7,
             "#b8e186"
            ],
            [
             0.8,
             "#7fbc41"
            ],
            [
             0.9,
             "#4d9221"
            ],
            [
             1,
             "#276419"
            ]
           ],
           "sequential": [
            [
             0,
             "#0d0887"
            ],
            [
             0.1111111111111111,
             "#46039f"
            ],
            [
             0.2222222222222222,
             "#7201a8"
            ],
            [
             0.3333333333333333,
             "#9c179e"
            ],
            [
             0.4444444444444444,
             "#bd3786"
            ],
            [
             0.5555555555555556,
             "#d8576b"
            ],
            [
             0.6666666666666666,
             "#ed7953"
            ],
            [
             0.7777777777777778,
             "#fb9f3a"
            ],
            [
             0.8888888888888888,
             "#fdca26"
            ],
            [
             1,
             "#f0f921"
            ]
           ],
           "sequentialminus": [
            [
             0,
             "#0d0887"
            ],
            [
             0.1111111111111111,
             "#46039f"
            ],
            [
             0.2222222222222222,
             "#7201a8"
            ],
            [
             0.3333333333333333,
             "#9c179e"
            ],
            [
             0.4444444444444444,
             "#bd3786"
            ],
            [
             0.5555555555555556,
             "#d8576b"
            ],
            [
             0.6666666666666666,
             "#ed7953"
            ],
            [
             0.7777777777777778,
             "#fb9f3a"
            ],
            [
             0.8888888888888888,
             "#fdca26"
            ],
            [
             1,
             "#f0f921"
            ]
           ]
          },
          "colorway": [
           "#636efa",
           "#EF553B",
           "#00cc96",
           "#ab63fa",
           "#FFA15A",
           "#19d3f3",
           "#FF6692",
           "#B6E880",
           "#FF97FF",
           "#FECB52"
          ],
          "font": {
           "color": "#2a3f5f"
          },
          "geo": {
           "bgcolor": "white",
           "lakecolor": "white",
           "landcolor": "#E5ECF6",
           "showlakes": true,
           "showland": true,
           "subunitcolor": "white"
          },
          "hoverlabel": {
           "align": "left"
          },
          "hovermode": "closest",
          "mapbox": {
           "style": "light"
          },
          "paper_bgcolor": "white",
          "plot_bgcolor": "#E5ECF6",
          "polar": {
           "angularaxis": {
            "gridcolor": "white",
            "linecolor": "white",
            "ticks": ""
           },
           "bgcolor": "#E5ECF6",
           "radialaxis": {
            "gridcolor": "white",
            "linecolor": "white",
            "ticks": ""
           }
          },
          "scene": {
           "xaxis": {
            "backgroundcolor": "#E5ECF6",
            "gridcolor": "white",
            "gridwidth": 2,
            "linecolor": "white",
            "showbackground": true,
            "ticks": "",
            "zerolinecolor": "white"
           },
           "yaxis": {
            "backgroundcolor": "#E5ECF6",
            "gridcolor": "white",
            "gridwidth": 2,
            "linecolor": "white",
            "showbackground": true,
            "ticks": "",
            "zerolinecolor": "white"
           },
           "zaxis": {
            "backgroundcolor": "#E5ECF6",
            "gridcolor": "white",
            "gridwidth": 2,
            "linecolor": "white",
            "showbackground": true,
            "ticks": "",
            "zerolinecolor": "white"
           }
          },
          "shapedefaults": {
           "line": {
            "color": "#2a3f5f"
           }
          },
          "ternary": {
           "aaxis": {
            "gridcolor": "white",
            "linecolor": "white",
            "ticks": ""
           },
           "baxis": {
            "gridcolor": "white",
            "linecolor": "white",
            "ticks": ""
           },
           "bgcolor": "#E5ECF6",
           "caxis": {
            "gridcolor": "white",
            "linecolor": "white",
            "ticks": ""
           }
          },
          "title": {
           "x": 0.05
          },
          "xaxis": {
           "automargin": true,
           "gridcolor": "white",
           "linecolor": "white",
           "ticks": "",
           "title": {
            "standoff": 15
           },
           "zerolinecolor": "white",
           "zerolinewidth": 2
          },
          "yaxis": {
           "automargin": true,
           "gridcolor": "white",
           "linecolor": "white",
           "ticks": "",
           "title": {
            "standoff": 15
           },
           "zerolinecolor": "white",
           "zerolinewidth": 2
          }
         }
        },
        "xaxis": {
         "anchor": "y",
         "domain": [
          0,
          1
         ],
         "title": {
          "text": "time"
         }
        },
        "yaxis": {
         "anchor": "x",
         "domain": [
          0,
          1
         ],
         "title": {
          "text": "count"
         }
        }
       }
      }
     },
     "metadata": {},
     "output_type": "display_data"
    }
   ],
   "source": [
    "#PLOTLY VISUALIZE LIVERPOOL in ehich MATCHES time liverpool score most scored\n",
    "import plotly.express as px\n",
    "\n",
    "px.histogram(matches[matches[\"team\"] == \"Liverpool\"], x=\"time\", color=\"result\")\n",
    "    \n",
    "    "
   ]
  },
  {
   "attachments": {},
   "cell_type": "markdown",
   "metadata": {},
   "source": [
    "# Encoding Categorical Data"
   ]
  },
  {
   "cell_type": "code",
   "execution_count": 59,
   "metadata": {},
   "outputs": [],
   "source": [
    "# Encoding Categorical Data by using cat.codes\n",
    "matches[\"venue_code\"] = matches[\"venue\"].astype(\"category\").cat.codes\n",
    "matches[\"opp_code\"] = matches[\"opponent\"].astype(\"category\").cat.codes\n",
    "\n"
   ]
  },
  {
   "cell_type": "code",
   "execution_count": 60,
   "metadata": {},
   "outputs": [
    {
     "data": {
      "text/html": [
       "<div>\n",
       "<style scoped>\n",
       "    .dataframe tbody tr th:only-of-type {\n",
       "        vertical-align: middle;\n",
       "    }\n",
       "\n",
       "    .dataframe tbody tr th {\n",
       "        vertical-align: top;\n",
       "    }\n",
       "\n",
       "    .dataframe thead th {\n",
       "        text-align: right;\n",
       "    }\n",
       "</style>\n",
       "<table border=\"1\" class=\"dataframe\">\n",
       "  <thead>\n",
       "    <tr style=\"text-align: right;\">\n",
       "      <th></th>\n",
       "      <th>venue</th>\n",
       "      <th>venue_code</th>\n",
       "      <th>opponent</th>\n",
       "      <th>opp_code</th>\n",
       "    </tr>\n",
       "  </thead>\n",
       "  <tbody>\n",
       "    <tr>\n",
       "      <th>0</th>\n",
       "      <td>Away</td>\n",
       "      <td>0</td>\n",
       "      <td>Crystal Palace</td>\n",
       "      <td>7</td>\n",
       "    </tr>\n",
       "    <tr>\n",
       "      <th>1</th>\n",
       "      <td>Home</td>\n",
       "      <td>1</td>\n",
       "      <td>Leicester City</td>\n",
       "      <td>11</td>\n",
       "    </tr>\n",
       "    <tr>\n",
       "      <th>2</th>\n",
       "      <td>Away</td>\n",
       "      <td>0</td>\n",
       "      <td>Bournemouth</td>\n",
       "      <td>2</td>\n",
       "    </tr>\n",
       "    <tr>\n",
       "      <th>3</th>\n",
       "      <td>Home</td>\n",
       "      <td>1</td>\n",
       "      <td>Fulham</td>\n",
       "      <td>9</td>\n",
       "    </tr>\n",
       "    <tr>\n",
       "      <th>4</th>\n",
       "      <td>Home</td>\n",
       "      <td>1</td>\n",
       "      <td>Aston Villa</td>\n",
       "      <td>1</td>\n",
       "    </tr>\n",
       "    <tr>\n",
       "      <th>5</th>\n",
       "      <td>Away</td>\n",
       "      <td>0</td>\n",
       "      <td>Manchester Utd</td>\n",
       "      <td>14</td>\n",
       "    </tr>\n",
       "    <tr>\n",
       "      <th>7</th>\n",
       "      <td>Away</td>\n",
       "      <td>0</td>\n",
       "      <td>Brentford</td>\n",
       "      <td>3</td>\n",
       "    </tr>\n",
       "    <tr>\n",
       "      <th>8</th>\n",
       "      <td>Home</td>\n",
       "      <td>1</td>\n",
       "      <td>Tottenham</td>\n",
       "      <td>20</td>\n",
       "    </tr>\n",
       "    <tr>\n",
       "      <th>10</th>\n",
       "      <td>Home</td>\n",
       "      <td>1</td>\n",
       "      <td>Liverpool</td>\n",
       "      <td>12</td>\n",
       "    </tr>\n",
       "    <tr>\n",
       "      <th>12</th>\n",
       "      <td>Away</td>\n",
       "      <td>0</td>\n",
       "      <td>Leeds United</td>\n",
       "      <td>10</td>\n",
       "    </tr>\n",
       "  </tbody>\n",
       "</table>\n",
       "</div>"
      ],
      "text/plain": [
       "   venue  venue_code        opponent  opp_code\n",
       "0   Away           0  Crystal Palace         7\n",
       "1   Home           1  Leicester City        11\n",
       "2   Away           0     Bournemouth         2\n",
       "3   Home           1          Fulham         9\n",
       "4   Home           1     Aston Villa         1\n",
       "5   Away           0  Manchester Utd        14\n",
       "7   Away           0       Brentford         3\n",
       "8   Home           1       Tottenham        20\n",
       "10  Home           1       Liverpool        12\n",
       "12  Away           0    Leeds United        10"
      ]
     },
     "execution_count": 60,
     "metadata": {},
     "output_type": "execute_result"
    }
   ],
   "source": [
    "#matches venue code and opponent code\n",
    "matches[[\"venue\", \"venue_code\", \"opponent\", \"opp_code\"]].head(10)\n",
    "        "
   ]
  },
  {
   "cell_type": "code",
   "execution_count": 61,
   "metadata": {},
   "outputs": [],
   "source": [
    "matches[\"hour\"] = matches[\"time\"].str.replace(\":.+\", \"\", regex=True).astype(\"int\")"
   ]
  },
  {
   "cell_type": "code",
   "execution_count": 62,
   "metadata": {},
   "outputs": [],
   "source": [
    "matches[\"day_code\"] = matches[\"date\"].dt.dayofweek\n"
   ]
  },
  {
   "cell_type": "code",
   "execution_count": 63,
   "metadata": {},
   "outputs": [
    {
     "data": {
      "text/html": [
       "<div>\n",
       "<style scoped>\n",
       "    .dataframe tbody tr th:only-of-type {\n",
       "        vertical-align: middle;\n",
       "    }\n",
       "\n",
       "    .dataframe tbody tr th {\n",
       "        vertical-align: top;\n",
       "    }\n",
       "\n",
       "    .dataframe thead th {\n",
       "        text-align: right;\n",
       "    }\n",
       "</style>\n",
       "<table border=\"1\" class=\"dataframe\">\n",
       "  <thead>\n",
       "    <tr style=\"text-align: right;\">\n",
       "      <th></th>\n",
       "      <th>date</th>\n",
       "      <th>day_code</th>\n",
       "      <th>time</th>\n",
       "      <th>hour</th>\n",
       "    </tr>\n",
       "  </thead>\n",
       "  <tbody>\n",
       "    <tr>\n",
       "      <th>0</th>\n",
       "      <td>2022-08-05</td>\n",
       "      <td>4</td>\n",
       "      <td>20:00</td>\n",
       "      <td>20</td>\n",
       "    </tr>\n",
       "    <tr>\n",
       "      <th>1</th>\n",
       "      <td>2022-08-13</td>\n",
       "      <td>5</td>\n",
       "      <td>15:00</td>\n",
       "      <td>15</td>\n",
       "    </tr>\n",
       "    <tr>\n",
       "      <th>2</th>\n",
       "      <td>2022-08-20</td>\n",
       "      <td>5</td>\n",
       "      <td>17:30</td>\n",
       "      <td>17</td>\n",
       "    </tr>\n",
       "    <tr>\n",
       "      <th>3</th>\n",
       "      <td>2022-08-27</td>\n",
       "      <td>5</td>\n",
       "      <td>17:30</td>\n",
       "      <td>17</td>\n",
       "    </tr>\n",
       "    <tr>\n",
       "      <th>4</th>\n",
       "      <td>2022-08-31</td>\n",
       "      <td>2</td>\n",
       "      <td>19:30</td>\n",
       "      <td>19</td>\n",
       "    </tr>\n",
       "    <tr>\n",
       "      <th>5</th>\n",
       "      <td>2022-09-04</td>\n",
       "      <td>6</td>\n",
       "      <td>16:30</td>\n",
       "      <td>16</td>\n",
       "    </tr>\n",
       "    <tr>\n",
       "      <th>7</th>\n",
       "      <td>2022-09-18</td>\n",
       "      <td>6</td>\n",
       "      <td>12:00</td>\n",
       "      <td>12</td>\n",
       "    </tr>\n",
       "    <tr>\n",
       "      <th>8</th>\n",
       "      <td>2022-10-01</td>\n",
       "      <td>5</td>\n",
       "      <td>12:30</td>\n",
       "      <td>12</td>\n",
       "    </tr>\n",
       "    <tr>\n",
       "      <th>10</th>\n",
       "      <td>2022-10-09</td>\n",
       "      <td>6</td>\n",
       "      <td>16:30</td>\n",
       "      <td>16</td>\n",
       "    </tr>\n",
       "    <tr>\n",
       "      <th>12</th>\n",
       "      <td>2022-10-16</td>\n",
       "      <td>6</td>\n",
       "      <td>14:00</td>\n",
       "      <td>14</td>\n",
       "    </tr>\n",
       "  </tbody>\n",
       "</table>\n",
       "</div>"
      ],
      "text/plain": [
       "         date  day_code   time  hour\n",
       "0  2022-08-05         4  20:00    20\n",
       "1  2022-08-13         5  15:00    15\n",
       "2  2022-08-20         5  17:30    17\n",
       "3  2022-08-27         5  17:30    17\n",
       "4  2022-08-31         2  19:30    19\n",
       "5  2022-09-04         6  16:30    16\n",
       "7  2022-09-18         6  12:00    12\n",
       "8  2022-10-01         5  12:30    12\n",
       "10 2022-10-09         6  16:30    16\n",
       "12 2022-10-16         6  14:00    14"
      ]
     },
     "execution_count": 63,
     "metadata": {},
     "output_type": "execute_result"
    }
   ],
   "source": [
    "#matches day code and hour\n",
    "matches[[\"date\", \"day_code\", \"time\", \"hour\"]].head(10)\n"
   ]
  },
  {
   "cell_type": "code",
   "execution_count": 64,
   "metadata": {},
   "outputs": [
    {
     "data": {
      "text/html": [
       "<div>\n",
       "<style scoped>\n",
       "    .dataframe tbody tr th:only-of-type {\n",
       "        vertical-align: middle;\n",
       "    }\n",
       "\n",
       "    .dataframe tbody tr th {\n",
       "        vertical-align: top;\n",
       "    }\n",
       "\n",
       "    .dataframe thead th {\n",
       "        text-align: right;\n",
       "    }\n",
       "</style>\n",
       "<table border=\"1\" class=\"dataframe\">\n",
       "  <thead>\n",
       "    <tr style=\"text-align: right;\">\n",
       "      <th></th>\n",
       "      <th>date</th>\n",
       "      <th>day_code</th>\n",
       "      <th>time</th>\n",
       "      <th>hour</th>\n",
       "      <th>venue</th>\n",
       "      <th>venue_code</th>\n",
       "      <th>opponent</th>\n",
       "      <th>opp_code</th>\n",
       "    </tr>\n",
       "  </thead>\n",
       "  <tbody>\n",
       "    <tr>\n",
       "      <th>0</th>\n",
       "      <td>2022-08-05</td>\n",
       "      <td>4</td>\n",
       "      <td>20:00</td>\n",
       "      <td>20</td>\n",
       "      <td>Away</td>\n",
       "      <td>0</td>\n",
       "      <td>Crystal Palace</td>\n",
       "      <td>7</td>\n",
       "    </tr>\n",
       "    <tr>\n",
       "      <th>1</th>\n",
       "      <td>2022-08-13</td>\n",
       "      <td>5</td>\n",
       "      <td>15:00</td>\n",
       "      <td>15</td>\n",
       "      <td>Home</td>\n",
       "      <td>1</td>\n",
       "      <td>Leicester City</td>\n",
       "      <td>11</td>\n",
       "    </tr>\n",
       "    <tr>\n",
       "      <th>2</th>\n",
       "      <td>2022-08-20</td>\n",
       "      <td>5</td>\n",
       "      <td>17:30</td>\n",
       "      <td>17</td>\n",
       "      <td>Away</td>\n",
       "      <td>0</td>\n",
       "      <td>Bournemouth</td>\n",
       "      <td>2</td>\n",
       "    </tr>\n",
       "    <tr>\n",
       "      <th>3</th>\n",
       "      <td>2022-08-27</td>\n",
       "      <td>5</td>\n",
       "      <td>17:30</td>\n",
       "      <td>17</td>\n",
       "      <td>Home</td>\n",
       "      <td>1</td>\n",
       "      <td>Fulham</td>\n",
       "      <td>9</td>\n",
       "    </tr>\n",
       "    <tr>\n",
       "      <th>4</th>\n",
       "      <td>2022-08-31</td>\n",
       "      <td>2</td>\n",
       "      <td>19:30</td>\n",
       "      <td>19</td>\n",
       "      <td>Home</td>\n",
       "      <td>1</td>\n",
       "      <td>Aston Villa</td>\n",
       "      <td>1</td>\n",
       "    </tr>\n",
       "    <tr>\n",
       "      <th>5</th>\n",
       "      <td>2022-09-04</td>\n",
       "      <td>6</td>\n",
       "      <td>16:30</td>\n",
       "      <td>16</td>\n",
       "      <td>Away</td>\n",
       "      <td>0</td>\n",
       "      <td>Manchester Utd</td>\n",
       "      <td>14</td>\n",
       "    </tr>\n",
       "    <tr>\n",
       "      <th>7</th>\n",
       "      <td>2022-09-18</td>\n",
       "      <td>6</td>\n",
       "      <td>12:00</td>\n",
       "      <td>12</td>\n",
       "      <td>Away</td>\n",
       "      <td>0</td>\n",
       "      <td>Brentford</td>\n",
       "      <td>3</td>\n",
       "    </tr>\n",
       "    <tr>\n",
       "      <th>8</th>\n",
       "      <td>2022-10-01</td>\n",
       "      <td>5</td>\n",
       "      <td>12:30</td>\n",
       "      <td>12</td>\n",
       "      <td>Home</td>\n",
       "      <td>1</td>\n",
       "      <td>Tottenham</td>\n",
       "      <td>20</td>\n",
       "    </tr>\n",
       "    <tr>\n",
       "      <th>10</th>\n",
       "      <td>2022-10-09</td>\n",
       "      <td>6</td>\n",
       "      <td>16:30</td>\n",
       "      <td>16</td>\n",
       "      <td>Home</td>\n",
       "      <td>1</td>\n",
       "      <td>Liverpool</td>\n",
       "      <td>12</td>\n",
       "    </tr>\n",
       "    <tr>\n",
       "      <th>12</th>\n",
       "      <td>2022-10-16</td>\n",
       "      <td>6</td>\n",
       "      <td>14:00</td>\n",
       "      <td>14</td>\n",
       "      <td>Away</td>\n",
       "      <td>0</td>\n",
       "      <td>Leeds United</td>\n",
       "      <td>10</td>\n",
       "    </tr>\n",
       "  </tbody>\n",
       "</table>\n",
       "</div>"
      ],
      "text/plain": [
       "         date  day_code   time  hour venue  venue_code        opponent  \\\n",
       "0  2022-08-05         4  20:00    20  Away           0  Crystal Palace   \n",
       "1  2022-08-13         5  15:00    15  Home           1  Leicester City   \n",
       "2  2022-08-20         5  17:30    17  Away           0     Bournemouth   \n",
       "3  2022-08-27         5  17:30    17  Home           1          Fulham   \n",
       "4  2022-08-31         2  19:30    19  Home           1     Aston Villa   \n",
       "5  2022-09-04         6  16:30    16  Away           0  Manchester Utd   \n",
       "7  2022-09-18         6  12:00    12  Away           0       Brentford   \n",
       "8  2022-10-01         5  12:30    12  Home           1       Tottenham   \n",
       "10 2022-10-09         6  16:30    16  Home           1       Liverpool   \n",
       "12 2022-10-16         6  14:00    14  Away           0    Leeds United   \n",
       "\n",
       "    opp_code  \n",
       "0          7  \n",
       "1         11  \n",
       "2          2  \n",
       "3          9  \n",
       "4          1  \n",
       "5         14  \n",
       "7          3  \n",
       "8         20  \n",
       "10        12  \n",
       "12        10  "
      ]
     },
     "execution_count": 64,
     "metadata": {},
     "output_type": "execute_result"
    }
   ],
   "source": [
    " #matches day code and hour venue code and opponent code\n",
    "matches[[\"date\", \"day_code\", \"time\", \"hour\", \"venue\", \"venue_code\", \"opponent\", \"opp_code\"]].head(10)"
   ]
  },
  {
   "attachments": {},
   "cell_type": "markdown",
   "metadata": {},
   "source": [
    "# CLASSIFIER"
   ]
  },
  {
   "cell_type": "code",
   "execution_count": 65,
   "metadata": {},
   "outputs": [
    {
     "data": {
      "text/html": [
       "<style>#sk-container-id-3 {color: black;background-color: white;}#sk-container-id-3 pre{padding: 0;}#sk-container-id-3 div.sk-toggleable {background-color: white;}#sk-container-id-3 label.sk-toggleable__label {cursor: pointer;display: block;width: 100%;margin-bottom: 0;padding: 0.3em;box-sizing: border-box;text-align: center;}#sk-container-id-3 label.sk-toggleable__label-arrow:before {content: \"▸\";float: left;margin-right: 0.25em;color: #696969;}#sk-container-id-3 label.sk-toggleable__label-arrow:hover:before {color: black;}#sk-container-id-3 div.sk-estimator:hover label.sk-toggleable__label-arrow:before {color: black;}#sk-container-id-3 div.sk-toggleable__content {max-height: 0;max-width: 0;overflow: hidden;text-align: left;background-color: #f0f8ff;}#sk-container-id-3 div.sk-toggleable__content pre {margin: 0.2em;color: black;border-radius: 0.25em;background-color: #f0f8ff;}#sk-container-id-3 input.sk-toggleable__control:checked~div.sk-toggleable__content {max-height: 200px;max-width: 100%;overflow: auto;}#sk-container-id-3 input.sk-toggleable__control:checked~label.sk-toggleable__label-arrow:before {content: \"▾\";}#sk-container-id-3 div.sk-estimator input.sk-toggleable__control:checked~label.sk-toggleable__label {background-color: #d4ebff;}#sk-container-id-3 div.sk-label input.sk-toggleable__control:checked~label.sk-toggleable__label {background-color: #d4ebff;}#sk-container-id-3 input.sk-hidden--visually {border: 0;clip: rect(1px 1px 1px 1px);clip: rect(1px, 1px, 1px, 1px);height: 1px;margin: -1px;overflow: hidden;padding: 0;position: absolute;width: 1px;}#sk-container-id-3 div.sk-estimator {font-family: monospace;background-color: #f0f8ff;border: 1px dotted black;border-radius: 0.25em;box-sizing: border-box;margin-bottom: 0.5em;}#sk-container-id-3 div.sk-estimator:hover {background-color: #d4ebff;}#sk-container-id-3 div.sk-parallel-item::after {content: \"\";width: 100%;border-bottom: 1px solid gray;flex-grow: 1;}#sk-container-id-3 div.sk-label:hover label.sk-toggleable__label {background-color: #d4ebff;}#sk-container-id-3 div.sk-serial::before {content: \"\";position: absolute;border-left: 1px solid gray;box-sizing: border-box;top: 0;bottom: 0;left: 50%;z-index: 0;}#sk-container-id-3 div.sk-serial {display: flex;flex-direction: column;align-items: center;background-color: white;padding-right: 0.2em;padding-left: 0.2em;position: relative;}#sk-container-id-3 div.sk-item {position: relative;z-index: 1;}#sk-container-id-3 div.sk-parallel {display: flex;align-items: stretch;justify-content: center;background-color: white;position: relative;}#sk-container-id-3 div.sk-item::before, #sk-container-id-3 div.sk-parallel-item::before {content: \"\";position: absolute;border-left: 1px solid gray;box-sizing: border-box;top: 0;bottom: 0;left: 50%;z-index: -1;}#sk-container-id-3 div.sk-parallel-item {display: flex;flex-direction: column;z-index: 1;position: relative;background-color: white;}#sk-container-id-3 div.sk-parallel-item:first-child::after {align-self: flex-end;width: 50%;}#sk-container-id-3 div.sk-parallel-item:last-child::after {align-self: flex-start;width: 50%;}#sk-container-id-3 div.sk-parallel-item:only-child::after {width: 0;}#sk-container-id-3 div.sk-dashed-wrapped {border: 1px dashed gray;margin: 0 0.4em 0.5em 0.4em;box-sizing: border-box;padding-bottom: 0.4em;background-color: white;}#sk-container-id-3 div.sk-label label {font-family: monospace;font-weight: bold;display: inline-block;line-height: 1.2em;}#sk-container-id-3 div.sk-label-container {text-align: center;}#sk-container-id-3 div.sk-container {/* jupyter's `normalize.less` sets `[hidden] { display: none; }` but bootstrap.min.css set `[hidden] { display: none !important; }` so we also need the `!important` here to be able to override the default hidden behavior on the sphinx rendered scikit-learn.org. See: https://github.com/scikit-learn/scikit-learn/issues/21755 */display: inline-block !important;position: relative;}#sk-container-id-3 div.sk-text-repr-fallback {display: none;}</style><div id=\"sk-container-id-3\" class=\"sk-top-container\"><div class=\"sk-text-repr-fallback\"><pre>LogisticRegression()</pre><b>In a Jupyter environment, please rerun this cell to show the HTML representation or trust the notebook. <br />On GitHub, the HTML representation is unable to render, please try loading this page with nbviewer.org.</b></div><div class=\"sk-container\" hidden><div class=\"sk-item\"><div class=\"sk-estimator sk-toggleable\"><input class=\"sk-toggleable__control sk-hidden--visually\" id=\"sk-estimator-id-3\" type=\"checkbox\" checked><label for=\"sk-estimator-id-3\" class=\"sk-toggleable__label sk-toggleable__label-arrow\">LogisticRegression</label><div class=\"sk-toggleable__content\"><pre>LogisticRegression()</pre></div></div></div></div></div>"
      ],
      "text/plain": [
       "LogisticRegression()"
      ]
     },
     "execution_count": 65,
     "metadata": {},
     "output_type": "execute_result"
    }
   ],
   "source": [
    "#CLASSIFIER\n",
    "from sklearn.model_selection import train_test_split\n",
    "\n",
    "X = matches[[\"day_code\", \"hour\", \"venue_code\", \"opp_code\"]]\n",
    "y = matches[\"target\"]\n",
    "\n",
    "X_train, X_test, y_train, y_test = train_test_split(X, y, test_size=0.2, random_state=42)\n",
    "\n",
    "#LOGISTIC REGRESSION\n",
    "from sklearn.linear_model import LogisticRegression\n",
    "\n",
    "model = LogisticRegression()\n",
    "model.fit(X_train, y_train)"
   ]
  },
  {
   "cell_type": "code",
   "execution_count": 66,
   "metadata": {},
   "outputs": [
    {
     "data": {
      "text/plain": [
       "0.6146572104018913"
      ]
     },
     "execution_count": 66,
     "metadata": {},
     "output_type": "execute_result"
    }
   ],
   "source": [
    "#accuracy score\n",
    "from sklearn.metrics import accuracy_score\n",
    "\n",
    "y_pred = model.predict(X_test)\n",
    "accuracy_score(y_test, y_pred)"
   ]
  },
  {
   "cell_type": "code",
   "execution_count": 67,
   "metadata": {},
   "outputs": [
    {
     "data": {
      "text/html": [
       "<style>#sk-container-id-4 {color: black;background-color: white;}#sk-container-id-4 pre{padding: 0;}#sk-container-id-4 div.sk-toggleable {background-color: white;}#sk-container-id-4 label.sk-toggleable__label {cursor: pointer;display: block;width: 100%;margin-bottom: 0;padding: 0.3em;box-sizing: border-box;text-align: center;}#sk-container-id-4 label.sk-toggleable__label-arrow:before {content: \"▸\";float: left;margin-right: 0.25em;color: #696969;}#sk-container-id-4 label.sk-toggleable__label-arrow:hover:before {color: black;}#sk-container-id-4 div.sk-estimator:hover label.sk-toggleable__label-arrow:before {color: black;}#sk-container-id-4 div.sk-toggleable__content {max-height: 0;max-width: 0;overflow: hidden;text-align: left;background-color: #f0f8ff;}#sk-container-id-4 div.sk-toggleable__content pre {margin: 0.2em;color: black;border-radius: 0.25em;background-color: #f0f8ff;}#sk-container-id-4 input.sk-toggleable__control:checked~div.sk-toggleable__content {max-height: 200px;max-width: 100%;overflow: auto;}#sk-container-id-4 input.sk-toggleable__control:checked~label.sk-toggleable__label-arrow:before {content: \"▾\";}#sk-container-id-4 div.sk-estimator input.sk-toggleable__control:checked~label.sk-toggleable__label {background-color: #d4ebff;}#sk-container-id-4 div.sk-label input.sk-toggleable__control:checked~label.sk-toggleable__label {background-color: #d4ebff;}#sk-container-id-4 input.sk-hidden--visually {border: 0;clip: rect(1px 1px 1px 1px);clip: rect(1px, 1px, 1px, 1px);height: 1px;margin: -1px;overflow: hidden;padding: 0;position: absolute;width: 1px;}#sk-container-id-4 div.sk-estimator {font-family: monospace;background-color: #f0f8ff;border: 1px dotted black;border-radius: 0.25em;box-sizing: border-box;margin-bottom: 0.5em;}#sk-container-id-4 div.sk-estimator:hover {background-color: #d4ebff;}#sk-container-id-4 div.sk-parallel-item::after {content: \"\";width: 100%;border-bottom: 1px solid gray;flex-grow: 1;}#sk-container-id-4 div.sk-label:hover label.sk-toggleable__label {background-color: #d4ebff;}#sk-container-id-4 div.sk-serial::before {content: \"\";position: absolute;border-left: 1px solid gray;box-sizing: border-box;top: 0;bottom: 0;left: 50%;z-index: 0;}#sk-container-id-4 div.sk-serial {display: flex;flex-direction: column;align-items: center;background-color: white;padding-right: 0.2em;padding-left: 0.2em;position: relative;}#sk-container-id-4 div.sk-item {position: relative;z-index: 1;}#sk-container-id-4 div.sk-parallel {display: flex;align-items: stretch;justify-content: center;background-color: white;position: relative;}#sk-container-id-4 div.sk-item::before, #sk-container-id-4 div.sk-parallel-item::before {content: \"\";position: absolute;border-left: 1px solid gray;box-sizing: border-box;top: 0;bottom: 0;left: 50%;z-index: -1;}#sk-container-id-4 div.sk-parallel-item {display: flex;flex-direction: column;z-index: 1;position: relative;background-color: white;}#sk-container-id-4 div.sk-parallel-item:first-child::after {align-self: flex-end;width: 50%;}#sk-container-id-4 div.sk-parallel-item:last-child::after {align-self: flex-start;width: 50%;}#sk-container-id-4 div.sk-parallel-item:only-child::after {width: 0;}#sk-container-id-4 div.sk-dashed-wrapped {border: 1px dashed gray;margin: 0 0.4em 0.5em 0.4em;box-sizing: border-box;padding-bottom: 0.4em;background-color: white;}#sk-container-id-4 div.sk-label label {font-family: monospace;font-weight: bold;display: inline-block;line-height: 1.2em;}#sk-container-id-4 div.sk-label-container {text-align: center;}#sk-container-id-4 div.sk-container {/* jupyter's `normalize.less` sets `[hidden] { display: none; }` but bootstrap.min.css set `[hidden] { display: none !important; }` so we also need the `!important` here to be able to override the default hidden behavior on the sphinx rendered scikit-learn.org. See: https://github.com/scikit-learn/scikit-learn/issues/21755 */display: inline-block !important;position: relative;}#sk-container-id-4 div.sk-text-repr-fallback {display: none;}</style><div id=\"sk-container-id-4\" class=\"sk-top-container\"><div class=\"sk-text-repr-fallback\"><pre>GaussianNB()</pre><b>In a Jupyter environment, please rerun this cell to show the HTML representation or trust the notebook. <br />On GitHub, the HTML representation is unable to render, please try loading this page with nbviewer.org.</b></div><div class=\"sk-container\" hidden><div class=\"sk-item\"><div class=\"sk-estimator sk-toggleable\"><input class=\"sk-toggleable__control sk-hidden--visually\" id=\"sk-estimator-id-4\" type=\"checkbox\" checked><label for=\"sk-estimator-id-4\" class=\"sk-toggleable__label sk-toggleable__label-arrow\">GaussianNB</label><div class=\"sk-toggleable__content\"><pre>GaussianNB()</pre></div></div></div></div></div>"
      ],
      "text/plain": [
       "GaussianNB()"
      ]
     },
     "execution_count": 67,
     "metadata": {},
     "output_type": "execute_result"
    }
   ],
   "source": [
    "#naive bayes\n",
    "from sklearn.naive_bayes import GaussianNB\n",
    "\n",
    "model = GaussianNB()\n",
    "model.fit(X_train, y_train)\n",
    "    "
   ]
  },
  {
   "cell_type": "code",
   "execution_count": 68,
   "metadata": {},
   "outputs": [
    {
     "data": {
      "text/plain": [
       "0.6193853427895981"
      ]
     },
     "execution_count": 68,
     "metadata": {},
     "output_type": "execute_result"
    }
   ],
   "source": [
    "#accuracy score\n",
    "from sklearn.metrics import accuracy_score\n",
    "\n",
    "y_pred = model.predict(X_test)\n",
    "accuracy_score(y_test, y_pred)\n",
    "    "
   ]
  },
  {
   "cell_type": "code",
   "execution_count": 69,
   "metadata": {},
   "outputs": [
    {
     "data": {
      "text/plain": [
       "0.5981087470449172"
      ]
     },
     "execution_count": 69,
     "metadata": {},
     "output_type": "execute_result"
    }
   ],
   "source": [
    "#DECISION TREE\n",
    "from sklearn.tree import DecisionTreeClassifier\n",
    "\n",
    "model = DecisionTreeClassifier()\n",
    "model.fit(X_train, y_train)\n",
    "\n",
    "#accuracy score\n",
    "from sklearn.metrics import accuracy_score\n",
    "\n",
    "y_pred = model.predict(X_test)\n",
    "accuracy_score(y_test, y_pred)\n",
    "    \n",
    "\n",
    "\n",
    "\n"
   ]
  },
  {
   "cell_type": "code",
   "execution_count": 70,
   "metadata": {},
   "outputs": [
    {
     "data": {
      "text/plain": [
       "0.5862884160756501"
      ]
     },
     "execution_count": 70,
     "metadata": {},
     "output_type": "execute_result"
    }
   ],
   "source": [
    "#RANDOM FOREST\n",
    "from sklearn.ensemble import RandomForestClassifier\n",
    "\n",
    "model = RandomForestClassifier()\n",
    "model.fit(X_train, y_train)\n",
    "\n",
    "#accuracy score\n",
    "from sklearn.metrics import accuracy_score\n",
    "\n",
    "y_pred = model.predict(X_test)\n",
    "accuracy_score(y_test, y_pred)\n",
    "    "
   ]
  },
  {
   "cell_type": "code",
   "execution_count": 71,
   "metadata": {},
   "outputs": [
    {
     "data": {
      "application/vnd.plotly.v1+json": {
       "config": {
        "plotlyServerURL": "https://plot.ly"
       },
       "data": [
        {
         "name": "Logistic Regression",
         "type": "bar",
         "x": [
          "Accuracy Score"
         ],
         "y": [
          0.61
         ]
        },
        {
         "name": "Naive Bayes",
         "type": "bar",
         "x": [
          "Accuracy Score"
         ],
         "y": [
          0.61
         ]
        },
        {
         "name": "Decision Tree",
         "type": "bar",
         "x": [
          "Accuracy Score"
         ],
         "y": [
          0.57
         ]
        },
        {
         "name": "Random Forest",
         "type": "bar",
         "x": [
          "Accuracy Score"
         ],
         "y": [
          0.58
         ]
        }
       ],
       "layout": {
        "barmode": "group",
        "template": {
         "data": {
          "bar": [
           {
            "error_x": {
             "color": "#2a3f5f"
            },
            "error_y": {
             "color": "#2a3f5f"
            },
            "marker": {
             "line": {
              "color": "#E5ECF6",
              "width": 0.5
             }
            },
            "type": "bar"
           }
          ],
          "barpolar": [
           {
            "marker": {
             "line": {
              "color": "#E5ECF6",
              "width": 0.5
             }
            },
            "type": "barpolar"
           }
          ],
          "carpet": [
           {
            "aaxis": {
             "endlinecolor": "#2a3f5f",
             "gridcolor": "white",
             "linecolor": "white",
             "minorgridcolor": "white",
             "startlinecolor": "#2a3f5f"
            },
            "baxis": {
             "endlinecolor": "#2a3f5f",
             "gridcolor": "white",
             "linecolor": "white",
             "minorgridcolor": "white",
             "startlinecolor": "#2a3f5f"
            },
            "type": "carpet"
           }
          ],
          "choropleth": [
           {
            "colorbar": {
             "outlinewidth": 0,
             "ticks": ""
            },
            "type": "choropleth"
           }
          ],
          "contour": [
           {
            "colorbar": {
             "outlinewidth": 0,
             "ticks": ""
            },
            "colorscale": [
             [
              0,
              "#0d0887"
             ],
             [
              0.1111111111111111,
              "#46039f"
             ],
             [
              0.2222222222222222,
              "#7201a8"
             ],
             [
              0.3333333333333333,
              "#9c179e"
             ],
             [
              0.4444444444444444,
              "#bd3786"
             ],
             [
              0.5555555555555556,
              "#d8576b"
             ],
             [
              0.6666666666666666,
              "#ed7953"
             ],
             [
              0.7777777777777778,
              "#fb9f3a"
             ],
             [
              0.8888888888888888,
              "#fdca26"
             ],
             [
              1,
              "#f0f921"
             ]
            ],
            "type": "contour"
           }
          ],
          "contourcarpet": [
           {
            "colorbar": {
             "outlinewidth": 0,
             "ticks": ""
            },
            "type": "contourcarpet"
           }
          ],
          "heatmap": [
           {
            "colorbar": {
             "outlinewidth": 0,
             "ticks": ""
            },
            "colorscale": [
             [
              0,
              "#0d0887"
             ],
             [
              0.1111111111111111,
              "#46039f"
             ],
             [
              0.2222222222222222,
              "#7201a8"
             ],
             [
              0.3333333333333333,
              "#9c179e"
             ],
             [
              0.4444444444444444,
              "#bd3786"
             ],
             [
              0.5555555555555556,
              "#d8576b"
             ],
             [
              0.6666666666666666,
              "#ed7953"
             ],
             [
              0.7777777777777778,
              "#fb9f3a"
             ],
             [
              0.8888888888888888,
              "#fdca26"
             ],
             [
              1,
              "#f0f921"
             ]
            ],
            "type": "heatmap"
           }
          ],
          "heatmapgl": [
           {
            "colorbar": {
             "outlinewidth": 0,
             "ticks": ""
            },
            "colorscale": [
             [
              0,
              "#0d0887"
             ],
             [
              0.1111111111111111,
              "#46039f"
             ],
             [
              0.2222222222222222,
              "#7201a8"
             ],
             [
              0.3333333333333333,
              "#9c179e"
             ],
             [
              0.4444444444444444,
              "#bd3786"
             ],
             [
              0.5555555555555556,
              "#d8576b"
             ],
             [
              0.6666666666666666,
              "#ed7953"
             ],
             [
              0.7777777777777778,
              "#fb9f3a"
             ],
             [
              0.8888888888888888,
              "#fdca26"
             ],
             [
              1,
              "#f0f921"
             ]
            ],
            "type": "heatmapgl"
           }
          ],
          "histogram": [
           {
            "marker": {
             "colorbar": {
              "outlinewidth": 0,
              "ticks": ""
             }
            },
            "type": "histogram"
           }
          ],
          "histogram2d": [
           {
            "colorbar": {
             "outlinewidth": 0,
             "ticks": ""
            },
            "colorscale": [
             [
              0,
              "#0d0887"
             ],
             [
              0.1111111111111111,
              "#46039f"
             ],
             [
              0.2222222222222222,
              "#7201a8"
             ],
             [
              0.3333333333333333,
              "#9c179e"
             ],
             [
              0.4444444444444444,
              "#bd3786"
             ],
             [
              0.5555555555555556,
              "#d8576b"
             ],
             [
              0.6666666666666666,
              "#ed7953"
             ],
             [
              0.7777777777777778,
              "#fb9f3a"
             ],
             [
              0.8888888888888888,
              "#fdca26"
             ],
             [
              1,
              "#f0f921"
             ]
            ],
            "type": "histogram2d"
           }
          ],
          "histogram2dcontour": [
           {
            "colorbar": {
             "outlinewidth": 0,
             "ticks": ""
            },
            "colorscale": [
             [
              0,
              "#0d0887"
             ],
             [
              0.1111111111111111,
              "#46039f"
             ],
             [
              0.2222222222222222,
              "#7201a8"
             ],
             [
              0.3333333333333333,
              "#9c179e"
             ],
             [
              0.4444444444444444,
              "#bd3786"
             ],
             [
              0.5555555555555556,
              "#d8576b"
             ],
             [
              0.6666666666666666,
              "#ed7953"
             ],
             [
              0.7777777777777778,
              "#fb9f3a"
             ],
             [
              0.8888888888888888,
              "#fdca26"
             ],
             [
              1,
              "#f0f921"
             ]
            ],
            "type": "histogram2dcontour"
           }
          ],
          "mesh3d": [
           {
            "colorbar": {
             "outlinewidth": 0,
             "ticks": ""
            },
            "type": "mesh3d"
           }
          ],
          "parcoords": [
           {
            "line": {
             "colorbar": {
              "outlinewidth": 0,
              "ticks": ""
             }
            },
            "type": "parcoords"
           }
          ],
          "pie": [
           {
            "automargin": true,
            "type": "pie"
           }
          ],
          "scatter": [
           {
            "marker": {
             "colorbar": {
              "outlinewidth": 0,
              "ticks": ""
             }
            },
            "type": "scatter"
           }
          ],
          "scatter3d": [
           {
            "line": {
             "colorbar": {
              "outlinewidth": 0,
              "ticks": ""
             }
            },
            "marker": {
             "colorbar": {
              "outlinewidth": 0,
              "ticks": ""
             }
            },
            "type": "scatter3d"
           }
          ],
          "scattercarpet": [
           {
            "marker": {
             "colorbar": {
              "outlinewidth": 0,
              "ticks": ""
             }
            },
            "type": "scattercarpet"
           }
          ],
          "scattergeo": [
           {
            "marker": {
             "colorbar": {
              "outlinewidth": 0,
              "ticks": ""
             }
            },
            "type": "scattergeo"
           }
          ],
          "scattergl": [
           {
            "marker": {
             "colorbar": {
              "outlinewidth": 0,
              "ticks": ""
             }
            },
            "type": "scattergl"
           }
          ],
          "scattermapbox": [
           {
            "marker": {
             "colorbar": {
              "outlinewidth": 0,
              "ticks": ""
             }
            },
            "type": "scattermapbox"
           }
          ],
          "scatterpolar": [
           {
            "marker": {
             "colorbar": {
              "outlinewidth": 0,
              "ticks": ""
             }
            },
            "type": "scatterpolar"
           }
          ],
          "scatterpolargl": [
           {
            "marker": {
             "colorbar": {
              "outlinewidth": 0,
              "ticks": ""
             }
            },
            "type": "scatterpolargl"
           }
          ],
          "scatterternary": [
           {
            "marker": {
             "colorbar": {
              "outlinewidth": 0,
              "ticks": ""
             }
            },
            "type": "scatterternary"
           }
          ],
          "surface": [
           {
            "colorbar": {
             "outlinewidth": 0,
             "ticks": ""
            },
            "colorscale": [
             [
              0,
              "#0d0887"
             ],
             [
              0.1111111111111111,
              "#46039f"
             ],
             [
              0.2222222222222222,
              "#7201a8"
             ],
             [
              0.3333333333333333,
              "#9c179e"
             ],
             [
              0.4444444444444444,
              "#bd3786"
             ],
             [
              0.5555555555555556,
              "#d8576b"
             ],
             [
              0.6666666666666666,
              "#ed7953"
             ],
             [
              0.7777777777777778,
              "#fb9f3a"
             ],
             [
              0.8888888888888888,
              "#fdca26"
             ],
             [
              1,
              "#f0f921"
             ]
            ],
            "type": "surface"
           }
          ],
          "table": [
           {
            "cells": {
             "fill": {
              "color": "#EBF0F8"
             },
             "line": {
              "color": "white"
             }
            },
            "header": {
             "fill": {
              "color": "#C8D4E3"
             },
             "line": {
              "color": "white"
             }
            },
            "type": "table"
           }
          ]
         },
         "layout": {
          "annotationdefaults": {
           "arrowcolor": "#2a3f5f",
           "arrowhead": 0,
           "arrowwidth": 1
          },
          "autotypenumbers": "strict",
          "coloraxis": {
           "colorbar": {
            "outlinewidth": 0,
            "ticks": ""
           }
          },
          "colorscale": {
           "diverging": [
            [
             0,
             "#8e0152"
            ],
            [
             0.1,
             "#c51b7d"
            ],
            [
             0.2,
             "#de77ae"
            ],
            [
             0.3,
             "#f1b6da"
            ],
            [
             0.4,
             "#fde0ef"
            ],
            [
             0.5,
             "#f7f7f7"
            ],
            [
             0.6,
             "#e6f5d0"
            ],
            [
             0.7,
             "#b8e186"
            ],
            [
             0.8,
             "#7fbc41"
            ],
            [
             0.9,
             "#4d9221"
            ],
            [
             1,
             "#276419"
            ]
           ],
           "sequential": [
            [
             0,
             "#0d0887"
            ],
            [
             0.1111111111111111,
             "#46039f"
            ],
            [
             0.2222222222222222,
             "#7201a8"
            ],
            [
             0.3333333333333333,
             "#9c179e"
            ],
            [
             0.4444444444444444,
             "#bd3786"
            ],
            [
             0.5555555555555556,
             "#d8576b"
            ],
            [
             0.6666666666666666,
             "#ed7953"
            ],
            [
             0.7777777777777778,
             "#fb9f3a"
            ],
            [
             0.8888888888888888,
             "#fdca26"
            ],
            [
             1,
             "#f0f921"
            ]
           ],
           "sequentialminus": [
            [
             0,
             "#0d0887"
            ],
            [
             0.1111111111111111,
             "#46039f"
            ],
            [
             0.2222222222222222,
             "#7201a8"
            ],
            [
             0.3333333333333333,
             "#9c179e"
            ],
            [
             0.4444444444444444,
             "#bd3786"
            ],
            [
             0.5555555555555556,
             "#d8576b"
            ],
            [
             0.6666666666666666,
             "#ed7953"
            ],
            [
             0.7777777777777778,
             "#fb9f3a"
            ],
            [
             0.8888888888888888,
             "#fdca26"
            ],
            [
             1,
             "#f0f921"
            ]
           ]
          },
          "colorway": [
           "#636efa",
           "#EF553B",
           "#00cc96",
           "#ab63fa",
           "#FFA15A",
           "#19d3f3",
           "#FF6692",
           "#B6E880",
           "#FF97FF",
           "#FECB52"
          ],
          "font": {
           "color": "#2a3f5f"
          },
          "geo": {
           "bgcolor": "white",
           "lakecolor": "white",
           "landcolor": "#E5ECF6",
           "showlakes": true,
           "showland": true,
           "subunitcolor": "white"
          },
          "hoverlabel": {
           "align": "left"
          },
          "hovermode": "closest",
          "mapbox": {
           "style": "light"
          },
          "paper_bgcolor": "white",
          "plot_bgcolor": "#E5ECF6",
          "polar": {
           "angularaxis": {
            "gridcolor": "white",
            "linecolor": "white",
            "ticks": ""
           },
           "bgcolor": "#E5ECF6",
           "radialaxis": {
            "gridcolor": "white",
            "linecolor": "white",
            "ticks": ""
           }
          },
          "scene": {
           "xaxis": {
            "backgroundcolor": "#E5ECF6",
            "gridcolor": "white",
            "gridwidth": 2,
            "linecolor": "white",
            "showbackground": true,
            "ticks": "",
            "zerolinecolor": "white"
           },
           "yaxis": {
            "backgroundcolor": "#E5ECF6",
            "gridcolor": "white",
            "gridwidth": 2,
            "linecolor": "white",
            "showbackground": true,
            "ticks": "",
            "zerolinecolor": "white"
           },
           "zaxis": {
            "backgroundcolor": "#E5ECF6",
            "gridcolor": "white",
            "gridwidth": 2,
            "linecolor": "white",
            "showbackground": true,
            "ticks": "",
            "zerolinecolor": "white"
           }
          },
          "shapedefaults": {
           "line": {
            "color": "#2a3f5f"
           }
          },
          "ternary": {
           "aaxis": {
            "gridcolor": "white",
            "linecolor": "white",
            "ticks": ""
           },
           "baxis": {
            "gridcolor": "white",
            "linecolor": "white",
            "ticks": ""
           },
           "bgcolor": "#E5ECF6",
           "caxis": {
            "gridcolor": "white",
            "linecolor": "white",
            "ticks": ""
           }
          },
          "title": {
           "x": 0.05
          },
          "xaxis": {
           "automargin": true,
           "gridcolor": "white",
           "linecolor": "white",
           "ticks": "",
           "title": {
            "standoff": 15
           },
           "zerolinecolor": "white",
           "zerolinewidth": 2
          },
          "yaxis": {
           "automargin": true,
           "gridcolor": "white",
           "linecolor": "white",
           "ticks": "",
           "title": {
            "standoff": 15
           },
           "zerolinecolor": "white",
           "zerolinewidth": 2
          }
         }
        }
       }
      }
     },
     "metadata": {},
     "output_type": "display_data"
    }
   ],
   "source": [
    "#COMPARE ALL CLASSIFIER ACCURACY SCORE THROUGH PLOTLY\n",
    "import plotly.graph_objects as go\n",
    "\n",
    "fig = go.Figure(data=[\n",
    "    go.Bar(name='Logistic Regression', x=['Accuracy Score'], y=[0.61]),\n",
    "    go.Bar(name='Naive Bayes', x=['Accuracy Score'], y=[0.61]),\n",
    "    go.Bar(name='Decision Tree', x=['Accuracy Score'], y=[0.57]),\n",
    "    go.Bar(name='Random Forest', x=['Accuracy Score'], y=[0.58])\n",
    "])\n",
    "# Change the bar mode\n",
    "fig.update_layout(barmode='group')\n",
    "fig.show()\n",
    "    \n"
   ]
  },
  {
   "attachments": {},
   "cell_type": "markdown",
   "metadata": {},
   "source": [
    "# CROSSTAB"
   ]
  },
  {
   "cell_type": "code",
   "execution_count": 72,
   "metadata": {},
   "outputs": [
    {
     "data": {
      "text/html": [
       "<div>\n",
       "<style scoped>\n",
       "    .dataframe tbody tr th:only-of-type {\n",
       "        vertical-align: middle;\n",
       "    }\n",
       "\n",
       "    .dataframe tbody tr th {\n",
       "        vertical-align: top;\n",
       "    }\n",
       "\n",
       "    .dataframe thead th {\n",
       "        text-align: right;\n",
       "    }\n",
       "</style>\n",
       "<table border=\"1\" class=\"dataframe\">\n",
       "  <thead>\n",
       "    <tr style=\"text-align: right;\">\n",
       "      <th>Predicted</th>\n",
       "      <th>0</th>\n",
       "      <th>1</th>\n",
       "    </tr>\n",
       "    <tr>\n",
       "      <th>Actual</th>\n",
       "      <th></th>\n",
       "      <th></th>\n",
       "    </tr>\n",
       "  </thead>\n",
       "  <tbody>\n",
       "    <tr>\n",
       "      <th>0</th>\n",
       "      <td>190</td>\n",
       "      <td>68</td>\n",
       "    </tr>\n",
       "    <tr>\n",
       "      <th>1</th>\n",
       "      <td>107</td>\n",
       "      <td>58</td>\n",
       "    </tr>\n",
       "  </tbody>\n",
       "</table>\n",
       "</div>"
      ],
      "text/plain": [
       "Predicted    0   1\n",
       "Actual            \n",
       "0          190  68\n",
       "1          107  58"
      ]
     },
     "execution_count": 72,
     "metadata": {},
     "output_type": "execute_result"
    }
   ],
   "source": [
    "#CROSSTAB \n",
    "pd.crosstab(y_test, y_pred, rownames=[\"Actual\"], colnames=[\"Predicted\"])\n",
    "        "
   ]
  },
  {
   "cell_type": "code",
   "execution_count": 77,
   "metadata": {},
   "outputs": [
    {
     "data": {
      "image/png": "[encoded data removed]",
      "text/plain": [
       "<Figure size 640x480 with 2 Axes>"
      ]
     },
     "metadata": {},
     "output_type": "display_data"
    }
   ],
   "source": [
    "#visualize crosstab\n",
    "import seaborn as sns\n",
    "import matplotlib.pyplot as plt\n",
    "\n",
    "sns.heatmap(pd.crosstab(y_test, y_pred, rownames=[\"Actual\"], colnames=[\"Predicted\"]), annot=True, fmt=\"d\")\n",
    "plt.show()\n",
    "    "
   ]
  },
  {
   "cell_type": "code",
   "execution_count": 78,
   "metadata": {},
   "outputs": [
    {
     "name": "stdout",
     "output_type": "stream",
     "text": [
      "Fitting 5 folds for each of 600 candidates, totalling 3000 fits\n"
     ]
    },
    {
     "data": {
      "text/plain": [
       "0.6477541371158393"
      ]
     },
     "execution_count": 78,
     "metadata": {},
     "output_type": "execute_result"
    }
   ],
   "source": [
    "#hyperparameter tuning\n",
    "from sklearn.model_selection import GridSearchCV\n",
    "\n",
    "param_grid = {\n",
    "    \"n_estimators\": [100, 200, 300, 400, 500],\n",
    "    \"max_depth\": [5, 10, 15, 20, 25, 30],\n",
    "    \"min_samples_split\": [2, 5, 10, 15, 100],\n",
    "    \"min_samples_leaf\": [1, 2, 5, 10]\n",
    "}\n",
    "\n",
    "model = RandomForestClassifier()\n",
    "grid_search = GridSearchCV(estimator=model, param_grid=param_grid, cv=5, n_jobs=-1, verbose=2)\n",
    "grid_search.fit(X_train, y_train)\n",
    "\n",
    "grid_search.best_params_\n",
    "\n",
    "#accuracy score\n",
    "from sklearn.metrics import accuracy_score\n",
    "\n",
    "y_pred = grid_search.predict(X_test)\n",
    "accuracy_score(y_test, y_pred)\n",
    "\n",
    "                "
   ]
  },
  {
   "cell_type": "code",
   "execution_count": 79,
   "metadata": {},
   "outputs": [
    {
     "data": {
      "application/vnd.plotly.v1+json": {
       "config": {
        "plotlyServerURL": "https://plot.ly"
       },
       "data": [
        {
         "name": "Logistic Regression",
         "type": "bar",
         "x": [
          "Accuracy Score"
         ],
         "y": [
          0.61
         ]
        },
        {
         "name": "Naive Bayes",
         "type": "bar",
         "x": [
          "Accuracy Score"
         ],
         "y": [
          0.61
         ]
        },
        {
         "name": "Decision Tree",
         "type": "bar",
         "x": [
          "Accuracy Score"
         ],
         "y": [
          0.57
         ]
        },
        {
         "name": "Random Forest",
         "type": "bar",
         "x": [
          "Accuracy Score"
         ],
         "y": [
          0.58
         ]
        },
        {
         "name": "Random Forest Hyperparameter Tuning",
         "type": "bar",
         "x": [
          "Accuracy Score"
         ],
         "y": [
          0.61
         ]
        }
       ],
       "layout": {
        "barmode": "group",
        "template": {
         "data": {
          "bar": [
           {
            "error_x": {
             "color": "#2a3f5f"
            },
            "error_y": {
             "color": "#2a3f5f"
            },
            "marker": {
             "line": {
              "color": "#E5ECF6",
              "width": 0.5
             }
            },
            "type": "bar"
           }
          ],
          "barpolar": [
           {
            "marker": {
             "line": {
              "color": "#E5ECF6",
              "width": 0.5
             }
            },
            "type": "barpolar"
           }
          ],
          "carpet": [
           {
            "aaxis": {
             "endlinecolor": "#2a3f5f",
             "gridcolor": "white",
             "linecolor": "white",
             "minorgridcolor": "white",
             "startlinecolor": "#2a3f5f"
            },
            "baxis": {
             "endlinecolor": "#2a3f5f",
             "gridcolor": "white",
             "linecolor": "white",
             "minorgridcolor": "white",
             "startlinecolor": "#2a3f5f"
            },
            "type": "carpet"
           }
          ],
          "choropleth": [
           {
            "colorbar": {
             "outlinewidth": 0,
             "ticks": ""
            },
            "type": "choropleth"
           }
          ],
          "contour": [
           {
            "colorbar": {
             "outlinewidth": 0,
             "ticks": ""
            },
            "colorscale": [
             [
              0,
              "#0d0887"
             ],
             [
              0.1111111111111111,
              "#46039f"
             ],
             [
              0.2222222222222222,
              "#7201a8"
             ],
             [
              0.3333333333333333,
              "#9c179e"
             ],
             [
              0.4444444444444444,
              "#bd3786"
             ],
             [
              0.5555555555555556,
              "#d8576b"
             ],
             [
              0.6666666666666666,
              "#ed7953"
             ],
             [
              0.7777777777777778,
              "#fb9f3a"
             ],
             [
              0.8888888888888888,
              "#fdca26"
             ],
             [
              1,
              "#f0f921"
             ]
            ],
            "type": "contour"
           }
          ],
          "contourcarpet": [
           {
            "colorbar": {
             "outlinewidth": 0,
             "ticks": ""
            },
            "type": "contourcarpet"
           }
          ],
          "heatmap": [
           {
            "colorbar": {
             "outlinewidth": 0,
             "ticks": ""
            },
            "colorscale": [
             [
              0,
              "#0d0887"
             ],
             [
              0.1111111111111111,
              "#46039f"
             ],
             [
              0.2222222222222222,
              "#7201a8"
             ],
             [
              0.3333333333333333,
              "#9c179e"
             ],
             [
              0.4444444444444444,
              "#bd3786"
             ],
             [
              0.5555555555555556,
              "#d8576b"
             ],
             [
              0.6666666666666666,
              "#ed7953"
             ],
             [
              0.7777777777777778,
              "#fb9f3a"
             ],
             [
              0.8888888888888888,
              "#fdca26"
             ],
             [
              1,
              "#f0f921"
             ]
            ],
            "type": "heatmap"
           }
          ],
          "heatmapgl": [
           {
            "colorbar": {
             "outlinewidth": 0,
             "ticks": ""
            },
            "colorscale": [
             [
              0,
              "#0d0887"
             ],
             [
              0.1111111111111111,
              "#46039f"
             ],
             [
              0.2222222222222222,
              "#7201a8"
             ],
             [
              0.3333333333333333,
              "#9c179e"
             ],
             [
              0.4444444444444444,
              "#bd3786"
             ],
             [
              0.5555555555555556,
              "#d8576b"
             ],
             [
              0.6666666666666666,
              "#ed7953"
             ],
             [
              0.7777777777777778,
              "#fb9f3a"
             ],
             [
              0.8888888888888888,
              "#fdca26"
             ],
             [
              1,
              "#f0f921"
             ]
            ],
            "type": "heatmapgl"
           }
          ],
          "histogram": [
           {
            "marker": {
             "colorbar": {
              "outlinewidth": 0,
              "ticks": ""
             }
            },
            "type": "histogram"
           }
          ],
          "histogram2d": [
           {
            "colorbar": {
             "outlinewidth": 0,
             "ticks": ""
            },
            "colorscale": [
             [
              0,
              "#0d0887"
             ],
             [
              0.1111111111111111,
              "#46039f"
             ],
             [
              0.2222222222222222,
              "#7201a8"
             ],
             [
              0.3333333333333333,
              "#9c179e"
             ],
             [
              0.4444444444444444,
              "#bd3786"
             ],
             [
              0.5555555555555556,
              "#d8576b"
             ],
             [
              0.6666666666666666,
              "#ed7953"
             ],
             [
              0.7777777777777778,
              "#fb9f3a"
             ],
             [
              0.8888888888888888,
              "#fdca26"
             ],
             [
              1,
              "#f0f921"
             ]
            ],
            "type": "histogram2d"
           }
          ],
          "histogram2dcontour": [
           {
            "colorbar": {
             "outlinewidth": 0,
             "ticks": ""
            },
            "colorscale": [
             [
              0,
              "#0d0887"
             ],
             [
              0.1111111111111111,
              "#46039f"
             ],
             [
              0.2222222222222222,
              "#7201a8"
             ],
             [
              0.3333333333333333,
              "#9c179e"
             ],
             [
              0.4444444444444444,
              "#bd3786"
             ],
             [
              0.5555555555555556,
              "#d8576b"
             ],
             [
              0.6666666666666666,
              "#ed7953"
             ],
             [
              0.7777777777777778,
              "#fb9f3a"
             ],
             [
              0.8888888888888888,
              "#fdca26"
             ],
             [
              1,
              "#f0f921"
             ]
            ],
            "type": "histogram2dcontour"
           }
          ],
          "mesh3d": [
           {
            "colorbar": {
             "outlinewidth": 0,
             "ticks": ""
            },
            "type": "mesh3d"
           }
          ],
          "parcoords": [
           {
            "line": {
             "colorbar": {
              "outlinewidth": 0,
              "ticks": ""
             }
            },
            "type": "parcoords"
           }
          ],
          "pie": [
           {
            "automargin": true,
            "type": "pie"
           }
          ],
          "scatter": [
           {
            "marker": {
             "colorbar": {
              "outlinewidth": 0,
              "ticks": ""
             }
            },
            "type": "scatter"
           }
          ],
          "scatter3d": [
           {
            "line": {
             "colorbar": {
              "outlinewidth": 0,
              "ticks": ""
             }
            },
            "marker": {
             "colorbar": {
              "outlinewidth": 0,
              "ticks": ""
             }
            },
            "type": "scatter3d"
           }
          ],
          "scattercarpet": [
           {
            "marker": {
             "colorbar": {
              "outlinewidth": 0,
              "ticks": ""
             }
            },
            "type": "scattercarpet"
           }
          ],
          "scattergeo": [
           {
            "marker": {
             "colorbar": {
              "outlinewidth": 0,
              "ticks": ""
             }
            },
            "type": "scattergeo"
           }
          ],
          "scattergl": [
           {
            "marker": {
             "colorbar": {
              "outlinewidth": 0,
              "ticks": ""
             }
            },
            "type": "scattergl"
           }
          ],
          "scattermapbox": [
           {
            "marker": {
             "colorbar": {
              "outlinewidth": 0,
              "ticks": ""
             }
            },
            "type": "scattermapbox"
           }
          ],
          "scatterpolar": [
           {
            "marker": {
             "colorbar": {
              "outlinewidth": 0,
              "ticks": ""
             }
            },
            "type": "scatterpolar"
           }
          ],
          "scatterpolargl": [
           {
            "marker": {
             "colorbar": {
              "outlinewidth": 0,
              "ticks": ""
             }
            },
            "type": "scatterpolargl"
           }
          ],
          "scatterternary": [
           {
            "marker": {
             "colorbar": {
              "outlinewidth": 0,
              "ticks": ""
             }
            },
            "type": "scatterternary"
           }
          ],
          "surface": [
           {
            "colorbar": {
             "outlinewidth": 0,
             "ticks": ""
            },
            "colorscale": [
             [
              0,
              "#0d0887"
             ],
             [
              0.1111111111111111,
              "#46039f"
             ],
             [
              0.2222222222222222,
              "#7201a8"
             ],
             [
              0.3333333333333333,
              "#9c179e"
             ],
             [
              0.4444444444444444,
              "#bd3786"
             ],
             [
              0.5555555555555556,
              "#d8576b"
             ],
             [
              0.6666666666666666,
              "#ed7953"
             ],
             [
              0.7777777777777778,
              "#fb9f3a"
             ],
             [
              0.8888888888888888,
              "#fdca26"
             ],
             [
              1,
              "#f0f921"
             ]
            ],
            "type": "surface"
           }
          ],
          "table": [
           {
            "cells": {
             "fill": {
              "color": "#EBF0F8"
             },
             "line": {
              "color": "white"
             }
            },
            "header": {
             "fill": {
              "color": "#C8D4E3"
             },
             "line": {
              "color": "white"
             }
            },
            "type": "table"
           }
          ]
         },
         "layout": {
          "annotationdefaults": {
           "arrowcolor": "#2a3f5f",
           "arrowhead": 0,
           "arrowwidth": 1
          },
          "autotypenumbers": "strict",
          "coloraxis": {
           "colorbar": {
            "outlinewidth": 0,
            "ticks": ""
           }
          },
          "colorscale": {
           "diverging": [
            [
             0,
             "#8e0152"
            ],
            [
             0.1,
             "#c51b7d"
            ],
            [
             0.2,
             "#de77ae"
            ],
            [
             0.3,
             "#f1b6da"
            ],
            [
             0.4,
             "#fde0ef"
            ],
            [
             0.5,
             "#f7f7f7"
            ],
            [
             0.6,
             "#e6f5d0"
            ],
            [
             0.7,
             "#b8e186"
            ],
            [
             0.8,
             "#7fbc41"
            ],
            [
             0.9,
             "#4d9221"
            ],
            [
             1,
             "#276419"
            ]
           ],
           "sequential": [
            [
             0,
             "#0d0887"
            ],
            [
             0.1111111111111111,
             "#46039f"
            ],
            [
             0.2222222222222222,
             "#7201a8"
            ],
            [
             0.3333333333333333,
             "#9c179e"
            ],
            [
             0.4444444444444444,
             "#bd3786"
            ],
            [
             0.5555555555555556,
             "#d8576b"
            ],
            [
             0.6666666666666666,
             "#ed7953"
            ],
            [
             0.7777777777777778,
             "#fb9f3a"
            ],
            [
             0.8888888888888888,
             "#fdca26"
            ],
            [
             1,
             "#f0f921"
            ]
           ],
           "sequentialminus": [
            [
             0,
             "#0d0887"
            ],
            [
             0.1111111111111111,
             "#46039f"
            ],
            [
             0.2222222222222222,
             "#7201a8"
            ],
            [
             0.3333333333333333,
             "#9c179e"
            ],
            [
             0.4444444444444444,
             "#bd3786"
            ],
            [
             0.5555555555555556,
             "#d8576b"
            ],
            [
             0.6666666666666666,
             "#ed7953"
            ],
            [
             0.7777777777777778,
             "#fb9f3a"
            ],
            [
             0.8888888888888888,
             "#fdca26"
            ],
            [
             1,
             "#f0f921"
            ]
           ]
          },
          "colorway": [
           "#636efa",
           "#EF553B",
           "#00cc96",
           "#ab63fa",
           "#FFA15A",
           "#19d3f3",
           "#FF6692",
           "#B6E880",
           "#FF97FF",
           "#FECB52"
          ],
          "font": {
           "color": "#2a3f5f"
          },
          "geo": {
           "bgcolor": "white",
           "lakecolor": "white",
           "landcolor": "#E5ECF6",
           "showlakes": true,
           "showland": true,
           "subunitcolor": "white"
          },
          "hoverlabel": {
           "align": "left"
          },
          "hovermode": "closest",
          "mapbox": {
           "style": "light"
          },
          "paper_bgcolor": "white",
          "plot_bgcolor": "#E5ECF6",
          "polar": {
           "angularaxis": {
            "gridcolor": "white",
            "linecolor": "white",
            "ticks": ""
           },
           "bgcolor": "#E5ECF6",
           "radialaxis": {
            "gridcolor": "white",
            "linecolor": "white",
            "ticks": ""
           }
          },
          "scene": {
           "xaxis": {
            "backgroundcolor": "#E5ECF6",
            "gridcolor": "white",
            "gridwidth": 2,
            "linecolor": "white",
            "showbackground": true,
            "ticks": "",
            "zerolinecolor": "white"
           },
           "yaxis": {
            "backgroundcolor": "#E5ECF6",
            "gridcolor": "white",
            "gridwidth": 2,
            "linecolor": "white",
            "showbackground": true,
            "ticks": "",
            "zerolinecolor": "white"
           },
           "zaxis": {
            "backgroundcolor": "#E5ECF6",
            "gridcolor": "white",
            "gridwidth": 2,
            "linecolor": "white",
            "showbackground": true,
            "ticks": "",
            "zerolinecolor": "white"
           }
          },
          "shapedefaults": {
           "line": {
            "color": "#2a3f5f"
           }
          },
          "ternary": {
           "aaxis": {
            "gridcolor": "white",
            "linecolor": "white",
            "ticks": ""
           },
           "baxis": {
            "gridcolor": "white",
            "linecolor": "white",
            "ticks": ""
           },
           "bgcolor": "#E5ECF6",
           "caxis": {
            "gridcolor": "white",
            "linecolor": "white",
            "ticks": ""
           }
          },
          "title": {
           "x": 0.05
          },
          "xaxis": {
           "automargin": true,
           "gridcolor": "white",
           "linecolor": "white",
           "ticks": "",
           "title": {
            "standoff": 15
           },
           "zerolinecolor": "white",
           "zerolinewidth": 2
          },
          "yaxis": {
           "automargin": true,
           "gridcolor": "white",
           "linecolor": "white",
           "ticks": "",
           "title": {
            "standoff": 15
           },
           "zerolinecolor": "white",
           "zerolinewidth": 2
          }
         }
        }
       }
      }
     },
     "metadata": {},
     "output_type": "display_data"
    }
   ],
   "source": [
    "#compare hypertune accuracy score with other classifier\n",
    "import plotly.graph_objects as go\n",
    "\n",
    "fig = go.Figure(data=[\n",
    "    go.Bar(name='Logistic Regression', x=['Accuracy Score'], y=[0.61]),\n",
    "    go.Bar(name='Naive Bayes', x=['Accuracy Score'], y=[0.61]),\n",
    "    go.Bar(name='Decision Tree', x=['Accuracy Score'], y=[0.57]),\n",
    "    go.Bar(name='Random Forest', x=['Accuracy Score'], y=[0.58]),\n",
    "    go.Bar(name='Random Forest Hyperparameter Tuning', x=['Accuracy Score'], y=[0.61])\n",
    "])\n",
    "# Change the bar mode\n",
    "fig.update_layout(barmode='group')\n",
    "fig.show()\n",
    "    "
   ]
  },
  {
   "cell_type": "code",
   "execution_count": 74,
   "metadata": {},
   "outputs": [
    {
     "data": {
      "application/vnd.plotly.v1+json": {
       "config": {
        "plotlyServerURL": "https://plot.ly"
       },
       "data": [
        {
         "alignmentgroup": "True",
         "bingroup": "x",
         "hovertemplate": "result=D<br>round=%{x}<br>count=%{y}<extra></extra>",
         "legendgroup": "D",
         "marker": {
          "color": "#636efa"
         },
         "name": "D",
         "offsetgroup": "D",
         "orientation": "v",
         "showlegend": true,
         "type": "histogram",
         "x": [
          "Matchweek 1",
          "Matchweek 2",
          "Matchweek 6",
          "Matchweek 9",
          "Matchweek 21",
          "Matchweek 25",
          "Matchweek 8",
          "Matchweek 30",
          "Matchweek 3",
          "Matchweek 6",
          "Matchweek 7",
          "Matchweek 10",
          "Matchweek 18",
          "Matchweek 21",
          "Matchweek 32",
          "Matchweek 36",
          "Matchweek 5",
          "Matchweek 8",
          "Matchweek 10",
          "Matchweek 12",
          "Matchweek 15",
          "Matchweek 16",
          "Matchweek 19",
          "Matchweek 32",
          "Matchweek 33"
         ],
         "xaxis": "x",
         "yaxis": "y"
        },
        {
         "alignmentgroup": "True",
         "bingroup": "x",
         "hovertemplate": "result=L<br>round=%{x}<br>count=%{y}<extra></extra>",
         "legendgroup": "L",
         "marker": {
          "color": "#EF553B"
         },
         "name": "L",
         "offsetgroup": "L",
         "orientation": "v",
         "showlegend": true,
         "type": "histogram",
         "x": [
          "Matchweek 3",
          "Matchweek 10",
          "Matchweek 13",
          "Matchweek 14",
          "Matchweek 19",
          "Matchweek 20",
          "Matchweek 22",
          "Matchweek 27",
          "Matchweek 29",
          "Matchweek 11",
          "Matchweek 20",
          "Matchweek 4",
          "Matchweek 17",
          "Matchweek 18",
          "Matchweek 22",
          "Matchweek 23",
          "Matchweek 24",
          "Matchweek 25",
          "Matchweek 29",
          "Matchweek 27"
         ],
         "xaxis": "x",
         "yaxis": "y"
        },
        {
         "alignmentgroup": "True",
         "bingroup": "x",
         "hovertemplate": "result=W<br>round=%{x}<br>count=%{y}<extra></extra>",
         "legendgroup": "W",
         "marker": {
          "color": "#00cc96"
         },
         "name": "W",
         "offsetgroup": "W",
         "orientation": "v",
         "showlegend": true,
         "type": "histogram",
         "x": [
          "Matchweek 4",
          "Matchweek 5",
          "Matchweek 11",
          "Matchweek 12",
          "Matchweek 15",
          "Matchweek 16",
          "Matchweek 17",
          "Matchweek 18",
          "Matchweek 23",
          "Matchweek 24",
          "Matchweek 7",
          "Matchweek 26",
          "Matchweek 1",
          "Matchweek 2",
          "Matchweek 4",
          "Matchweek 5",
          "Matchweek 8",
          "Matchweek 9",
          "Matchweek 12",
          "Matchweek 13",
          "Matchweek 14",
          "Matchweek 15",
          "Matchweek 16",
          "Matchweek 17",
          "Matchweek 22",
          "Matchweek 23",
          "Matchweek 24",
          "Matchweek 25",
          "Matchweek 26",
          "Matchweek 19",
          "Matchweek 28",
          "Matchweek 29",
          "Matchweek 27",
          "Matchweek 31",
          "Matchweek 30",
          "Matchweek 34",
          "Matchweek 35",
          "Matchweek 33",
          "Matchweek 37",
          "Matchweek 38",
          "Matchweek 1",
          "Matchweek 2",
          "Matchweek 3",
          "Matchweek 6",
          "Matchweek 7",
          "Matchweek 9",
          "Matchweek 11",
          "Matchweek 13",
          "Matchweek 14",
          "Matchweek 20",
          "Matchweek 21",
          "Matchweek 26",
          "Matchweek 28",
          "Matchweek 30",
          "Matchweek 31",
          "Matchweek 35",
          "Matchweek 34",
          "Matchweek 36",
          "Matchweek 37",
          "Matchweek 38"
         ],
         "xaxis": "x",
         "yaxis": "y"
        }
       ],
       "layout": {
        "barmode": "relative",
        "legend": {
         "title": {
          "text": "result"
         },
         "tracegroupgap": 0
        },
        "margin": {
         "t": 60
        },
        "template": {
         "data": {
          "bar": [
           {
            "error_x": {
             "color": "#2a3f5f"
            },
            "error_y": {
             "color": "#2a3f5f"
            },
            "marker": {
             "line": {
              "color": "#E5ECF6",
              "width": 0.5
             }
            },
            "type": "bar"
           }
          ],
          "barpolar": [
           {
            "marker": {
             "line": {
              "color": "#E5ECF6",
              "width": 0.5
             }
            },
            "type": "barpolar"
           }
          ],
          "carpet": [
           {
            "aaxis": {
             "endlinecolor": "#2a3f5f",
             "gridcolor": "white",
             "linecolor": "white",
             "minorgridcolor": "white",
             "startlinecolor": "#2a3f5f"
            },
            "baxis": {
             "endlinecolor": "#2a3f5f",
             "gridcolor": "white",
             "linecolor": "white",
             "minorgridcolor": "white",
             "startlinecolor": "#2a3f5f"
            },
            "type": "carpet"
           }
          ],
          "choropleth": [
           {
            "colorbar": {
             "outlinewidth": 0,
             "ticks": ""
            },
            "type": "choropleth"
           }
          ],
          "contour": [
           {
            "colorbar": {
             "outlinewidth": 0,
             "ticks": ""
            },
            "colorscale": [
             [
              0,
              "#0d0887"
             ],
             [
              0.1111111111111111,
              "#46039f"
             ],
             [
              0.2222222222222222,
              "#7201a8"
             ],
             [
              0.3333333333333333,
              "#9c179e"
             ],
             [
              0.4444444444444444,
              "#bd3786"
             ],
             [
              0.5555555555555556,
              "#d8576b"
             ],
             [
              0.6666666666666666,
              "#ed7953"
             ],
             [
              0.7777777777777778,
              "#fb9f3a"
             ],
             [
              0.8888888888888888,
              "#fdca26"
             ],
             [
              1,
              "#f0f921"
             ]
            ],
            "type": "contour"
           }
          ],
          "contourcarpet": [
           {
            "colorbar": {
             "outlinewidth": 0,
             "ticks": ""
            },
            "type": "contourcarpet"
           }
          ],
          "heatmap": [
           {
            "colorbar": {
             "outlinewidth": 0,
             "ticks": ""
            },
            "colorscale": [
             [
              0,
              "#0d0887"
             ],
             [
              0.1111111111111111,
              "#46039f"
             ],
             [
              0.2222222222222222,
              "#7201a8"
             ],
             [
              0.3333333333333333,
              "#9c179e"
             ],
             [
              0.4444444444444444,
              "#bd3786"
             ],
             [
              0.5555555555555556,
              "#d8576b"
             ],
             [
              0.6666666666666666,
              "#ed7953"
             ],
             [
              0.7777777777777778,
              "#fb9f3a"
             ],
             [
              0.8888888888888888,
              "#fdca26"
             ],
             [
              1,
              "#f0f921"
             ]
            ],
            "type": "heatmap"
           }
          ],
          "heatmapgl": [
           {
            "colorbar": {
             "outlinewidth": 0,
             "ticks": ""
            },
            "colorscale": [
             [
              0,
              "#0d0887"
             ],
             [
              0.1111111111111111,
              "#46039f"
             ],
             [
              0.2222222222222222,
              "#7201a8"
             ],
             [
              0.3333333333333333,
              "#9c179e"
             ],
             [
              0.4444444444444444,
              "#bd3786"
             ],
             [
              0.5555555555555556,
              "#d8576b"
             ],
             [
              0.6666666666666666,
              "#ed7953"
             ],
             [
              0.7777777777777778,
              "#fb9f3a"
             ],
             [
              0.8888888888888888,
              "#fdca26"
             ],
             [
              1,
              "#f0f921"
             ]
            ],
            "type": "heatmapgl"
           }
          ],
          "histogram": [
           {
            "marker": {
             "colorbar": {
              "outlinewidth": 0,
              "ticks": ""
             }
            },
            "type": "histogram"
           }
          ],
          "histogram2d": [
           {
            "colorbar": {
             "outlinewidth": 0,
             "ticks": ""
            },
            "colorscale": [
             [
              0,
              "#0d0887"
             ],
             [
              0.1111111111111111,
              "#46039f"
             ],
             [
              0.2222222222222222,
              "#7201a8"
             ],
             [
              0.3333333333333333,
              "#9c179e"
             ],
             [
              0.4444444444444444,
              "#bd3786"
             ],
             [
              0.5555555555555556,
              "#d8576b"
             ],
             [
              0.6666666666666666,
              "#ed7953"
             ],
             [
              0.7777777777777778,
              "#fb9f3a"
             ],
             [
              0.8888888888888888,
              "#fdca26"
             ],
             [
              1,
              "#f0f921"
             ]
            ],
            "type": "histogram2d"
           }
          ],
          "histogram2dcontour": [
           {
            "colorbar": {
             "outlinewidth": 0,
             "ticks": ""
            },
            "colorscale": [
             [
              0,
              "#0d0887"
             ],
             [
              0.1111111111111111,
              "#46039f"
             ],
             [
              0.2222222222222222,
              "#7201a8"
             ],
             [
              0.3333333333333333,
              "#9c179e"
             ],
             [
              0.4444444444444444,
              "#bd3786"
             ],
             [
              0.5555555555555556,
              "#d8576b"
             ],
             [
              0.6666666666666666,
              "#ed7953"
             ],
             [
              0.7777777777777778,
              "#fb9f3a"
             ],
             [
              0.8888888888888888,
              "#fdca26"
             ],
             [
              1,
              "#f0f921"
             ]
            ],
            "type": "histogram2dcontour"
           }
          ],
          "mesh3d": [
           {
            "colorbar": {
             "outlinewidth": 0,
             "ticks": ""
            },
            "type": "mesh3d"
           }
          ],
          "parcoords": [
           {
            "line": {
             "colorbar": {
              "outlinewidth": 0,
              "ticks": ""
             }
            },
            "type": "parcoords"
           }
          ],
          "pie": [
           {
            "automargin": true,
            "type": "pie"
           }
          ],
          "scatter": [
           {
            "marker": {
             "colorbar": {
              "outlinewidth": 0,
              "ticks": ""
             }
            },
            "type": "scatter"
           }
          ],
          "scatter3d": [
           {
            "line": {
             "colorbar": {
              "outlinewidth": 0,
              "ticks": ""
             }
            },
            "marker": {
             "colorbar": {
              "outlinewidth": 0,
              "ticks": ""
             }
            },
            "type": "scatter3d"
           }
          ],
          "scattercarpet": [
           {
            "marker": {
             "colorbar": {
              "outlinewidth": 0,
              "ticks": ""
             }
            },
            "type": "scattercarpet"
           }
          ],
          "scattergeo": [
           {
            "marker": {
             "colorbar": {
              "outlinewidth": 0,
              "ticks": ""
             }
            },
            "type": "scattergeo"
           }
          ],
          "scattergl": [
           {
            "marker": {
             "colorbar": {
              "outlinewidth": 0,
              "ticks": ""
             }
            },
            "type": "scattergl"
           }
          ],
          "scattermapbox": [
           {
            "marker": {
             "colorbar": {
              "outlinewidth": 0,
              "ticks": ""
             }
            },
            "type": "scattermapbox"
           }
          ],
          "scatterpolar": [
           {
            "marker": {
             "colorbar": {
              "outlinewidth": 0,
              "ticks": ""
             }
            },
            "type": "scatterpolar"
           }
          ],
          "scatterpolargl": [
           {
            "marker": {
             "colorbar": {
              "outlinewidth": 0,
              "ticks": ""
             }
            },
            "type": "scatterpolargl"
           }
          ],
          "scatterternary": [
           {
            "marker": {
             "colorbar": {
              "outlinewidth": 0,
              "ticks": ""
             }
            },
            "type": "scatterternary"
           }
          ],
          "surface": [
           {
            "colorbar": {
             "outlinewidth": 0,
             "ticks": ""
            },
            "colorscale": [
             [
              0,
              "#0d0887"
             ],
             [
              0.1111111111111111,
              "#46039f"
             ],
             [
              0.2222222222222222,
              "#7201a8"
             ],
             [
              0.3333333333333333,
              "#9c179e"
             ],
             [
              0.4444444444444444,
              "#bd3786"
             ],
             [
              0.5555555555555556,
              "#d8576b"
             ],
             [
              0.6666666666666666,
              "#ed7953"
             ],
             [
              0.7777777777777778,
              "#fb9f3a"
             ],
             [
              0.8888888888888888,
              "#fdca26"
             ],
             [
              1,
              "#f0f921"
             ]
            ],
            "type": "surface"
           }
          ],
          "table": [
           {
            "cells": {
             "fill": {
              "color": "#EBF0F8"
             },
             "line": {
              "color": "white"
             }
            },
            "header": {
             "fill": {
              "color": "#C8D4E3"
             },
             "line": {
              "color": "white"
             }
            },
            "type": "table"
           }
          ]
         },
         "layout": {
          "annotationdefaults": {
           "arrowcolor": "#2a3f5f",
           "arrowhead": 0,
           "arrowwidth": 1
          },
          "autotypenumbers": "strict",
          "coloraxis": {
           "colorbar": {
            "outlinewidth": 0,
            "ticks": ""
           }
          },
          "colorscale": {
           "diverging": [
            [
             0,
             "#8e0152"
            ],
            [
             0.1,
             "#c51b7d"
            ],
            [
             0.2,
             "#de77ae"
            ],
            [
             0.3,
             "#f1b6da"
            ],
            [
             0.4,
             "#fde0ef"
            ],
            [
             0.5,
             "#f7f7f7"
            ],
            [
             0.6,
             "#e6f5d0"
            ],
            [
             0.7,
             "#b8e186"
            ],
            [
             0.8,
             "#7fbc41"
            ],
            [
             0.9,
             "#4d9221"
            ],
            [
             1,
             "#276419"
            ]
           ],
           "sequential": [
            [
             0,
             "#0d0887"
            ],
            [
             0.1111111111111111,
             "#46039f"
            ],
            [
             0.2222222222222222,
             "#7201a8"
            ],
            [
             0.3333333333333333,
             "#9c179e"
            ],
            [
             0.4444444444444444,
             "#bd3786"
            ],
            [
             0.5555555555555556,
             "#d8576b"
            ],
            [
             0.6666666666666666,
             "#ed7953"
            ],
            [
             0.7777777777777778,
             "#fb9f3a"
            ],
            [
             0.8888888888888888,
             "#fdca26"
            ],
            [
             1,
             "#f0f921"
            ]
           ],
           "sequentialminus": [
            [
             0,
             "#0d0887"
            ],
            [
             0.1111111111111111,
             "#46039f"
            ],
            [
             0.2222222222222222,
             "#7201a8"
            ],
            [
             0.3333333333333333,
             "#9c179e"
            ],
            [
             0.4444444444444444,
             "#bd3786"
            ],
            [
             0.5555555555555556,
             "#d8576b"
            ],
            [
             0.6666666666666666,
             "#ed7953"
            ],
            [
             0.7777777777777778,
             "#fb9f3a"
            ],
            [
             0.8888888888888888,
             "#fdca26"
            ],
            [
             1,
             "#f0f921"
            ]
           ]
          },
          "colorway": [
           "#636efa",
           "#EF553B",
           "#00cc96",
           "#ab63fa",
           "#FFA15A",
           "#19d3f3",
           "#FF6692",
           "#B6E880",
           "#FF97FF",
           "#FECB52"
          ],
          "font": {
           "color": "#2a3f5f"
          },
          "geo": {
           "bgcolor": "white",
           "lakecolor": "white",
           "landcolor": "#E5ECF6",
           "showlakes": true,
           "showland": true,
           "subunitcolor": "white"
          },
          "hoverlabel": {
           "align": "left"
          },
          "hovermode": "closest",
          "mapbox": {
           "style": "light"
          },
          "paper_bgcolor": "white",
          "plot_bgcolor": "#E5ECF6",
          "polar": {
           "angularaxis": {
            "gridcolor": "white",
            "linecolor": "white",
            "ticks": ""
           },
           "bgcolor": "#E5ECF6",
           "radialaxis": {
            "gridcolor": "white",
            "linecolor": "white",
            "ticks": ""
           }
          },
          "scene": {
           "xaxis": {
            "backgroundcolor": "#E5ECF6",
            "gridcolor": "white",
            "gridwidth": 2,
            "linecolor": "white",
            "showbackground": true,
            "ticks": "",
            "zerolinecolor": "white"
           },
           "yaxis": {
            "backgroundcolor": "#E5ECF6",
            "gridcolor": "white",
            "gridwidth": 2,
            "linecolor": "white",
            "showbackground": true,
            "ticks": "",
            "zerolinecolor": "white"
           },
           "zaxis": {
            "backgroundcolor": "#E5ECF6",
            "gridcolor": "white",
            "gridwidth": 2,
            "linecolor": "white",
            "showbackground": true,
            "ticks": "",
            "zerolinecolor": "white"
           }
          },
          "shapedefaults": {
           "line": {
            "color": "#2a3f5f"
           }
          },
          "ternary": {
           "aaxis": {
            "gridcolor": "white",
            "linecolor": "white",
            "ticks": ""
           },
           "baxis": {
            "gridcolor": "white",
            "linecolor": "white",
            "ticks": ""
           },
           "bgcolor": "#E5ECF6",
           "caxis": {
            "gridcolor": "white",
            "linecolor": "white",
            "ticks": ""
           }
          },
          "title": {
           "x": 0.05
          },
          "xaxis": {
           "automargin": true,
           "gridcolor": "white",
           "linecolor": "white",
           "ticks": "",
           "title": {
            "standoff": 15
           },
           "zerolinecolor": "white",
           "zerolinewidth": 2
          },
          "yaxis": {
           "automargin": true,
           "gridcolor": "white",
           "linecolor": "white",
           "ticks": "",
           "title": {
            "standoff": 15
           },
           "zerolinecolor": "white",
           "zerolinewidth": 2
          }
         }
        },
        "xaxis": {
         "anchor": "y",
         "domain": [
          0,
          1
         ],
         "title": {
          "text": "round"
         }
        },
        "yaxis": {
         "anchor": "x",
         "domain": [
          0,
          1
         ],
         "title": {
          "text": "count"
         }
        }
       }
      }
     },
     "metadata": {},
     "output_type": "display_data"
    }
   ],
   "source": [
    "#PLOTLY VISUALIZE LIVERPOOL MATCHES on the basis of round whether goal scored or not\n",
    "\n",
    "import plotly.express as px\n",
    "\n",
    "px.histogram(matches[matches[\"team\"] == \"Liverpool\"], x=\"round\", color=\"result\")\n"
   ]
  },
  {
   "cell_type": "code",
   "execution_count": 80,
   "metadata": {},
   "outputs": [
    {
     "data": {
      "application/vnd.plotly.v1+json": {
       "config": {
        "plotlyServerURL": "https://plot.ly"
       },
       "data": [
        {
         "alignmentgroup": "True",
         "bingroup": "x",
         "hovertemplate": "result=D<br>time=%{x}<br>count=%{y}<extra></extra>",
         "legendgroup": "D",
         "marker": {
          "color": "#636efa"
         },
         "name": "D",
         "offsetgroup": "D",
         "orientation": "v",
         "showlegend": true,
         "type": "histogram",
         "x": [
          "12:30",
          "20:00",
          "12:30",
          "15:00",
          "12:30",
          "19:45",
          "20:00",
          "16:30",
          "17:30",
          "17:30",
          "16:30",
          "15:00",
          "16:30",
          "16:30",
          "16:30",
          "19:45",
          "12:30",
          "16:30",
          "12:30",
          "16:30",
          "16:30",
          "20:00",
          "16:30",
          "20:00",
          "12:30"
         ],
         "xaxis": "x",
         "yaxis": "y"
        },
        {
         "alignmentgroup": "True",
         "bingroup": "x",
         "hovertemplate": "result=L<br>time=%{x}<br>count=%{y}<extra></extra>",
         "legendgroup": "L",
         "marker": {
          "color": "#EF553B"
         },
         "name": "L",
         "offsetgroup": "L",
         "orientation": "v",
         "showlegend": true,
         "type": "histogram",
         "x": [
          "20:00",
          "16:30",
          "12:30",
          "19:45",
          "17:30",
          "15:00",
          "15:00",
          "12:30",
          "12:30",
          "16:30",
          "20:00",
          "19:15",
          "20:00",
          "20:00",
          "20:15",
          "16:30",
          "12:30",
          "17:30",
          "20:15",
          "14:00"
         ],
         "xaxis": "x",
         "yaxis": "y"
        },
        {
         "alignmentgroup": "True",
         "bingroup": "x",
         "hovertemplate": "result=W<br>time=%{x}<br>count=%{y}<extra></extra>",
         "legendgroup": "W",
         "marker": {
          "color": "#00cc96"
         },
         "name": "W",
         "offsetgroup": "W",
         "orientation": "v",
         "showlegend": true,
         "type": "histogram",
         "x": [
          "15:00",
          "20:00",
          "16:30",
          "19:30",
          "16:30",
          "15:00",
          "17:30",
          "20:00",
          "20:00",
          "17:30",
          "20:00",
          "16:30",
          "17:30",
          "12:30",
          "16:30",
          "15:00",
          "12:30",
          "16:30",
          "17:30",
          "15:00",
          "20:15",
          "15:00",
          "15:00",
          "20:00",
          "14:00",
          "14:00",
          "19:45",
          "14:00",
          "15:00",
          "19:45",
          "17:30",
          "12:30",
          "20:15",
          "12:30",
          "20:00",
          "16:30",
          "12:30",
          "20:00",
          "19:45",
          "16:00",
          "17:30",
          "16:30",
          "20:00",
          "20:00",
          "17:30",
          "19:15",
          "19:15",
          "20:00",
          "12:30",
          "20:00",
          "16:30",
          "19:15",
          "20:00",
          "20:00",
          "15:00",
          "20:15",
          "20:15",
          "16:30",
          "20:15",
          "16:00"
         ],
         "xaxis": "x",
         "yaxis": "y"
        }
       ],
       "layout": {
        "barmode": "relative",
        "legend": {
         "title": {
          "text": "result"
         },
         "tracegroupgap": 0
        },
        "margin": {
         "t": 60
        },
        "template": {
         "data": {
          "bar": [
           {
            "error_x": {
             "color": "#2a3f5f"
            },
            "error_y": {
             "color": "#2a3f5f"
            },
            "marker": {
             "line": {
              "color": "#E5ECF6",
              "width": 0.5
             }
            },
            "type": "bar"
           }
          ],
          "barpolar": [
           {
            "marker": {
             "line": {
              "color": "#E5ECF6",
              "width": 0.5
             }
            },
            "type": "barpolar"
           }
          ],
          "carpet": [
           {
            "aaxis": {
             "endlinecolor": "#2a3f5f",
             "gridcolor": "white",
             "linecolor": "white",
             "minorgridcolor": "white",
             "startlinecolor": "#2a3f5f"
            },
            "baxis": {
             "endlinecolor": "#2a3f5f",
             "gridcolor": "white",
             "linecolor": "white",
             "minorgridcolor": "white",
             "startlinecolor": "#2a3f5f"
            },
            "type": "carpet"
           }
          ],
          "choropleth": [
           {
            "colorbar": {
             "outlinewidth": 0,
             "ticks": ""
            },
            "type": "choropleth"
           }
          ],
          "contour": [
           {
            "colorbar": {
             "outlinewidth": 0,
             "ticks": ""
            },
            "colorscale": [
             [
              0,
              "#0d0887"
             ],
             [
              0.1111111111111111,
              "#46039f"
             ],
             [
              0.2222222222222222,
              "#7201a8"
             ],
             [
              0.3333333333333333,
              "#9c179e"
             ],
             [
              0.4444444444444444,
              "#bd3786"
             ],
             [
              0.5555555555555556,
              "#d8576b"
             ],
             [
              0.6666666666666666,
              "#ed7953"
             ],
             [
              0.7777777777777778,
              "#fb9f3a"
             ],
             [
              0.8888888888888888,
              "#fdca26"
             ],
             [
              1,
              "#f0f921"
             ]
            ],
            "type": "contour"
           }
          ],
          "contourcarpet": [
           {
            "colorbar": {
             "outlinewidth": 0,
             "ticks": ""
            },
            "type": "contourcarpet"
           }
          ],
          "heatmap": [
           {
            "colorbar": {
             "outlinewidth": 0,
             "ticks": ""
            },
            "colorscale": [
             [
              0,
              "#0d0887"
             ],
             [
              0.1111111111111111,
              "#46039f"
             ],
             [
              0.2222222222222222,
              "#7201a8"
             ],
             [
              0.3333333333333333,
              "#9c179e"
             ],
             [
              0.4444444444444444,
              "#bd3786"
             ],
             [
              0.5555555555555556,
              "#d8576b"
             ],
             [
              0.6666666666666666,
              "#ed7953"
             ],
             [
              0.7777777777777778,
              "#fb9f3a"
             ],
             [
              0.8888888888888888,
              "#fdca26"
             ],
             [
              1,
              "#f0f921"
             ]
            ],
            "type": "heatmap"
           }
          ],
          "heatmapgl": [
           {
            "colorbar": {
             "outlinewidth": 0,
             "ticks": ""
            },
            "colorscale": [
             [
              0,
              "#0d0887"
             ],
             [
              0.1111111111111111,
              "#46039f"
             ],
             [
              0.2222222222222222,
              "#7201a8"
             ],
             [
              0.3333333333333333,
              "#9c179e"
             ],
             [
              0.4444444444444444,
              "#bd3786"
             ],
             [
              0.5555555555555556,
              "#d8576b"
             ],
             [
              0.6666666666666666,
              "#ed7953"
             ],
             [
              0.7777777777777778,
              "#fb9f3a"
             ],
             [
              0.8888888888888888,
              "#fdca26"
             ],
             [
              1,
              "#f0f921"
             ]
            ],
            "type": "heatmapgl"
           }
          ],
          "histogram": [
           {
            "marker": {
             "colorbar": {
              "outlinewidth": 0,
              "ticks": ""
             }
            },
            "type": "histogram"
           }
          ],
          "histogram2d": [
           {
            "colorbar": {
             "outlinewidth": 0,
             "ticks": ""
            },
            "colorscale": [
             [
              0,
              "#0d0887"
             ],
             [
              0.1111111111111111,
              "#46039f"
             ],
             [
              0.2222222222222222,
              "#7201a8"
             ],
             [
              0.3333333333333333,
              "#9c179e"
             ],
             [
              0.4444444444444444,
              "#bd3786"
             ],
             [
              0.5555555555555556,
              "#d8576b"
             ],
             [
              0.6666666666666666,
              "#ed7953"
             ],
             [
              0.7777777777777778,
              "#fb9f3a"
             ],
             [
              0.8888888888888888,
              "#fdca26"
             ],
             [
              1,
              "#f0f921"
             ]
            ],
            "type": "histogram2d"
           }
          ],
          "histogram2dcontour": [
           {
            "colorbar": {
             "outlinewidth": 0,
             "ticks": ""
            },
            "colorscale": [
             [
              0,
              "#0d0887"
             ],
             [
              0.1111111111111111,
              "#46039f"
             ],
             [
              0.2222222222222222,
              "#7201a8"
             ],
             [
              0.3333333333333333,
              "#9c179e"
             ],
             [
              0.4444444444444444,
              "#bd3786"
             ],
             [
              0.5555555555555556,
              "#d8576b"
             ],
             [
              0.6666666666666666,
              "#ed7953"
             ],
             [
              0.7777777777777778,
              "#fb9f3a"
             ],
             [
              0.8888888888888888,
              "#fdca26"
             ],
             [
              1,
              "#f0f921"
             ]
            ],
            "type": "histogram2dcontour"
           }
          ],
          "mesh3d": [
           {
            "colorbar": {
             "outlinewidth": 0,
             "ticks": ""
            },
            "type": "mesh3d"
           }
          ],
          "parcoords": [
           {
            "line": {
             "colorbar": {
              "outlinewidth": 0,
              "ticks": ""
             }
            },
            "type": "parcoords"
           }
          ],
          "pie": [
           {
            "automargin": true,
            "type": "pie"
           }
          ],
          "scatter": [
           {
            "marker": {
             "colorbar": {
              "outlinewidth": 0,
              "ticks": ""
             }
            },
            "type": "scatter"
           }
          ],
          "scatter3d": [
           {
            "line": {
             "colorbar": {
              "outlinewidth": 0,
              "ticks": ""
             }
            },
            "marker": {
             "colorbar": {
              "outlinewidth": 0,
              "ticks": ""
             }
            },
            "type": "scatter3d"
           }
          ],
          "scattercarpet": [
           {
            "marker": {
             "colorbar": {
              "outlinewidth": 0,
              "ticks": ""
             }
            },
            "type": "scattercarpet"
           }
          ],
          "scattergeo": [
           {
            "marker": {
             "colorbar": {
              "outlinewidth": 0,
              "ticks": ""
             }
            },
            "type": "scattergeo"
           }
          ],
          "scattergl": [
           {
            "marker": {
             "colorbar": {
              "outlinewidth": 0,
              "ticks": ""
             }
            },
            "type": "scattergl"
           }
          ],
          "scattermapbox": [
           {
            "marker": {
             "colorbar": {
              "outlinewidth": 0,
              "ticks": ""
             }
            },
            "type": "scattermapbox"
           }
          ],
          "scatterpolar": [
           {
            "marker": {
             "colorbar": {
              "outlinewidth": 0,
              "ticks": ""
             }
            },
            "type": "scatterpolar"
           }
          ],
          "scatterpolargl": [
           {
            "marker": {
             "colorbar": {
              "outlinewidth": 0,
              "ticks": ""
             }
            },
            "type": "scatterpolargl"
           }
          ],
          "scatterternary": [
           {
            "marker": {
             "colorbar": {
              "outlinewidth": 0,
              "ticks": ""
             }
            },
            "type": "scatterternary"
           }
          ],
          "surface": [
           {
            "colorbar": {
             "outlinewidth": 0,
             "ticks": ""
            },
            "colorscale": [
             [
              0,
              "#0d0887"
             ],
             [
              0.1111111111111111,
              "#46039f"
             ],
             [
              0.2222222222222222,
              "#7201a8"
             ],
             [
              0.3333333333333333,
              "#9c179e"
             ],
             [
              0.4444444444444444,
              "#bd3786"
             ],
             [
              0.5555555555555556,
              "#d8576b"
             ],
             [
              0.6666666666666666,
              "#ed7953"
             ],
             [
              0.7777777777777778,
              "#fb9f3a"
             ],
             [
              0.8888888888888888,
              "#fdca26"
             ],
             [
              1,
              "#f0f921"
             ]
            ],
            "type": "surface"
           }
          ],
          "table": [
           {
            "cells": {
             "fill": {
              "color": "#EBF0F8"
             },
             "line": {
              "color": "white"
             }
            },
            "header": {
             "fill": {
              "color": "#C8D4E3"
             },
             "line": {
              "color": "white"
             }
            },
            "type": "table"
           }
          ]
         },
         "layout": {
          "annotationdefaults": {
           "arrowcolor": "#2a3f5f",
           "arrowhead": 0,
           "arrowwidth": 1
          },
          "autotypenumbers": "strict",
          "coloraxis": {
           "colorbar": {
            "outlinewidth": 0,
            "ticks": ""
           }
          },
          "colorscale": {
           "diverging": [
            [
             0,
             "#8e0152"
            ],
            [
             0.1,
             "#c51b7d"
            ],
            [
             0.2,
             "#de77ae"
            ],
            [
             0.3,
             "#f1b6da"
            ],
            [
             0.4,
             "#fde0ef"
            ],
            [
             0.5,
             "#f7f7f7"
            ],
            [
             0.6,
             "#e6f5d0"
            ],
            [
             0.7,
             "#b8e186"
            ],
            [
             0.8,
             "#7fbc41"
            ],
            [
             0.9,
             "#4d9221"
            ],
            [
             1,
             "#276419"
            ]
           ],
           "sequential": [
            [
             0,
             "#0d0887"
            ],
            [
             0.1111111111111111,
             "#46039f"
            ],
            [
             0.2222222222222222,
             "#7201a8"
            ],
            [
             0.3333333333333333,
             "#9c179e"
            ],
            [
             0.4444444444444444,
             "#bd3786"
            ],
            [
             0.5555555555555556,
             "#d8576b"
            ],
            [
             0.6666666666666666,
             "#ed7953"
            ],
            [
             0.7777777777777778,
             "#fb9f3a"
            ],
            [
             0.8888888888888888,
             "#fdca26"
            ],
            [
             1,
             "#f0f921"
            ]
           ],
           "sequentialminus": [
            [
             0,
             "#0d0887"
            ],
            [
             0.1111111111111111,
             "#46039f"
            ],
            [
             0.2222222222222222,
             "#7201a8"
            ],
            [
             0.3333333333333333,
             "#9c179e"
            ],
            [
             0.4444444444444444,
             "#bd3786"
            ],
            [
             0.5555555555555556,
             "#d8576b"
            ],
            [
             0.6666666666666666,
             "#ed7953"
            ],
            [
             0.7777777777777778,
             "#fb9f3a"
            ],
            [
             0.8888888888888888,
             "#fdca26"
            ],
            [
             1,
             "#f0f921"
            ]
           ]
          },
          "colorway": [
           "#636efa",
           "#EF553B",
           "#00cc96",
           "#ab63fa",
           "#FFA15A",
           "#19d3f3",
           "#FF6692",
           "#B6E880",
           "#FF97FF",
           "#FECB52"
          ],
          "font": {
           "color": "#2a3f5f"
          },
          "geo": {
           "bgcolor": "white",
           "lakecolor": "white",
           "landcolor": "#E5ECF6",
           "showlakes": true,
           "showland": true,
           "subunitcolor": "white"
          },
          "hoverlabel": {
           "align": "left"
          },
          "hovermode": "closest",
          "mapbox": {
           "style": "light"
          },
          "paper_bgcolor": "white",
          "plot_bgcolor": "#E5ECF6",
          "polar": {
           "angularaxis": {
            "gridcolor": "white",
            "linecolor": "white",
            "ticks": ""
           },
           "bgcolor": "#E5ECF6",
           "radialaxis": {
            "gridcolor": "white",
            "linecolor": "white",
            "ticks": ""
           }
          },
          "scene": {
           "xaxis": {
            "backgroundcolor": "#E5ECF6",
            "gridcolor": "white",
            "gridwidth": 2,
            "linecolor": "white",
            "showbackground": true,
            "ticks": "",
            "zerolinecolor": "white"
           },
           "yaxis": {
            "backgroundcolor": "#E5ECF6",
            "gridcolor": "white",
            "gridwidth": 2,
            "linecolor": "white",
            "showbackground": true,
            "ticks": "",
            "zerolinecolor": "white"
           },
           "zaxis": {
            "backgroundcolor": "#E5ECF6",
            "gridcolor": "white",
            "gridwidth": 2,
            "linecolor": "white",
            "showbackground": true,
            "ticks": "",
            "zerolinecolor": "white"
           }
          },
          "shapedefaults": {
           "line": {
            "color": "#2a3f5f"
           }
          },
          "ternary": {
           "aaxis": {
            "gridcolor": "white",
            "linecolor": "white",
            "ticks": ""
           },
           "baxis": {
            "gridcolor": "white",
            "linecolor": "white",
            "ticks": ""
           },
           "bgcolor": "#E5ECF6",
           "caxis": {
            "gridcolor": "white",
            "linecolor": "white",
            "ticks": ""
           }
          },
          "title": {
           "x": 0.05
          },
          "xaxis": {
           "automargin": true,
           "gridcolor": "white",
           "linecolor": "white",
           "ticks": "",
           "title": {
            "standoff": 15
           },
           "zerolinecolor": "white",
           "zerolinewidth": 2
          },
          "yaxis": {
           "automargin": true,
           "gridcolor": "white",
           "linecolor": "white",
           "ticks": "",
           "title": {
            "standoff": 15
           },
           "zerolinecolor": "white",
           "zerolinewidth": 2
          }
         }
        },
        "xaxis": {
         "anchor": "y",
         "domain": [
          0,
          1
         ],
         "title": {
          "text": "time"
         }
        },
        "yaxis": {
         "anchor": "x",
         "domain": [
          0,
          1
         ],
         "title": {
          "text": "count"
         }
        }
       }
      }
     },
     "metadata": {},
     "output_type": "display_data"
    }
   ],
   "source": [
    "#PLOTLY VISUALIZE LIVERPOOL in ehich MATCHES time liverpool score most scored\n",
    "import plotly.express as px\n",
    "\n",
    "px.histogram(matches[matches[\"team\"] == \"Liverpool\"], x=\"time\", color=\"result\")\n"
   ]
  },
  {
   "cell_type": "code",
   "execution_count": 130,
   "metadata": {},
   "outputs": [
    {
     "data": {
      "text/html": [
       "<div>\n",
       "<style scoped>\n",
       "    .dataframe tbody tr th:only-of-type {\n",
       "        vertical-align: middle;\n",
       "    }\n",
       "\n",
       "    .dataframe tbody tr th {\n",
       "        vertical-align: top;\n",
       "    }\n",
       "\n",
       "    .dataframe thead th {\n",
       "        text-align: right;\n",
       "    }\n",
       "</style>\n",
       "<table border=\"1\" class=\"dataframe\">\n",
       "  <thead>\n",
       "    <tr style=\"text-align: right;\">\n",
       "      <th></th>\n",
       "      <th>date</th>\n",
       "      <th>time</th>\n",
       "      <th>round</th>\n",
       "      <th>day</th>\n",
       "      <th>venue</th>\n",
       "      <th>result</th>\n",
       "      <th>gf</th>\n",
       "      <th>ga</th>\n",
       "      <th>opponent</th>\n",
       "      <th>xg</th>\n",
       "      <th>...</th>\n",
       "      <th>fk</th>\n",
       "      <th>pk</th>\n",
       "      <th>pkatt</th>\n",
       "      <th>season</th>\n",
       "      <th>team</th>\n",
       "      <th>target</th>\n",
       "      <th>venue_code</th>\n",
       "      <th>opp_code</th>\n",
       "      <th>hour</th>\n",
       "      <th>day_code</th>\n",
       "    </tr>\n",
       "  </thead>\n",
       "  <tbody>\n",
       "    <tr>\n",
       "      <th>1</th>\n",
       "      <td>2022-08-06</td>\n",
       "      <td>12:30</td>\n",
       "      <td>Matchweek 1</td>\n",
       "      <td>Sat</td>\n",
       "      <td>Away</td>\n",
       "      <td>D</td>\n",
       "      <td>2.0</td>\n",
       "      <td>2.0</td>\n",
       "      <td>Fulham</td>\n",
       "      <td>1.2</td>\n",
       "      <td>...</td>\n",
       "      <td>0.0</td>\n",
       "      <td>0.0</td>\n",
       "      <td>0.0</td>\n",
       "      <td>2023</td>\n",
       "      <td>Liverpool</td>\n",
       "      <td>0</td>\n",
       "      <td>0</td>\n",
       "      <td>9</td>\n",
       "      <td>12</td>\n",
       "      <td>5</td>\n",
       "    </tr>\n",
       "    <tr>\n",
       "      <th>2</th>\n",
       "      <td>2022-08-15</td>\n",
       "      <td>20:00</td>\n",
       "      <td>Matchweek 2</td>\n",
       "      <td>Mon</td>\n",
       "      <td>Home</td>\n",
       "      <td>D</td>\n",
       "      <td>1.0</td>\n",
       "      <td>1.0</td>\n",
       "      <td>Crystal Palace</td>\n",
       "      <td>2.0</td>\n",
       "      <td>...</td>\n",
       "      <td>0.0</td>\n",
       "      <td>0.0</td>\n",
       "      <td>0.0</td>\n",
       "      <td>2023</td>\n",
       "      <td>Liverpool</td>\n",
       "      <td>0</td>\n",
       "      <td>1</td>\n",
       "      <td>7</td>\n",
       "      <td>20</td>\n",
       "      <td>0</td>\n",
       "    </tr>\n",
       "    <tr>\n",
       "      <th>3</th>\n",
       "      <td>2022-08-22</td>\n",
       "      <td>20:00</td>\n",
       "      <td>Matchweek 3</td>\n",
       "      <td>Mon</td>\n",
       "      <td>Away</td>\n",
       "      <td>L</td>\n",
       "      <td>1.0</td>\n",
       "      <td>2.0</td>\n",
       "      <td>Manchester Utd</td>\n",
       "      <td>1.3</td>\n",
       "      <td>...</td>\n",
       "      <td>0.0</td>\n",
       "      <td>0.0</td>\n",
       "      <td>0.0</td>\n",
       "      <td>2023</td>\n",
       "      <td>Liverpool</td>\n",
       "      <td>0</td>\n",
       "      <td>0</td>\n",
       "      <td>14</td>\n",
       "      <td>20</td>\n",
       "      <td>0</td>\n",
       "    </tr>\n",
       "    <tr>\n",
       "      <th>4</th>\n",
       "      <td>2022-08-27</td>\n",
       "      <td>15:00</td>\n",
       "      <td>Matchweek 4</td>\n",
       "      <td>Sat</td>\n",
       "      <td>Home</td>\n",
       "      <td>W</td>\n",
       "      <td>9.0</td>\n",
       "      <td>0.0</td>\n",
       "      <td>Bournemouth</td>\n",
       "      <td>3.3</td>\n",
       "      <td>...</td>\n",
       "      <td>0.0</td>\n",
       "      <td>0.0</td>\n",
       "      <td>0.0</td>\n",
       "      <td>2023</td>\n",
       "      <td>Liverpool</td>\n",
       "      <td>1</td>\n",
       "      <td>1</td>\n",
       "      <td>2</td>\n",
       "      <td>15</td>\n",
       "      <td>5</td>\n",
       "    </tr>\n",
       "    <tr>\n",
       "      <th>5</th>\n",
       "      <td>2022-08-31</td>\n",
       "      <td>20:00</td>\n",
       "      <td>Matchweek 5</td>\n",
       "      <td>Wed</td>\n",
       "      <td>Home</td>\n",
       "      <td>W</td>\n",
       "      <td>2.0</td>\n",
       "      <td>1.0</td>\n",
       "      <td>Newcastle Utd</td>\n",
       "      <td>1.5</td>\n",
       "      <td>...</td>\n",
       "      <td>0.0</td>\n",
       "      <td>0.0</td>\n",
       "      <td>0.0</td>\n",
       "      <td>2023</td>\n",
       "      <td>Liverpool</td>\n",
       "      <td>1</td>\n",
       "      <td>1</td>\n",
       "      <td>15</td>\n",
       "      <td>20</td>\n",
       "      <td>2</td>\n",
       "    </tr>\n",
       "    <tr>\n",
       "      <th>...</th>\n",
       "      <td>...</td>\n",
       "      <td>...</td>\n",
       "      <td>...</td>\n",
       "      <td>...</td>\n",
       "      <td>...</td>\n",
       "      <td>...</td>\n",
       "      <td>...</td>\n",
       "      <td>...</td>\n",
       "      <td>...</td>\n",
       "      <td>...</td>\n",
       "      <td>...</td>\n",
       "      <td>...</td>\n",
       "      <td>...</td>\n",
       "      <td>...</td>\n",
       "      <td>...</td>\n",
       "      <td>...</td>\n",
       "      <td>...</td>\n",
       "      <td>...</td>\n",
       "      <td>...</td>\n",
       "      <td>...</td>\n",
       "      <td>...</td>\n",
       "    </tr>\n",
       "    <tr>\n",
       "      <th>48</th>\n",
       "      <td>2021-05-08</td>\n",
       "      <td>20:15</td>\n",
       "      <td>Matchweek 35</td>\n",
       "      <td>Sat</td>\n",
       "      <td>Home</td>\n",
       "      <td>W</td>\n",
       "      <td>2.0</td>\n",
       "      <td>0.0</td>\n",
       "      <td>Southampton</td>\n",
       "      <td>1.7</td>\n",
       "      <td>...</td>\n",
       "      <td>0.0</td>\n",
       "      <td>0.0</td>\n",
       "      <td>0.0</td>\n",
       "      <td>2021</td>\n",
       "      <td>Liverpool</td>\n",
       "      <td>1</td>\n",
       "      <td>1</td>\n",
       "      <td>19</td>\n",
       "      <td>20</td>\n",
       "      <td>5</td>\n",
       "    </tr>\n",
       "    <tr>\n",
       "      <th>49</th>\n",
       "      <td>2021-05-13</td>\n",
       "      <td>20:15</td>\n",
       "      <td>Matchweek 34</td>\n",
       "      <td>Thu</td>\n",
       "      <td>Away</td>\n",
       "      <td>W</td>\n",
       "      <td>4.0</td>\n",
       "      <td>2.0</td>\n",
       "      <td>Manchester Utd</td>\n",
       "      <td>2.7</td>\n",
       "      <td>...</td>\n",
       "      <td>0.0</td>\n",
       "      <td>0.0</td>\n",
       "      <td>0.0</td>\n",
       "      <td>2021</td>\n",
       "      <td>Liverpool</td>\n",
       "      <td>1</td>\n",
       "      <td>0</td>\n",
       "      <td>14</td>\n",
       "      <td>20</td>\n",
       "      <td>3</td>\n",
       "    </tr>\n",
       "    <tr>\n",
       "      <th>50</th>\n",
       "      <td>2021-05-16</td>\n",
       "      <td>16:30</td>\n",
       "      <td>Matchweek 36</td>\n",
       "      <td>Sun</td>\n",
       "      <td>Away</td>\n",
       "      <td>W</td>\n",
       "      <td>2.0</td>\n",
       "      <td>1.0</td>\n",
       "      <td>West Brom</td>\n",
       "      <td>1.9</td>\n",
       "      <td>...</td>\n",
       "      <td>1.0</td>\n",
       "      <td>0.0</td>\n",
       "      <td>0.0</td>\n",
       "      <td>2021</td>\n",
       "      <td>Liverpool</td>\n",
       "      <td>1</td>\n",
       "      <td>0</td>\n",
       "      <td>22</td>\n",
       "      <td>16</td>\n",
       "      <td>6</td>\n",
       "    </tr>\n",
       "    <tr>\n",
       "      <th>51</th>\n",
       "      <td>2021-05-19</td>\n",
       "      <td>20:15</td>\n",
       "      <td>Matchweek 37</td>\n",
       "      <td>Wed</td>\n",
       "      <td>Away</td>\n",
       "      <td>W</td>\n",
       "      <td>3.0</td>\n",
       "      <td>0.0</td>\n",
       "      <td>Burnley</td>\n",
       "      <td>2.6</td>\n",
       "      <td>...</td>\n",
       "      <td>1.0</td>\n",
       "      <td>0.0</td>\n",
       "      <td>0.0</td>\n",
       "      <td>2021</td>\n",
       "      <td>Liverpool</td>\n",
       "      <td>1</td>\n",
       "      <td>0</td>\n",
       "      <td>5</td>\n",
       "      <td>20</td>\n",
       "      <td>2</td>\n",
       "    </tr>\n",
       "    <tr>\n",
       "      <th>52</th>\n",
       "      <td>2021-05-23</td>\n",
       "      <td>16:00</td>\n",
       "      <td>Matchweek 38</td>\n",
       "      <td>Sun</td>\n",
       "      <td>Home</td>\n",
       "      <td>W</td>\n",
       "      <td>2.0</td>\n",
       "      <td>0.0</td>\n",
       "      <td>Crystal Palace</td>\n",
       "      <td>1.6</td>\n",
       "      <td>...</td>\n",
       "      <td>1.0</td>\n",
       "      <td>0.0</td>\n",
       "      <td>0.0</td>\n",
       "      <td>2021</td>\n",
       "      <td>Liverpool</td>\n",
       "      <td>1</td>\n",
       "      <td>1</td>\n",
       "      <td>7</td>\n",
       "      <td>16</td>\n",
       "      <td>6</td>\n",
       "    </tr>\n",
       "  </tbody>\n",
       "</table>\n",
       "<p>105 rows × 30 columns</p>\n",
       "</div>"
      ],
      "text/plain": [
       "         date   time         round  day venue result   gf   ga  \\\n",
       "1  2022-08-06  12:30   Matchweek 1  Sat  Away      D  2.0  2.0   \n",
       "2  2022-08-15  20:00   Matchweek 2  Mon  Home      D  1.0  1.0   \n",
       "3  2022-08-22  20:00   Matchweek 3  Mon  Away      L  1.0  2.0   \n",
       "4  2022-08-27  15:00   Matchweek 4  Sat  Home      W  9.0  0.0   \n",
       "5  2022-08-31  20:00   Matchweek 5  Wed  Home      W  2.0  1.0   \n",
       "..        ...    ...           ...  ...   ...    ...  ...  ...   \n",
       "48 2021-05-08  20:15  Matchweek 35  Sat  Home      W  2.0  0.0   \n",
       "49 2021-05-13  20:15  Matchweek 34  Thu  Away      W  4.0  2.0   \n",
       "50 2021-05-16  16:30  Matchweek 36  Sun  Away      W  2.0  1.0   \n",
       "51 2021-05-19  20:15  Matchweek 37  Wed  Away      W  3.0  0.0   \n",
       "52 2021-05-23  16:00  Matchweek 38  Sun  Home      W  2.0  0.0   \n",
       "\n",
       "          opponent   xg  ...   fk   pk  pkatt season       team target  \\\n",
       "1           Fulham  1.2  ...  0.0  0.0    0.0   2023  Liverpool      0   \n",
       "2   Crystal Palace  2.0  ...  0.0  0.0    0.0   2023  Liverpool      0   \n",
       "3   Manchester Utd  1.3  ...  0.0  0.0    0.0   2023  Liverpool      0   \n",
       "4      Bournemouth  3.3  ...  0.0  0.0    0.0   2023  Liverpool      1   \n",
       "5    Newcastle Utd  1.5  ...  0.0  0.0    0.0   2023  Liverpool      1   \n",
       "..             ...  ...  ...  ...  ...    ...    ...        ...    ...   \n",
       "48     Southampton  1.7  ...  0.0  0.0    0.0   2021  Liverpool      1   \n",
       "49  Manchester Utd  2.7  ...  0.0  0.0    0.0   2021  Liverpool      1   \n",
       "50       West Brom  1.9  ...  1.0  0.0    0.0   2021  Liverpool      1   \n",
       "51         Burnley  2.6  ...  1.0  0.0    0.0   2021  Liverpool      1   \n",
       "52  Crystal Palace  1.6  ...  1.0  0.0    0.0   2021  Liverpool      1   \n",
       "\n",
       "   venue_code  opp_code  hour  day_code  \n",
       "1           0         9    12         5  \n",
       "2           1         7    20         0  \n",
       "3           0        14    20         0  \n",
       "4           1         2    15         5  \n",
       "5           1        15    20         2  \n",
       "..        ...       ...   ...       ...  \n",
       "48          1        19    20         5  \n",
       "49          0        14    20         3  \n",
       "50          0        22    16         6  \n",
       "51          0         5    20         2  \n",
       "52          1         7    16         6  \n",
       "\n",
       "[105 rows x 30 columns]"
      ]
     },
     "execution_count": 130,
     "metadata": {},
     "output_type": "execute_result"
    }
   ],
   "source": [
    "liverpool_matches = matches[matches[\"team\"] == \"Liverpool\"]\n",
    "liverpool_matches"
   ]
  },
  {
   "attachments": {},
   "cell_type": "markdown",
   "metadata": {},
   "source": [
    "# Model Hypothesis\n",
    " \n",
    "a) Hypothesis : Liverpool will score more goals at home than away\n",
    "\n",
    "\n",
    "b) Hypothesis : Liverpool will loss more matches at home than away\n",
    "\n",
    "\n",
    "c) Hypothesis : Liverpool will win delay more matches at home than away"
   ]
  },
  {
   "cell_type": "code",
   "execution_count": 142,
   "metadata": {},
   "outputs": [
    {
     "data": {
      "text/plain": [
       "W    34\n",
       "D    11\n",
       "L     7\n",
       "Name: result, dtype: int64"
      ]
     },
     "execution_count": 142,
     "metadata": {},
     "output_type": "execute_result"
    }
   ],
   "source": [
    "#count result when venue is home\n",
    "home = liverpool_matches[liverpool_matches[\"venue\"] == \"Home\"]\n",
    "home[\"result\"].value_counts()"
   ]
  },
  {
   "cell_type": "code",
   "execution_count": 143,
   "metadata": {},
   "outputs": [
    {
     "data": {
      "text/plain": [
       "W    26\n",
       "D    14\n",
       "L    13\n",
       "Name: result, dtype: int64"
      ]
     },
     "execution_count": 143,
     "metadata": {},
     "output_type": "execute_result"
    }
   ],
   "source": [
    "#count result when venue is home\n",
    "home = liverpool_matches[liverpool_matches[\"venue\"] == \"Away\"]\n",
    "home[\"result\"].value_counts()"
   ]
  },
  {
   "attachments": {},
   "cell_type": "markdown",
   "metadata": {},
   "source": [
    "# Result Hypothesis\n",
    "\n",
    "# a) Liverpool score more goals at home than away\n",
    "\n",
    "at home liverpool score is 34\n",
    "\n",
    "at away liverpool score is 26\n",
    "\n",
    "\n",
    "# b) Liverpool loss more matches at away than home\n",
    "\n",
    "at home liverpool loss is 7\n",
    "\n",
    "at away liverpool loss is 13\n",
    "\n",
    "\n",
    "# c) Liverpool delay more matches at away than home\n",
    "\n",
    "at home liverpool win delay is 11\n",
    "\n",
    "at away liverpool win delay is 14\n"
   ]
  },
  {
   "attachments": {},
   "cell_type": "markdown",
   "metadata": {},
   "source": [
    "# NLP (Natural Language Processing) TF-IDF"
   ]
  },
  {
   "cell_type": "code",
   "execution_count": 201,
   "metadata": {},
   "outputs": [],
   "source": [
    "import pandas as pd\n",
    "import numpy as np\n",
    "import re\n",
    "import nltk\n",
    "from collections import Counter\n",
    "import scipy.sparse as sp\n",
    "from numpy.linalg import norm\n"
   ]
  },
  {
   "cell_type": "code",
   "execution_count": 203,
   "metadata": {},
   "outputs": [],
   "source": [
    "#TFIDF\n",
    "\n",
    "class TFIDF(object):\n",
    "\n",
    "    def __init__(self, corpus):        \n",
    "        self.corpus = corpus\n",
    "        self.norm_corpus  = None        \n",
    "\n",
    "    def __normalize_corpus(self, d):\n",
    "        stop_words = nltk.corpus.stopwords.words('english')\n",
    "        d = re.sub(r'[^a-zA-Z0-9\\s]', '', d, re.I|re.A)\n",
    "        d = d.lower().strip()\n",
    "        tks = nltk.word_tokenize(d)\n",
    "        f_tks = [t for t in tks if t not in stop_words]\n",
    "        return ' '.join(f_tks)\n",
    "\n",
    "    def preprocessing_text(self):\n",
    "        n_c = np.vectorize(self.__normalize_corpus)\n",
    "        self.norm_corpus = n_c(self.corpus)\n",
    "\n",
    "    def tf(self):\n",
    "        words_array = [doc.split() for doc in self.norm_corpus]\n",
    "        words = list(set([word for words in words_array for word in words]))\n",
    "        features_dict = {w:0 for w in words}\n",
    "        tf = []\n",
    "        for doc in self.norm_corpus:\n",
    "            bowf_doc = Counter(doc.split())\n",
    "            all_f = Counter(features_dict)\n",
    "            bowf_doc.update(all_f)\n",
    "            tf.append(bowf_doc)\n",
    "        return pd.DataFrame(tf)\n",
    "\n",
    "    def df(self, tf):\n",
    "        features_names = list(tf.columns)\n",
    "        df = np.diff(sp.csc_matrix(tf, copy=True).indptr)\n",
    "        df = 1 + df\n",
    "        return df\n",
    "        \n",
    "    def idf(self, df):\n",
    "        N = 1 + len(self.norm_corpus)\n",
    "        idf = (1.0 + np.log(float(N) / df)) \n",
    "        idf_d = sp.spdiags(idf, diags= 0, m=len(df), n= len(df)).todense()      \n",
    "        return idf, idf_d\n",
    "\n",
    "    def tfidf(self, tf, idf):        \n",
    "        tf = np.array(tf, dtype='float64')\n",
    "        tfidf = tf * idf\n",
    "        norms = norm(tfidf , axis=1)\n",
    "        return (tfidf / norms[:,None])"
   ]
  },
  {
   "cell_type": "code",
   "execution_count": 217,
   "metadata": {},
   "outputs": [],
   "source": [
    "corpus = [\n",
    "\"Love is like pi – natural, irrational, and very important.\",\n",
    "\"Love is being stupid together.\",\n",
    "\"Love is sharing your popcorn.\",\n",
    "\"Love is like Heaven, but it can hurt like Hell.\"\n",
    "]\n",
    "\n",
    "obj = TFIDF(corpus)\n",
    "obj.preprocessing_text()"
   ]
  },
  {
   "cell_type": "code",
   "execution_count": 218,
   "metadata": {},
   "outputs": [
    {
     "data": {
      "text/html": [
       "<div>\n",
       "<style scoped>\n",
       "    .dataframe tbody tr th:only-of-type {\n",
       "        vertical-align: middle;\n",
       "    }\n",
       "\n",
       "    .dataframe tbody tr th {\n",
       "        vertical-align: top;\n",
       "    }\n",
       "\n",
       "    .dataframe thead th {\n",
       "        text-align: right;\n",
       "    }\n",
       "</style>\n",
       "<table border=\"1\" class=\"dataframe\">\n",
       "  <thead>\n",
       "    <tr style=\"text-align: right;\">\n",
       "      <th></th>\n",
       "      <th>love</th>\n",
       "      <th>like</th>\n",
       "      <th>pi</th>\n",
       "      <th>natural</th>\n",
       "      <th>irrational</th>\n",
       "      <th>important</th>\n",
       "      <th>together</th>\n",
       "      <th>sharing</th>\n",
       "      <th>popcorn</th>\n",
       "      <th>hurt</th>\n",
       "      <th>stupid</th>\n",
       "      <th>heaven</th>\n",
       "      <th>hell</th>\n",
       "    </tr>\n",
       "  </thead>\n",
       "  <tbody>\n",
       "    <tr>\n",
       "      <th>0</th>\n",
       "      <td>1</td>\n",
       "      <td>1</td>\n",
       "      <td>1</td>\n",
       "      <td>1</td>\n",
       "      <td>1</td>\n",
       "      <td>1</td>\n",
       "      <td>0</td>\n",
       "      <td>0</td>\n",
       "      <td>0</td>\n",
       "      <td>0</td>\n",
       "      <td>0</td>\n",
       "      <td>0</td>\n",
       "      <td>0</td>\n",
       "    </tr>\n",
       "    <tr>\n",
       "      <th>1</th>\n",
       "      <td>1</td>\n",
       "      <td>0</td>\n",
       "      <td>0</td>\n",
       "      <td>0</td>\n",
       "      <td>0</td>\n",
       "      <td>0</td>\n",
       "      <td>1</td>\n",
       "      <td>0</td>\n",
       "      <td>0</td>\n",
       "      <td>0</td>\n",
       "      <td>1</td>\n",
       "      <td>0</td>\n",
       "      <td>0</td>\n",
       "    </tr>\n",
       "    <tr>\n",
       "      <th>2</th>\n",
       "      <td>1</td>\n",
       "      <td>0</td>\n",
       "      <td>0</td>\n",
       "      <td>0</td>\n",
       "      <td>0</td>\n",
       "      <td>0</td>\n",
       "      <td>0</td>\n",
       "      <td>1</td>\n",
       "      <td>1</td>\n",
       "      <td>0</td>\n",
       "      <td>0</td>\n",
       "      <td>0</td>\n",
       "      <td>0</td>\n",
       "    </tr>\n",
       "    <tr>\n",
       "      <th>3</th>\n",
       "      <td>1</td>\n",
       "      <td>2</td>\n",
       "      <td>0</td>\n",
       "      <td>0</td>\n",
       "      <td>0</td>\n",
       "      <td>0</td>\n",
       "      <td>0</td>\n",
       "      <td>0</td>\n",
       "      <td>0</td>\n",
       "      <td>1</td>\n",
       "      <td>0</td>\n",
       "      <td>1</td>\n",
       "      <td>1</td>\n",
       "    </tr>\n",
       "  </tbody>\n",
       "</table>\n",
       "</div>"
      ],
      "text/plain": [
       "   love  like  pi  natural  irrational  important  together  sharing  popcorn  \\\n",
       "0     1     1   1        1           1          1         0        0        0   \n",
       "1     1     0   0        0           0          0         1        0        0   \n",
       "2     1     0   0        0           0          0         0        1        1   \n",
       "3     1     2   0        0           0          0         0        0        0   \n",
       "\n",
       "   hurt  stupid  heaven  hell  \n",
       "0     0       0       0     0  \n",
       "1     0       1       0     0  \n",
       "2     0       0       0     0  \n",
       "3     1       0       1     1  "
      ]
     },
     "execution_count": 218,
     "metadata": {},
     "output_type": "execute_result"
    }
   ],
   "source": [
    "tf = obj.tf()\n",
    "tf"
   ]
  },
  {
   "cell_type": "code",
   "execution_count": 219,
   "metadata": {},
   "outputs": [
    {
     "data": {
      "text/plain": [
       "array([5, 3, 2, 2, 2, 2, 2, 2, 2, 2, 2, 2, 2])"
      ]
     },
     "execution_count": 219,
     "metadata": {},
     "output_type": "execute_result"
    }
   ],
   "source": [
    "df = obj.df(tf)\n",
    "df"
   ]
  },
  {
   "cell_type": "code",
   "execution_count": 221,
   "metadata": {},
   "outputs": [
    {
     "data": {
      "text/plain": [
       "(array([1.        , 1.51082562, 1.91629073, 1.91629073, 1.91629073,\n",
       "        1.91629073, 1.91629073, 1.91629073, 1.91629073, 1.91629073,\n",
       "        1.91629073, 1.91629073, 1.91629073]),\n",
       " matrix([[1.        , 0.        , 0.        , 0.        , 0.        ,\n",
       "          0.        , 0.        , 0.        , 0.        , 0.        ,\n",
       "          0.        , 0.        , 0.        ],\n",
       "         [0.        , 1.51082562, 0.        , 0.        , 0.        ,\n",
       "          0.        , 0.        , 0.        , 0.        , 0.        ,\n",
       "          0.        , 0.        , 0.        ],\n",
       "         [0.        , 0.        , 1.91629073, 0.        , 0.        ,\n",
       "          0.        , 0.        , 0.        , 0.        , 0.        ,\n",
       "          0.        , 0.        , 0.        ],\n",
       "         [0.        , 0.        , 0.        , 1.91629073, 0.        ,\n",
       "          0.        , 0.        , 0.        , 0.        , 0.        ,\n",
       "          0.        , 0.        , 0.        ],\n",
       "         [0.        , 0.        , 0.        , 0.        , 1.91629073,\n",
       "          0.        , 0.        , 0.        , 0.        , 0.        ,\n",
       "          0.        , 0.        , 0.        ],\n",
       "         [0.        , 0.        , 0.        , 0.        , 0.        ,\n",
       "          1.91629073, 0.        , 0.        , 0.        , 0.        ,\n",
       "          0.        , 0.        , 0.        ],\n",
       "         [0.        , 0.        , 0.        , 0.        , 0.        ,\n",
       "          0.        , 1.91629073, 0.        , 0.        , 0.        ,\n",
       "          0.        , 0.        , 0.        ],\n",
       "         [0.        , 0.        , 0.        , 0.        , 0.        ,\n",
       "          0.        , 0.        , 1.91629073, 0.        , 0.        ,\n",
       "          0.        , 0.        , 0.        ],\n",
       "         [0.        , 0.        , 0.        , 0.        , 0.        ,\n",
       "          0.        , 0.        , 0.        , 1.91629073, 0.        ,\n",
       "          0.        , 0.        , 0.        ],\n",
       "         [0.        , 0.        , 0.        , 0.        , 0.        ,\n",
       "          0.        , 0.        , 0.        , 0.        , 1.91629073,\n",
       "          0.        , 0.        , 0.        ],\n",
       "         [0.        , 0.        , 0.        , 0.        , 0.        ,\n",
       "          0.        , 0.        , 0.        , 0.        , 0.        ,\n",
       "          1.91629073, 0.        , 0.        ],\n",
       "         [0.        , 0.        , 0.        , 0.        , 0.        ,\n",
       "          0.        , 0.        , 0.        , 0.        , 0.        ,\n",
       "          0.        , 1.91629073, 0.        ],\n",
       "         [0.        , 0.        , 0.        , 0.        , 0.        ,\n",
       "          0.        , 0.        , 0.        , 0.        , 0.        ,\n",
       "          0.        , 0.        , 1.91629073]]))"
      ]
     },
     "execution_count": 221,
     "metadata": {},
     "output_type": "execute_result"
    }
   ],
   "source": [
    "idf, idf_d = obj.idf(df)\n",
    "\n",
    "idf , idf_d"
   ]
  },
  {
   "cell_type": "code",
   "execution_count": 222,
   "metadata": {},
   "outputs": [
    {
     "data": {
      "text/plain": [
       "array([[0.23589056, 0.3563895 , 0.45203489, 0.45203489, 0.45203489,\n",
       "        0.45203489, 0.        , 0.        , 0.        , 0.        ,\n",
       "        0.        , 0.        , 0.        ],\n",
       "       [0.34618161, 0.        , 0.        , 0.        , 0.        ,\n",
       "        0.        , 0.66338461, 0.        , 0.        , 0.        ,\n",
       "        0.66338461, 0.        , 0.        ],\n",
       "       [0.34618161, 0.        , 0.        , 0.        , 0.        ,\n",
       "        0.        , 0.        , 0.66338461, 0.66338461, 0.        ,\n",
       "        0.        , 0.        , 0.        ],\n",
       "       [0.2174587 , 0.65708434, 0.        , 0.        , 0.        ,\n",
       "        0.        , 0.        , 0.        , 0.        , 0.41671408,\n",
       "        0.        , 0.41671408, 0.41671408]])"
      ]
     },
     "execution_count": 222,
     "metadata": {},
     "output_type": "execute_result"
    }
   ],
   "source": [
    "tfidf = obj.tfidf(tf, idf)\n",
    "tfidf"
   ]
  },
  {
   "cell_type": "code",
   "execution_count": 223,
   "metadata": {},
   "outputs": [
    {
     "data": {
      "text/html": [
       "<div>\n",
       "<style scoped>\n",
       "    .dataframe tbody tr th:only-of-type {\n",
       "        vertical-align: middle;\n",
       "    }\n",
       "\n",
       "    .dataframe tbody tr th {\n",
       "        vertical-align: top;\n",
       "    }\n",
       "\n",
       "    .dataframe thead th {\n",
       "        text-align: right;\n",
       "    }\n",
       "</style>\n",
       "<table border=\"1\" class=\"dataframe\">\n",
       "  <thead>\n",
       "    <tr style=\"text-align: right;\">\n",
       "      <th></th>\n",
       "      <th>heaven</th>\n",
       "      <th>hell</th>\n",
       "      <th>hurt</th>\n",
       "      <th>important</th>\n",
       "      <th>irrational</th>\n",
       "      <th>like</th>\n",
       "      <th>love</th>\n",
       "      <th>natural</th>\n",
       "      <th>pi</th>\n",
       "      <th>popcorn</th>\n",
       "      <th>sharing</th>\n",
       "      <th>stupid</th>\n",
       "      <th>together</th>\n",
       "    </tr>\n",
       "  </thead>\n",
       "  <tbody>\n",
       "    <tr>\n",
       "      <th>0</th>\n",
       "      <td>0.00</td>\n",
       "      <td>0.00</td>\n",
       "      <td>0.00</td>\n",
       "      <td>0.45</td>\n",
       "      <td>0.45</td>\n",
       "      <td>0.36</td>\n",
       "      <td>0.24</td>\n",
       "      <td>0.45</td>\n",
       "      <td>0.45</td>\n",
       "      <td>0.00</td>\n",
       "      <td>0.00</td>\n",
       "      <td>0.00</td>\n",
       "      <td>0.00</td>\n",
       "    </tr>\n",
       "    <tr>\n",
       "      <th>1</th>\n",
       "      <td>0.00</td>\n",
       "      <td>0.00</td>\n",
       "      <td>0.00</td>\n",
       "      <td>0.00</td>\n",
       "      <td>0.00</td>\n",
       "      <td>0.00</td>\n",
       "      <td>0.35</td>\n",
       "      <td>0.00</td>\n",
       "      <td>0.00</td>\n",
       "      <td>0.00</td>\n",
       "      <td>0.00</td>\n",
       "      <td>0.66</td>\n",
       "      <td>0.66</td>\n",
       "    </tr>\n",
       "    <tr>\n",
       "      <th>2</th>\n",
       "      <td>0.00</td>\n",
       "      <td>0.00</td>\n",
       "      <td>0.00</td>\n",
       "      <td>0.00</td>\n",
       "      <td>0.00</td>\n",
       "      <td>0.00</td>\n",
       "      <td>0.35</td>\n",
       "      <td>0.00</td>\n",
       "      <td>0.00</td>\n",
       "      <td>0.66</td>\n",
       "      <td>0.66</td>\n",
       "      <td>0.00</td>\n",
       "      <td>0.00</td>\n",
       "    </tr>\n",
       "    <tr>\n",
       "      <th>3</th>\n",
       "      <td>0.42</td>\n",
       "      <td>0.42</td>\n",
       "      <td>0.42</td>\n",
       "      <td>0.00</td>\n",
       "      <td>0.00</td>\n",
       "      <td>0.66</td>\n",
       "      <td>0.22</td>\n",
       "      <td>0.00</td>\n",
       "      <td>0.00</td>\n",
       "      <td>0.00</td>\n",
       "      <td>0.00</td>\n",
       "      <td>0.00</td>\n",
       "      <td>0.00</td>\n",
       "    </tr>\n",
       "  </tbody>\n",
       "</table>\n",
       "</div>"
      ],
      "text/plain": [
       "   heaven  hell  hurt  important  irrational  like  love  natural    pi  \\\n",
       "0    0.00  0.00  0.00       0.45        0.45  0.36  0.24     0.45  0.45   \n",
       "1    0.00  0.00  0.00       0.00        0.00  0.00  0.35     0.00  0.00   \n",
       "2    0.00  0.00  0.00       0.00        0.00  0.00  0.35     0.00  0.00   \n",
       "3    0.42  0.42  0.42       0.00        0.00  0.66  0.22     0.00  0.00   \n",
       "\n",
       "   popcorn  sharing  stupid  together  \n",
       "0     0.00     0.00    0.00      0.00  \n",
       "1     0.00     0.00    0.66      0.66  \n",
       "2     0.66     0.66    0.00      0.00  \n",
       "3     0.00     0.00    0.00      0.00  "
      ]
     },
     "execution_count": 223,
     "metadata": {},
     "output_type": "execute_result"
    }
   ],
   "source": [
    "df = pd.DataFrame(np.round(tfidf,2), columns= list(tf.columns))\n",
    "sorted_column_df = df.sort_index(axis=1)\n",
    "sorted_column_df"
   ]
  },
  {
   "attachments": {},
   "cell_type": "markdown",
   "metadata": {},
   "source": [
    "# Saving Data in Database like Mysql"
   ]
  },
  {
   "cell_type": "code",
   "execution_count": 75,
   "metadata": {},
   "outputs": [
    {
     "data": {
      "text/plain": [
       "Index(['date', 'time', 'round', 'day', 'venue', 'result', 'gf', 'ga',\n",
       "       'opponent', 'xg', 'xga', 'poss', 'attendance', 'captain', 'formation',\n",
       "       'referee', 'match report', 'sh', 'sot', 'dist', 'fk', 'pk', 'pkatt',\n",
       "       'season', 'team', 'target', 'venue_code', 'opp_code', 'hour',\n",
       "       'day_code'],\n",
       "      dtype='object')"
      ]
     },
     "execution_count": 75,
     "metadata": {},
     "output_type": "execute_result"
    }
   ],
   "source": [
    "#print all column name\n",
    "matches.columns"
   ]
  },
  {
   "cell_type": "code",
   "execution_count": 226,
   "metadata": {},
   "outputs": [
    {
     "name": "stdout",
     "output_type": "stream",
     "text": [
      "Collecting mysql-connector-python\n",
      "  Downloading mysql_connector_python-8.0.32-cp310-cp310-win_amd64.whl (7.9 MB)\n",
      "     ---------------------------------------- 0.0/7.9 MB ? eta -:--:--\n",
      "     ---------------------------------------- 0.0/7.9 MB 991.0 kB/s eta 0:00:08\n",
      "      --------------------------------------- 0.1/7.9 MB 1.4 MB/s eta 0:00:06\n",
      "     - -------------------------------------- 0.3/7.9 MB 2.2 MB/s eta 0:00:04\n",
      "     --- ------------------------------------ 0.6/7.9 MB 3.0 MB/s eta 0:00:03\n",
      "     ---- ----------------------------------- 1.0/7.9 MB 4.1 MB/s eta 0:00:02\n",
      "     ------ --------------------------------- 1.3/7.9 MB 4.2 MB/s eta 0:00:02\n",
      "     ------- -------------------------------- 1.5/7.9 MB 4.6 MB/s eta 0:00:02\n",
      "     ------- -------------------------------- 1.5/7.9 MB 4.6 MB/s eta 0:00:02\n",
      "     ------- -------------------------------- 1.6/7.9 MB 3.6 MB/s eta 0:00:02\n",
      "     -------- ------------------------------- 1.7/7.9 MB 3.4 MB/s eta 0:00:02\n",
      "     --------- ------------------------------ 1.8/7.9 MB 3.4 MB/s eta 0:00:02\n",
      "     --------- ------------------------------ 1.9/7.9 MB 3.4 MB/s eta 0:00:02\n",
      "     --------- ------------------------------ 1.9/7.9 MB 3.4 MB/s eta 0:00:02\n",
      "     --------- ------------------------------ 1.9/7.9 MB 2.8 MB/s eta 0:00:03\n",
      "     --------- ------------------------------ 1.9/7.9 MB 2.8 MB/s eta 0:00:03\n",
      "     ----------- ---------------------------- 2.2/7.9 MB 3.0 MB/s eta 0:00:02\n",
      "     ----------- ---------------------------- 2.3/7.9 MB 2.9 MB/s eta 0:00:02\n",
      "     ------------ --------------------------- 2.4/7.9 MB 2.8 MB/s eta 0:00:02\n",
      "     ------------- -------------------------- 2.6/7.9 MB 2.9 MB/s eta 0:00:02\n",
      "     ------------- -------------------------- 2.6/7.9 MB 2.9 MB/s eta 0:00:02\n",
      "     ------------- -------------------------- 2.6/7.9 MB 2.9 MB/s eta 0:00:02\n",
      "     ------------- -------------------------- 2.6/7.9 MB 2.9 MB/s eta 0:00:02\n",
      "     ------------- -------------------------- 2.6/7.9 MB 2.9 MB/s eta 0:00:02\n",
      "     -------------- ------------------------- 2.9/7.9 MB 2.5 MB/s eta 0:00:02\n",
      "     --------------- ------------------------ 3.0/7.9 MB 2.5 MB/s eta 0:00:02\n",
      "     --------------- ------------------------ 3.1/7.9 MB 2.5 MB/s eta 0:00:02\n",
      "     --------------- ------------------------ 3.1/7.9 MB 2.4 MB/s eta 0:00:02\n",
      "     --------------- ------------------------ 3.1/7.9 MB 2.3 MB/s eta 0:00:03\n",
      "     ----------------- ---------------------- 3.4/7.9 MB 2.4 MB/s eta 0:00:02\n",
      "     ----------------- ---------------------- 3.4/7.9 MB 2.4 MB/s eta 0:00:02\n",
      "     ----------------- ---------------------- 3.5/7.9 MB 2.4 MB/s eta 0:00:02\n",
      "     ----------------- ---------------------- 3.5/7.9 MB 2.3 MB/s eta 0:00:02\n",
      "     ------------------ --------------------- 3.6/7.9 MB 2.3 MB/s eta 0:00:02\n",
      "     ------------------- -------------------- 3.8/7.9 MB 2.3 MB/s eta 0:00:02\n",
      "     ------------------- -------------------- 3.8/7.9 MB 2.3 MB/s eta 0:00:02\n",
      "     ------------------- -------------------- 3.9/7.9 MB 2.2 MB/s eta 0:00:02\n",
      "     -------------------- ------------------- 4.0/7.9 MB 2.2 MB/s eta 0:00:02\n",
      "     -------------------- ------------------- 4.0/7.9 MB 2.2 MB/s eta 0:00:02\n",
      "     -------------------- ------------------- 4.1/7.9 MB 2.2 MB/s eta 0:00:02\n",
      "     --------------------- ------------------ 4.3/7.9 MB 2.2 MB/s eta 0:00:02\n",
      "     ---------------------- ----------------- 4.4/7.9 MB 2.2 MB/s eta 0:00:02\n",
      "     ---------------------- ----------------- 4.5/7.9 MB 2.2 MB/s eta 0:00:02\n",
      "     ---------------------- ----------------- 4.5/7.9 MB 2.2 MB/s eta 0:00:02\n",
      "     ----------------------- ---------------- 4.6/7.9 MB 2.1 MB/s eta 0:00:02\n",
      "     ----------------------- ---------------- 4.6/7.9 MB 2.1 MB/s eta 0:00:02\n",
      "     ----------------------- ---------------- 4.7/7.9 MB 2.1 MB/s eta 0:00:02\n",
      "     ----------------------- ---------------- 4.7/7.9 MB 2.1 MB/s eta 0:00:02\n",
      "     ------------------------ --------------- 4.8/7.9 MB 2.0 MB/s eta 0:00:02\n",
      "     ------------------------ --------------- 4.8/7.9 MB 2.0 MB/s eta 0:00:02\n",
      "     ------------------------ --------------- 4.8/7.9 MB 2.0 MB/s eta 0:00:02\n",
      "     ------------------------ --------------- 4.9/7.9 MB 2.0 MB/s eta 0:00:02\n",
      "     ------------------------ --------------- 4.9/7.9 MB 2.0 MB/s eta 0:00:02\n",
      "     ------------------------- -------------- 5.0/7.9 MB 1.9 MB/s eta 0:00:02\n",
      "     ------------------------- -------------- 5.0/7.9 MB 1.9 MB/s eta 0:00:02\n",
      "     ------------------------- -------------- 5.1/7.9 MB 1.9 MB/s eta 0:00:02\n",
      "     ------------------------- -------------- 5.1/7.9 MB 1.9 MB/s eta 0:00:02\n",
      "     -------------------------- ------------- 5.2/7.9 MB 1.9 MB/s eta 0:00:02\n",
      "     -------------------------- ------------- 5.2/7.9 MB 1.9 MB/s eta 0:00:02\n",
      "     -------------------------- ------------- 5.3/7.9 MB 1.9 MB/s eta 0:00:02\n",
      "     -------------------------- ------------- 5.3/7.9 MB 1.8 MB/s eta 0:00:02\n",
      "     --------------------------- ------------ 5.4/7.9 MB 1.8 MB/s eta 0:00:02\n",
      "     --------------------------- ------------ 5.4/7.9 MB 1.8 MB/s eta 0:00:02\n",
      "     --------------------------- ------------ 5.5/7.9 MB 1.8 MB/s eta 0:00:02\n",
      "     ---------------------------- ----------- 5.6/7.9 MB 1.8 MB/s eta 0:00:02\n",
      "     ---------------------------- ----------- 5.6/7.9 MB 1.8 MB/s eta 0:00:02\n",
      "     ---------------------------- ----------- 5.7/7.9 MB 1.8 MB/s eta 0:00:02\n",
      "     ----------------------------- ---------- 5.7/7.9 MB 1.8 MB/s eta 0:00:02\n",
      "     ----------------------------- ---------- 5.8/7.9 MB 1.8 MB/s eta 0:00:02\n",
      "     ----------------------------- ---------- 5.9/7.9 MB 1.7 MB/s eta 0:00:02\n",
      "     ----------------------------- ---------- 5.9/7.9 MB 1.7 MB/s eta 0:00:02\n",
      "     ------------------------------ --------- 6.0/7.9 MB 1.7 MB/s eta 0:00:02\n",
      "     ------------------------------ --------- 6.0/7.9 MB 1.7 MB/s eta 0:00:02\n",
      "     ------------------------------ --------- 6.1/7.9 MB 1.7 MB/s eta 0:00:02\n",
      "     ------------------------------- -------- 6.2/7.9 MB 1.7 MB/s eta 0:00:02\n",
      "     ------------------------------- -------- 6.2/7.9 MB 1.7 MB/s eta 0:00:02\n",
      "     ------------------------------- -------- 6.3/7.9 MB 1.7 MB/s eta 0:00:01\n",
      "     ------------------------------- -------- 6.3/7.9 MB 1.7 MB/s eta 0:00:01\n",
      "     -------------------------------- ------- 6.4/7.9 MB 1.7 MB/s eta 0:00:01\n",
      "     -------------------------------- ------- 6.4/7.9 MB 1.7 MB/s eta 0:00:01\n",
      "     -------------------------------- ------- 6.5/7.9 MB 1.7 MB/s eta 0:00:01\n",
      "     --------------------------------- ------ 6.6/7.9 MB 1.7 MB/s eta 0:00:01\n",
      "     --------------------------------- ------ 6.6/7.9 MB 1.7 MB/s eta 0:00:01\n",
      "     --------------------------------- ------ 6.7/7.9 MB 1.7 MB/s eta 0:00:01\n",
      "     ---------------------------------- ----- 6.8/7.9 MB 1.7 MB/s eta 0:00:01\n",
      "     ---------------------------------- ----- 6.8/7.9 MB 1.7 MB/s eta 0:00:01\n",
      "     ---------------------------------- ----- 6.9/7.9 MB 1.6 MB/s eta 0:00:01\n",
      "     ----------------------------------- ---- 6.9/7.9 MB 1.6 MB/s eta 0:00:01\n",
      "     ----------------------------------- ---- 7.0/7.9 MB 1.6 MB/s eta 0:00:01\n",
      "     ----------------------------------- ---- 7.1/7.9 MB 1.6 MB/s eta 0:00:01\n",
      "     ------------------------------------ --- 7.1/7.9 MB 1.6 MB/s eta 0:00:01\n",
      "     ------------------------------------ --- 7.2/7.9 MB 1.6 MB/s eta 0:00:01\n",
      "     ------------------------------------ --- 7.3/7.9 MB 1.6 MB/s eta 0:00:01\n",
      "     ------------------------------------- -- 7.4/7.9 MB 1.6 MB/s eta 0:00:01\n",
      "     ------------------------------------- -- 7.4/7.9 MB 1.6 MB/s eta 0:00:01\n",
      "     ------------------------------------- -- 7.5/7.9 MB 1.6 MB/s eta 0:00:01\n",
      "     -------------------------------------- - 7.6/7.9 MB 1.6 MB/s eta 0:00:01\n",
      "     -------------------------------------- - 7.7/7.9 MB 1.6 MB/s eta 0:00:01\n",
      "     ---------------------------------------  7.7/7.9 MB 1.6 MB/s eta 0:00:01\n",
      "     ---------------------------------------  7.8/7.9 MB 1.6 MB/s eta 0:00:01\n",
      "     ---------------------------------------  7.9/7.9 MB 1.6 MB/s eta 0:00:01\n",
      "     ---------------------------------------  7.9/7.9 MB 1.6 MB/s eta 0:00:01\n",
      "     ---------------------------------------  7.9/7.9 MB 1.6 MB/s eta 0:00:01\n",
      "     ---------------------------------------- 7.9/7.9 MB 1.6 MB/s eta 0:00:00\n",
      "Requirement already satisfied: protobuf<=3.20.3,>=3.11.0 in c:\\users\\usmar\\appdata\\local\\programs\\python\\python310\\lib\\site-packages (from mysql-connector-python) (3.19.6)\n",
      "Installing collected packages: mysql-connector-python\n",
      "Successfully installed mysql-connector-python-8.0.32\n"
     ]
    }
   ],
   "source": [
    "#install mysql connector\n",
    "!pip  install mysql-connector-python\n",
    "\n",
    "import mysql.connector"
   ]
  },
  {
   "attachments": {},
   "cell_type": "markdown",
   "metadata": {},
   "source": [
    "# You should replace the table_name, username, password, localhost, database_name, and the example data with your MySQL server credentials, table information, and the actual data you want to insert."
   ]
  },
  {
   "cell_type": "code",
   "execution_count": 227,
   "metadata": {},
   "outputs": [
    {
     "ename": "AttributeError",
     "evalue": "Unsupported argument 'UserWarning'",
     "output_type": "error",
     "traceback": [
      "\u001b[1;31m---------------------------------------------------------------------------\u001b[0m",
      "\u001b[1;31mAttributeError\u001b[0m                            Traceback (most recent call last)",
      "Cell \u001b[1;32mIn[227], line 3\u001b[0m\n\u001b[0;32m      1\u001b[0m \u001b[39m#store data in database like mysql\u001b[39;00m\n\u001b[1;32m----> 3\u001b[0m mydb \u001b[39m=\u001b[39m mysql\u001b[39m.\u001b[39;49mconnector\u001b[39m.\u001b[39;49mconnect(\n\u001b[0;32m      4\u001b[0m     host\u001b[39m=\u001b[39;49m\u001b[39m\"\u001b[39;49m\u001b[39mlocalhost\u001b[39;49m\u001b[39m\"\u001b[39;49m,\n\u001b[0;32m      5\u001b[0m     \u001b[39mUserWarning\u001b[39;49;00m\u001b[39m=\u001b[39;49m\u001b[39m\"\u001b[39;49m\u001b[39mroot\u001b[39;49m\u001b[39m\"\u001b[39;49m,\n\u001b[0;32m      6\u001b[0m     password\u001b[39m=\u001b[39;49m\u001b[39m\"\u001b[39;49m\u001b[39m\"\u001b[39;49m,\n\u001b[0;32m      7\u001b[0m     database\u001b[39m=\u001b[39;49m\u001b[39m\"\u001b[39;49m\u001b[39mfootball\u001b[39;49m\u001b[39m\"\u001b[39;49m\n\u001b[0;32m      8\u001b[0m )\n\u001b[0;32m     10\u001b[0m mycursor \u001b[39m=\u001b[39m mydb\u001b[39m.\u001b[39mcursor()\n\u001b[0;32m     12\u001b[0m \u001b[39m#mycursor.execute(\"CREATE DATABASE football\")\u001b[39;00m\n",
      "File \u001b[1;32mc:\\Users\\usmar\\AppData\\Local\\Programs\\Python\\Python310\\lib\\site-packages\\mysql\\connector\\pooling.py:293\u001b[0m, in \u001b[0;36mconnect\u001b[1;34m(*args, **kwargs)\u001b[0m\n\u001b[0;32m    290\u001b[0m         \u001b[39mraise\u001b[39;00m \u001b[39mImportError\u001b[39;00m(ERROR_NO_CEXT)\n\u001b[0;32m    292\u001b[0m \u001b[39mif\u001b[39;00m CMySQLConnection \u001b[39mand\u001b[39;00m \u001b[39mnot\u001b[39;00m use_pure:\n\u001b[1;32m--> 293\u001b[0m     \u001b[39mreturn\u001b[39;00m CMySQLConnection(\u001b[39m*\u001b[39margs, \u001b[39m*\u001b[39m\u001b[39m*\u001b[39mkwargs)\n\u001b[0;32m    294\u001b[0m \u001b[39mreturn\u001b[39;00m MySQLConnection(\u001b[39m*\u001b[39margs, \u001b[39m*\u001b[39m\u001b[39m*\u001b[39mkwargs)\n",
      "File \u001b[1;32mc:\\Users\\usmar\\AppData\\Local\\Programs\\Python\\Python310\\lib\\site-packages\\mysql\\connector\\connection_cext.py:118\u001b[0m, in \u001b[0;36mCMySQLConnection.__init__\u001b[1;34m(self, **kwargs)\u001b[0m\n\u001b[0;32m    115\u001b[0m \u001b[39msuper\u001b[39m()\u001b[39m.\u001b[39m\u001b[39m__init__\u001b[39m()\n\u001b[0;32m    117\u001b[0m \u001b[39mif\u001b[39;00m kwargs:\n\u001b[1;32m--> 118\u001b[0m     \u001b[39mself\u001b[39m\u001b[39m.\u001b[39mconnect(\u001b[39m*\u001b[39m\u001b[39m*\u001b[39mkwargs)\n",
      "File \u001b[1;32mc:\\Users\\usmar\\AppData\\Local\\Programs\\Python\\Python310\\lib\\site-packages\\mysql\\connector\\abstracts.py:1175\u001b[0m, in \u001b[0;36mMySQLConnectionAbstract.connect\u001b[1;34m(self, **kwargs)\u001b[0m\n\u001b[0;32m   1168\u001b[0m \u001b[39m\u001b[39m\u001b[39m\"\"\"Connect to the MySQL server\u001b[39;00m\n\u001b[0;32m   1169\u001b[0m \n\u001b[0;32m   1170\u001b[0m \u001b[39mThis method sets up the connection to the MySQL server. If no\u001b[39;00m\n\u001b[0;32m   1171\u001b[0m \u001b[39marguments are given, it will use the already configured or default\u001b[39;00m\n\u001b[0;32m   1172\u001b[0m \u001b[39mvalues.\u001b[39;00m\n\u001b[0;32m   1173\u001b[0m \u001b[39m\"\"\"\u001b[39;00m\n\u001b[0;32m   1174\u001b[0m \u001b[39mif\u001b[39;00m kwargs:\n\u001b[1;32m-> 1175\u001b[0m     \u001b[39mself\u001b[39m\u001b[39m.\u001b[39mconfig(\u001b[39m*\u001b[39m\u001b[39m*\u001b[39mkwargs)\n\u001b[0;32m   1177\u001b[0m \u001b[39mself\u001b[39m\u001b[39m.\u001b[39mdisconnect()\n\u001b[0;32m   1178\u001b[0m \u001b[39mself\u001b[39m\u001b[39m.\u001b[39m_open_connection()\n",
      "File \u001b[1;32mc:\\Users\\usmar\\AppData\\Local\\Programs\\Python\\Python310\\lib\\site-packages\\mysql\\connector\\abstracts.py:626\u001b[0m, in \u001b[0;36mMySQLConnectionAbstract.config\u001b[1;34m(self, **kwargs)\u001b[0m\n\u001b[0;32m    624\u001b[0m     DEFAULT_CONFIGURATION[key]\n\u001b[0;32m    625\u001b[0m \u001b[39mexcept\u001b[39;00m \u001b[39mKeyError\u001b[39;00m:\n\u001b[1;32m--> 626\u001b[0m     \u001b[39mraise\u001b[39;00m \u001b[39mAttributeError\u001b[39;00m(\u001b[39mf\u001b[39m\u001b[39m\"\u001b[39m\u001b[39mUnsupported argument \u001b[39m\u001b[39m'\u001b[39m\u001b[39m{\u001b[39;00mkey\u001b[39m}\u001b[39;00m\u001b[39m'\u001b[39m\u001b[39m\"\u001b[39m) \u001b[39mfrom\u001b[39;00m \u001b[39mNone\u001b[39m\n\u001b[0;32m    627\u001b[0m \u001b[39m# SSL Configuration\u001b[39;00m\n\u001b[0;32m    628\u001b[0m \u001b[39mif\u001b[39;00m key\u001b[39m.\u001b[39mstartswith(\u001b[39m\"\u001b[39m\u001b[39mssl_\u001b[39m\u001b[39m\"\u001b[39m):\n",
      "\u001b[1;31mAttributeError\u001b[0m: Unsupported argument 'UserWarning'"
     ]
    }
   ],
   "source": [
    "#store data in database like mysql\n",
    "\n",
    "mydb = mysql.connector.connect(\n",
    "    host=\"localhost\",\n",
    "    UserWarning=\"root\",\n",
    "    password=\"\",\n",
    "    database=\"football\",\n",
    ")\n",
    "\n",
    "mycursor = mydb.cursor()\n",
    "\n",
    "#mycursor.execute(\"CREATE DATABASE football\")\n",
    "\n",
    "mycursor.execute(\"SHOW DATABASES\")\n",
    "\n",
    "for x in mycursor:\n",
    "\n",
    "\n",
    "    print(x)\n",
    "\n",
    "#mycursor.execute(\"CREATE TABLE matches (id INT AUTO_INCREMENT PRIMARY KEY, team VARCHAR(255), round VARCHAR(255), venue VARCHAR(255), time VARCHAR(255), result VARCHAR(255))\")\n",
    "\n",
    "mycursor.execute(\"SHOW TABLES\")\n",
    "\n",
    "for x in mycursor:\n",
    "    print(x)\n",
    "\n",
    "#insert data in database\n",
    "sql = \"INSERT INTO matches (team, round, venue, time, result) VALUES (%s, %s, %s, %s, %s)\"\n",
    "val = [\n",
    "    ('Liverpool', '1', 'Home', '45', 'W'),\n",
    "    ('Liverpool', '2', 'Home', '45', 'W'),\n",
    "    ('Liverpool', '3', 'Home', '45', 'D'),\n",
    "    ('Liverpool', '4', 'Home', '45', 'D'),\n",
    "    ('Liverpool', '5', 'Home', '45', 'W'),\n",
    "    ('Liverpool', '6', 'Home', '45', 'Win'),\n",
    "    ('Liverpool', '7', 'Home', '45', 'D'),\n",
    "    ('Liverpool', '8', 'Home', '45', 'L'),\n",
    "    ('Liverpool', '9', 'Home', '45', 'L'),\n",
    "    ('Liverpool', '10', 'Home', '45', 'L'),\n",
    "    ('Liverpool', '11', 'Home', '45', 'L'),\n",
    "    ('Liverpool', '12', 'Home', '45', 'W'),\n",
    "    ('Liverpool', '13', 'Home', '45', 'L'),\n",
    "    ('Liverpool', '14', 'Home', '45', 'W'),\n",
    "\n",
    "]\n",
    "\n",
    "mycursor.executemany(sql, val)\n",
    "\n",
    "mydb.commit()\n",
    "\n",
    "print(mycursor.rowcount, \"was inserted.\")\n",
    "\n",
    "#select data from database\n",
    "mycursor.execute(\"SELECT * FROM matches\")\n",
    "\n",
    "myresult = mycursor.fetchall()\n",
    "\n",
    "for x in myresult:\n",
    "    print(x)\n"
   ]
  },
  {
   "cell_type": "code",
   "execution_count": null,
   "metadata": {},
   "outputs": [],
   "source": []
  }
 ],
 "metadata": {
  "kernelspec": {
   "display_name": "Python 3",
   "language": "python",
   "name": "python3"
  },
  "language_info": {
   "codemirror_mode": {
    "name": "ipython",
    "version": 3
   },
   "file_extension": ".py",
   "mimetype": "text/x-python",
   "name": "python",
   "nbconvert_exporter": "python",
   "pygments_lexer": "ipython3",
   "version": "3.10.6"
  },
  "orig_nbformat": 4
 },
 "nbformat": 4,
 "nbformat_minor": 2
}
